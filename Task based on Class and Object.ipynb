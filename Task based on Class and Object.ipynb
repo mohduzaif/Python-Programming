{
 "cells": [
  {
   "cell_type": "markdown",
   "id": "e38901c6-39c4-4902-a3be-10811d25b72f",
   "metadata": {},
   "source": [
    "### `Problem - 1 : ` Rectangle Class\n",
    "1. Write a Rectangle class in Python language, allowing you to build a rectangle with length and width attributes.\n",
    "\n",
    "2. Create a Perimeter() method to calculate the perimeter of the rectangle and a Area() method to calculate the area of ​​the rectangle.\n",
    "\n",
    "3. Create a method display() that display the length, width, perimeter and area of an object created using an instantiation on rectangle class."
   ]
  },
  {
   "cell_type": "code",
   "execution_count": 25,
   "id": "9544207e-6c4c-4737-b2e6-080e66dd41f7",
   "metadata": {},
   "outputs": [],
   "source": [
    "class Rectangle: \n",
    "\n",
    "    # parameterized constructor.\n",
    "    def __init__(self, length, width): \n",
    "        self.__length = length\n",
    "        self.__width = width \n",
    "        self.per = 0\n",
    "        self.ar = 0\n",
    "        print('Constructor Invoked')\n",
    "\n",
    "    def __perimeter(self): \n",
    "        return 2 * (self.__length + self.__width)\n",
    "        \n",
    "\n",
    "    def __area(self): \n",
    "        return (self.__length * self.__width)\n",
    "\n",
    "\n",
    "    def display(self): \n",
    "        print('Lenght of Rectangle : ', self.__length)\n",
    "        print('Widht of Rectangle : ', self.__width)\n",
    "        print('Perimeter of Rectangle : ', self.__perimeter()) \n",
    "        print('Area of Rectangle : ', self.__area())"
   ]
  },
  {
   "cell_type": "code",
   "execution_count": 26,
   "id": "cfa1caa9-1e4b-41bb-9743-fb1d54bfc7d3",
   "metadata": {},
   "outputs": [
    {
     "name": "stdout",
     "output_type": "stream",
     "text": [
      "Constructor Invoked\n"
     ]
    }
   ],
   "source": [
    "obj = Rectangle(2, 3)"
   ]
  },
  {
   "cell_type": "code",
   "execution_count": 27,
   "id": "c1512c77-35b0-42cf-9ed9-a58c3e1fcdad",
   "metadata": {},
   "outputs": [
    {
     "name": "stdout",
     "output_type": "stream",
     "text": [
      "Lenght of Rectangle :  2\n",
      "Widht of Rectangle :  3\n",
      "Perimeter of Rectangle :  10\n",
      "Area of Rectangle :  6\n"
     ]
    }
   ],
   "source": [
    "obj.display()"
   ]
  },
  {
   "cell_type": "markdown",
   "id": "8f98416d-96de-47bb-bdc7-4f7896525ca9",
   "metadata": {},
   "source": [
    "### ` Problem - 2 : Bank Class`\n",
    "\n",
    "1. Create a Python class called `BankAccount` which represents a bank account, having as attributes: `accountNumber` (numeric type), `name` (name of the account owner as string type), `balance`.\n",
    "2. Create a constructor with parameters: `accountNumber, name, balance`.\n",
    "3. Create a `Deposit()` method which manages the deposit actions.\n",
    "4. Create a `Withdrawal()` method  which manages withdrawals actions.\n",
    "5. Create an `bankFees()` method to apply the bank fees with a percentage of 5% of the balance account.\n",
    "6. Create a `display()` method to display account details.\n",
    "Give the complete code for the  BankAccount class."
   ]
  },
  {
   "cell_type": "code",
   "execution_count": 38,
   "id": "abfaf829-c96d-49b1-b5d1-af66b8527e84",
   "metadata": {},
   "outputs": [],
   "source": [
    "class BankAccount: \n",
    "\n",
    "    # Parametrized Constructor. \n",
    "    def __init__(self, accountNumber, name, balance): \n",
    "        self.__accountNumber = accountNumber\n",
    "        self.__name = name\n",
    "        self.__balance = balance\n",
    "        print('Constructor Invoked.')\n",
    "\n",
    "    # Display the details of customer. \n",
    "    def display(self): \n",
    "        print('Account Number : ', self.__accountNumber)\n",
    "        print('Account Name : ', self.__name)\n",
    "        print('Account Balance : ', self.__balance)\n",
    "\n",
    "    # deposit the amount \n",
    "    def deposit(self, amount):\n",
    "        self.__balance = self.__balance + amount\n",
    "\n",
    "    # withdrawal the amount \n",
    "    def withdrawal(self, amount):\n",
    "        bank_fees = self.__bankFees(amount)\n",
    "        if amount <= self.__balance + bank_fees: \n",
    "            self.__balance = self.__balance - amount - bank_fees\n",
    "        else: \n",
    "            print('Insufficient Funds')\n",
    "\n",
    "    # Bank fees reduction on the amount of withdrawal. \n",
    "    def __bankFees(self, amount): \n",
    "        return (.05 * amount)"
   ]
  },
  {
   "cell_type": "code",
   "execution_count": 39,
   "id": "41390b69-a685-4c34-a148-d0fb1567a0dc",
   "metadata": {},
   "outputs": [
    {
     "name": "stdout",
     "output_type": "stream",
     "text": [
      "Constructor Invoked.\n"
     ]
    }
   ],
   "source": [
    "customer = BankAccount(1234567, 'Nistish', 700)"
   ]
  },
  {
   "cell_type": "code",
   "execution_count": 40,
   "id": "56f7ca8f-b3e4-473c-8dea-9a2528c34a5a",
   "metadata": {},
   "outputs": [
    {
     "name": "stdout",
     "output_type": "stream",
     "text": [
      "Account Number :  1234567\n",
      "Account Name :  Nistish\n",
      "Account Balance :  580.0\n"
     ]
    }
   ],
   "source": [
    "customer.deposit(300)\n",
    "customer.withdrawal(400)\n",
    "customer.display()"
   ]
  },
  {
   "cell_type": "markdown",
   "id": "43b337fc-f8ef-45b4-be68-8a57733e6ea5",
   "metadata": {},
   "source": [
    "### `Problem - 3 : Computation class`\n",
    "\n",
    "1. Create a `Computation` class with a default constructor (without parameters) allowing to perform various calculations on integers numbers.\n",
    "2. Create a method called `Factorial()` which allows to calculate the factorial of an integer n. Integer n as parameter for this method\n",
    "\n",
    "3. Create a method called `naturalSum()` allowing to calculate the sum of the first n integers 1 + 2 + 3 + .. + n. Integer n as parameter for this method.\n",
    "\n",
    "4. Create a method called `testPrime()` in  the Calculation class to test the primality of a given integer n, n is Prime or Not? Integer n as parameter for this method.\n",
    "\n",
    "5. Create  a method called `testPrims()` allowing to test if two numbers are prime between them. Two integers are prime to one another if they have only `1` as their common divisor. Eg. 4 and 9 are prime to each other.\n",
    "\n",
    "5. Create a `tableMult()` method which creates and displays the multiplication table of a given integer. Then create an `allTablesMult()` method to display all the integer multiplication tables 1, 2, 3, ..., 9.\n",
    "\n",
    "6. Create a static `listDiv()` method that gets all the divisors of a given integer on new list called  Ldiv. Create another `listDivPrim()` method that gets all the prime divisors of a given integer."
   ]
  },
  {
   "cell_type": "code",
   "execution_count": 93,
   "id": "fcfe93f3-1698-4d37-a8cf-ced39cba9b24",
   "metadata": {},
   "outputs": [],
   "source": [
    "class Computation: \n",
    "\n",
    "    # Default Constructor\n",
    "    def __init__(self): \n",
    "        print('Constructor Invoked.') \n",
    "        \n",
    "    # calculate factorial of given number.     \n",
    "    def factorial(self, number): \n",
    "        fact = 1\n",
    "        for i in range(2, number + 1): \n",
    "            fact = fact * i   \n",
    "        return fact\n",
    "\n",
    "    # calculate natural sum of given number. \n",
    "    def natural_sum(self, number):\n",
    "        sum = 0\n",
    "        for i in range(1, number + 1): \n",
    "            sum = sum + i   \n",
    "        return sum \n",
    "\n",
    "    # Check whether a given number is prime or not. \n",
    "    def test_prime(self, number):\n",
    "        # base case. \n",
    "        if number == 2: \n",
    "            return True\n",
    "\n",
    "        for i in range(2, number): \n",
    "            if number % i == 0: \n",
    "                return False \n",
    "        return True\n",
    "\n",
    "    # Test prime of two number. \n",
    "    def test_prime_two(self, number1, number2): \n",
    "        \n",
    "        min_number = min(number1, number2)\n",
    "            \n",
    "        for i in range(2, min_number): \n",
    "            if number1 % i == 0 and number2 % i == 0: \n",
    "                return False \n",
    "        return True\n",
    "\n",
    "    # Table of given number. \n",
    "    def __table_mul(self, number): \n",
    "        for i in range(1, 11): \n",
    "            print('{} * {} = {}'.format(number, i, number * i))\n",
    "        print('*' * 50)\n",
    "\n",
    "    # tables of all number from 1 to given number. \n",
    "    def all_table_mul(self, number): \n",
    "        for i in range(1, number + 1): \n",
    "            self.__table_mul(i)\n",
    "\n",
    "    # get all divisor \n",
    "    def __listDiv(self, number): \n",
    "        Ldiv = [] \n",
    "        for i in range(2, number + 1): \n",
    "            if number % i == 0: \n",
    "                Ldiv.append(i) \n",
    "        return Ldiv\n",
    "\n",
    "    # find all prime divisor of given number. \n",
    "    def list_div_prime(self, number): \n",
    "        Ldiv = self.__listDiv(number)\n",
    "        prime_div = [] \n",
    "        for num in Ldiv: \n",
    "            if self.test_prime(num): \n",
    "                prime_div.append(num) \n",
    "        return prime_div"
   ]
  },
  {
   "cell_type": "code",
   "execution_count": 94,
   "id": "776b1b47-c2ba-415c-875e-bd1f9b1b4613",
   "metadata": {},
   "outputs": [
    {
     "name": "stdout",
     "output_type": "stream",
     "text": [
      "Constructor Invoked.\n"
     ]
    }
   ],
   "source": [
    "obj = Computation()"
   ]
  },
  {
   "cell_type": "code",
   "execution_count": 95,
   "id": "e02c524f-0d8d-4e04-9733-edc14f8dc308",
   "metadata": {},
   "outputs": [
    {
     "name": "stdout",
     "output_type": "stream",
     "text": [
      "120\n",
      "15\n",
      "True\n",
      "True\n",
      "1 * 1 = 1\n",
      "1 * 2 = 2\n",
      "1 * 3 = 3\n",
      "1 * 4 = 4\n",
      "1 * 5 = 5\n",
      "1 * 6 = 6\n",
      "1 * 7 = 7\n",
      "1 * 8 = 8\n",
      "1 * 9 = 9\n",
      "1 * 10 = 10\n",
      "**************************************************\n",
      "2 * 1 = 2\n",
      "2 * 2 = 4\n",
      "2 * 3 = 6\n",
      "2 * 4 = 8\n",
      "2 * 5 = 10\n",
      "2 * 6 = 12\n",
      "2 * 7 = 14\n",
      "2 * 8 = 16\n",
      "2 * 9 = 18\n",
      "2 * 10 = 20\n",
      "**************************************************\n",
      "3 * 1 = 3\n",
      "3 * 2 = 6\n",
      "3 * 3 = 9\n",
      "3 * 4 = 12\n",
      "3 * 5 = 15\n",
      "3 * 6 = 18\n",
      "3 * 7 = 21\n",
      "3 * 8 = 24\n",
      "3 * 9 = 27\n",
      "3 * 10 = 30\n",
      "**************************************************\n",
      "4 * 1 = 4\n",
      "4 * 2 = 8\n",
      "4 * 3 = 12\n",
      "4 * 4 = 16\n",
      "4 * 5 = 20\n",
      "4 * 6 = 24\n",
      "4 * 7 = 28\n",
      "4 * 8 = 32\n",
      "4 * 9 = 36\n",
      "4 * 10 = 40\n",
      "**************************************************\n",
      "5 * 1 = 5\n",
      "5 * 2 = 10\n",
      "5 * 3 = 15\n",
      "5 * 4 = 20\n",
      "5 * 5 = 25\n",
      "5 * 6 = 30\n",
      "5 * 7 = 35\n",
      "5 * 8 = 40\n",
      "5 * 9 = 45\n",
      "5 * 10 = 50\n",
      "**************************************************\n",
      "None\n",
      "[3, 5]\n"
     ]
    }
   ],
   "source": [
    "print(obj.factorial(5))\n",
    "print(obj.natural_sum(5))\n",
    "print(obj.test_prime(11))\n",
    "print(obj.test_prime_two(4, 9))\n",
    "print(obj.all_table_mul(5))\n",
    "print(obj.list_div_prime(15))"
   ]
  },
  {
   "cell_type": "markdown",
   "id": "0403e7a7-ae47-4283-8cab-1f423aa11287",
   "metadata": {},
   "source": [
    "### `Problem - 4 `: Build flashcard using class in Python.\n",
    "\n",
    "Build a flashcard using class in python. A flashcard is a card having information on both sides, which can be used as an aid in memoization. Flashcards usually have a question on one side and an answer on the other.\n",
    "\n",
    "**Example 1:**\n",
    "\n",
    "Approach:\n",
    "\n",
    "- Create a class named FlashCard.\n",
    "- Initialize dictionary fruits using __init__() method. Here you have to define fruit name as key and it's color as value. E.g., {\"Banana\": \"yellow\", \"Strawberries\": \"pink\"}\n",
    "- Now randomly choose a pair from fruits by using _random_ module and store the key in variable _fruit_ and _value_ in variable color.\n",
    "- Now prompt the user to answer the color of the randomly chosen fruit.\n",
    "- If correct print correct else print wrong.\n",
    "\n",
    "Output:\n",
    "```bash\n",
    "welcome to fruit quiz\n",
    "What is the color of Strawberries\n",
    "pink\n",
    "Correct answer\n",
    "Enter 0, if you want to play again: 0\n",
    "What is the color of watermelon\n",
    "green\n",
    "Correct answer\n",
    "Enter 0, if you want to play again: 1\n",
    "```"
   ]
  },
  {
   "cell_type": "code",
   "execution_count": 1,
   "id": "b9357273-df1c-4d5f-b48c-c2bdcf7edd37",
   "metadata": {},
   "outputs": [],
   "source": [
    "import random\n",
    "\n",
    "class FlashCard: \n",
    "    def __init__(self): \n",
    "        self.fruits = {\n",
    "                        'Banana' : 'Yellow',\n",
    "                        'Orange' : 'Orange', \n",
    "                        'Apple' : 'Red', \n",
    "                        'Watermelon' : 'Green', \n",
    "                        'Grapes' : 'Green', \n",
    "                        'Strawberry' : 'Red', \n",
    "                        'Papaya' : 'Orange', \n",
    "                        'Mango' : 'Yellow', \n",
    "                        'Pineapple' : 'Brown', \n",
    "                        'Dragon Fruit' : 'Pink'\n",
    "                    }            \n",
    "        self.starter_function()\n",
    "\n",
    "    def starter_function(self): \n",
    "        \n",
    "        while True:    \n",
    "            print('Welcome to fruit Quiz')\n",
    "            (fruit, color) = self.__random_fruit()\n",
    "            user_color = input('What is the color of {} : '.format(fruit))\n",
    "            if user_color == color: \n",
    "                print('Congrats!!! Correct Answer')\n",
    "            else: \n",
    "                print('Ops, Wrong Answer')\n",
    "                \n",
    "            user_input = input('Enter 0, if you want to play again : ')\n",
    "            if user_input != '0':\n",
    "                break\n",
    "\n",
    "                \n",
    "    def __random_fruit(self): \n",
    "        random_key = random.choice(list(self.fruits.keys()))\n",
    "        value = self.fruits[random_key]\n",
    "\n",
    "        return (random_key, value)"
   ]
  },
  {
   "cell_type": "code",
   "execution_count": 2,
   "id": "446408b1-7756-4031-81c1-682905061100",
   "metadata": {},
   "outputs": [
    {
     "name": "stdout",
     "output_type": "stream",
     "text": [
      "Welcome to fruit Quiz\n"
     ]
    },
    {
     "name": "stdin",
     "output_type": "stream",
     "text": [
      "What is the color of Strawberry :  Red\n"
     ]
    },
    {
     "name": "stdout",
     "output_type": "stream",
     "text": [
      "Congrats!!! Correct Answer\n"
     ]
    },
    {
     "name": "stdin",
     "output_type": "stream",
     "text": [
      "Enter 0, if you want to play again :  0\n"
     ]
    },
    {
     "name": "stdout",
     "output_type": "stream",
     "text": [
      "Welcome to fruit Quiz\n"
     ]
    },
    {
     "name": "stdin",
     "output_type": "stream",
     "text": [
      "What is the color of Apple :  Red\n"
     ]
    },
    {
     "name": "stdout",
     "output_type": "stream",
     "text": [
      "Congrats!!! Correct Answer\n"
     ]
    },
    {
     "name": "stdin",
     "output_type": "stream",
     "text": [
      "Enter 0, if you want to play again :  0\n"
     ]
    },
    {
     "name": "stdout",
     "output_type": "stream",
     "text": [
      "Welcome to fruit Quiz\n"
     ]
    },
    {
     "name": "stdin",
     "output_type": "stream",
     "text": [
      "What is the color of Watermelon :  Green\n"
     ]
    },
    {
     "name": "stdout",
     "output_type": "stream",
     "text": [
      "Congrats!!! Correct Answer\n"
     ]
    },
    {
     "name": "stdin",
     "output_type": "stream",
     "text": [
      "Enter 0, if you want to play again :  1\n"
     ]
    }
   ],
   "source": [
    "game = FlashCard()"
   ]
  },
  {
   "cell_type": "markdown",
   "id": "c7864147-2cfb-48d6-bf9d-912a5e8f7ef4",
   "metadata": {},
   "source": [
    "### `Problem - 5 : ` Problem 5 based on OOP Python.\n",
    "\n",
    "TechWorld, a technology training center, wants to allocate courses for instructors. An instructor is identified by name, technology skills, experience and average feedback. An instructor is allocated a course, if he/she satisfies the below two conditions:\n",
    "- eligibility criteria:\n",
    "    - if experience is more than 3 years, average feedback should be 4.5 or more\n",
    "    - if experience is 3 years or less, average feedback should be 4 or more\n",
    "- he/she should posses the technology skill for the course\n",
    "\n",
    "Identify the class name and attributes to represent instructors. Write a Python program to implement the class chosen with its attributes and methods.\n",
    "\n",
    "**Note:**\n",
    "- Consider all instance variables to be private and methods to be public.\n",
    "- An instructor may have multiple technology skills, so consider instance variable, technology_skill to be a list.\n",
    "- *check_eligibility()*: Return true if eligibility criteria is satisfied by the instructor. Else, return false\n",
    "- *allocate_course(technology)*: Return true if the course which requires the given technology can be allocated to the instructor. Else, return false.\n",
    "\n",
    "Represent a few objects of the class, initialize instance variables using setter methods, invoke\n",
    "appropriate methods and test your program."
   ]
  },
  {
   "cell_type": "code",
   "execution_count": 10,
   "id": "23db7ec9-fed6-43ab-8e6a-cb0d2d3830a3",
   "metadata": {},
   "outputs": [
    {
     "data": {
      "text/plain": [
       "'Course is allocated'"
      ]
     },
     "execution_count": 10,
     "metadata": {},
     "output_type": "execute_result"
    }
   ],
   "source": [
    "\n",
    "class Instructor:\n",
    "\n",
    "    def __init__(self,name,technology,experience,feedback):\n",
    "        self.__name = name\n",
    "        self.__technology = technology\n",
    "        self.__experience = experience\n",
    "        self.__feedback = feedback\n",
    "\n",
    "    def check_eligibility(self):\n",
    "\n",
    "        if self.__experience > 3 and self.__feedback >= 4.5:\n",
    "            return True\n",
    "        elif self.__experience <= 3 and self.__feedback >= 4:\n",
    "            return True\n",
    "        else:\n",
    "            return False\n",
    "\n",
    "    def allocate_course(self,tech):\n",
    "        is_eligible = self.check_eligibility()\n",
    "\n",
    "        if is_eligible:\n",
    "            if tech in self.__technology:\n",
    "                return 'Course is allocated'\n",
    "            else:\n",
    "                return 'They do not have this skills'\n",
    "        else:\n",
    "            return 'Course is not allocated'\n",
    "\n",
    "ins = Instructor('Sams', ['Data Science','Web Development', 'Data Analyst', 'DSA', 'CPP', 'Advance Java'], 3, 4)\n",
    "ins.allocate_course('DSA')\n"
   ]
  },
  {
   "cell_type": "code",
   "execution_count": null,
   "id": "8ad6040d-e384-4b36-b647-179c5be467d9",
   "metadata": {},
   "outputs": [],
   "source": []
  }
 ],
 "metadata": {
  "kernelspec": {
   "display_name": "Python 3 (ipykernel)",
   "language": "python",
   "name": "python3"
  },
  "language_info": {
   "codemirror_mode": {
    "name": "ipython",
    "version": 3
   },
   "file_extension": ".py",
   "mimetype": "text/x-python",
   "name": "python",
   "nbconvert_exporter": "python",
   "pygments_lexer": "ipython3",
   "version": "3.13.1"
  }
 },
 "nbformat": 4,
 "nbformat_minor": 5
}
