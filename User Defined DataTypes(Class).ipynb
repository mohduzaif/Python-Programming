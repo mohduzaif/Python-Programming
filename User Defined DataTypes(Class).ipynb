{
 "cells": [
  {
   "cell_type": "markdown",
   "id": "89fc63f1-5e75-4f07-b23f-234330c65f38",
   "metadata": {},
   "source": [
    "### Create the Own DataType called Fraction.  \n",
    "- Here we are using many magic function\n",
    "- We write some comment about when these function are triggered."
   ]
  },
  {
   "cell_type": "code",
   "execution_count": 1,
   "id": "4b4a8ed0-3180-4f7b-a06f-574cb670f7d4",
   "metadata": {},
   "outputs": [],
   "source": [
    "class Fraction: \n",
    "    \n",
    "    # Parametrized Constructor of this class. \n",
    "    def __init__(self, num1, num2): \n",
    "        self.num = num1\n",
    "        self.den = num2\n",
    "\n",
    "    # This is another magic function that will called when we trying to print the object of the class using print function.\n",
    "    def __str__(self): \n",
    "        return '{}/{}'.format(self.num, self.den)\n",
    "\n",
    "    # another magic function that will trigger when we do add operation of two objects using plus(+) operator. \n",
    "    def __add__(self, other): \n",
    "        new_num = self.num * other.den + self.den * other.num\n",
    "        new_den = self.den * other.den\n",
    "\n",
    "        return '{}/{}'.format(new_num, new_den)\n",
    "\n",
    "    # another magic function that will trigger when we do subtraction operation of two objects using minus(-) operator. \n",
    "    def __sub__(self, other): \n",
    "        new_num = self.num * other.den - self.den * other.num\n",
    "        new_den = self.den * other.den\n",
    "\n",
    "        return '{}/{}'.format(new_num, new_den)\n",
    "\n",
    "    # another magic function that will trigger when we do Multiplication operation of two objects using Asterik(*) operator. \n",
    "    def __mul__(self, other): \n",
    "        new_num = self.num * other.num\n",
    "        new_den = self.den * other.den\n",
    "\n",
    "        return '{}/{}'.format(new_num, new_den)\n",
    "\n",
    "    # another magic function that will trigger when we do Division operation of two objects using slash(/) operator. \n",
    "    def __truediv__(self, other): \n",
    "        new_num = self.num * other.den\n",
    "        new_den = self.den * other.num\n",
    "\n",
    "        return '{}/{}'.format(new_num, new_den)"
   ]
  },
  {
   "cell_type": "code",
   "execution_count": 2,
   "id": "9c31865c-a8b2-49f1-8a60-61c1adffe749",
   "metadata": {},
   "outputs": [],
   "source": [
    "fr1 = Fraction(2, 3)\n",
    "fr2 = Fraction(4, 5)"
   ]
  },
  {
   "cell_type": "code",
   "execution_count": 4,
   "id": "c93150c2-d197-4016-afb4-84468e66616b",
   "metadata": {},
   "outputs": [
    {
     "name": "stdout",
     "output_type": "stream",
     "text": [
      "2/3\n",
      "4/5\n"
     ]
    }
   ],
   "source": [
    "print(fr1)\n",
    "print(fr2)"
   ]
  },
  {
   "cell_type": "code",
   "execution_count": 5,
   "id": "15cd12cc-9ace-4214-a028-fe1d2eec8450",
   "metadata": {},
   "outputs": [
    {
     "name": "stdout",
     "output_type": "stream",
     "text": [
      "22/15\n",
      "-2/15\n",
      "8/15\n",
      "10/12\n"
     ]
    }
   ],
   "source": [
    "print(fr1 + fr2)\n",
    "print(fr1 - fr2)\n",
    "print(fr1 * fr2)\n",
    "print(fr1 / fr2)"
   ]
  },
  {
   "cell_type": "markdown",
   "id": "71c971ed-5a4a-4d93-a014-7b0ba0d5ab17",
   "metadata": {},
   "source": [
    "### Write OOP classes to handle the following scenarios:\n",
    "\n",
    "- A user can create and view 2D coordinates\n",
    "- A user can find out the distance between 2 coordinates\n",
    "- A user can find find the distance of a coordinate from origin\n",
    "- A user can check if a point lies on a given line\n",
    "- A user can find the distance between a given 2D point and a given line\n",
    "- A user can find whether two line are intersected with each other or not.\n"
   ]
  },
  {
   "cell_type": "code",
   "execution_count": 83,
   "id": "22bf7b67-1478-483a-b25f-f0763df5ccac",
   "metadata": {},
   "outputs": [],
   "source": [
    "# Point Class defination. \n",
    "class Point: \n",
    "    def __init__(self, x, y): \n",
    "        self.x_cordinate = x \n",
    "        self.y_cordinate = y \n",
    "        # print('Point Object Created')\n",
    "\n",
    "    # Print the object in appropriate way. \n",
    "    def __str__(self): \n",
    "        return '<{},{}>'.format(self.x_cordinate, self.y_cordinate)\n",
    "\n",
    "    # distance between two point(object of Point). \n",
    "    def euclidean_distance(self, other): \n",
    "        distance = ((self.x_cordinate - other.x_cordinate)**2 + (self.y_cordinate - other.y_cordinate)**2)**0.5\n",
    "        return round(distance, 2)\n",
    "\n",
    "    # distance from the origin to given point. \n",
    "    def distance_from_origin(self): \n",
    "        # return round((self.x_cordinate**2 + self.y_cordinate**2)**0.5, 2)\n",
    "        return self.euclidean_distance(Point(0, 0))"
   ]
  },
  {
   "cell_type": "code",
   "execution_count": 122,
   "id": "288c21d1-9e1a-492c-b024-29623bbce1c9",
   "metadata": {},
   "outputs": [],
   "source": [
    "# Line class defination. \n",
    "class Line: \n",
    "    def __init__(self, A, B, C): \n",
    "        self.A = A\n",
    "        self.B = B \n",
    "        self.C = C\n",
    "        # print('Line Object Created')\n",
    "\n",
    "    # print the Line object in correct way. \n",
    "    def __str__(self): \n",
    "        return '{}x + {}y + {} = 0'.format(self.A, self.B, self.C)\n",
    "\n",
    "    # Given point lies on the Line or not. \n",
    "    def point_on_line(line, point): \n",
    "        lhs = line.A * point.x_cordinate + line.B * point.y_cordinate + line.C\n",
    "        if lhs == 0: \n",
    "            return 'Point Lies on the line'\n",
    "        else: \n",
    "            return 'Point does not lie on the line'\n",
    "\n",
    "    # shortest distance from point to line. \n",
    "    def shortest_point_line(line, point): \n",
    "        nr = (line.A * point.x_cordinate + line.B * point.y_cordinate + line.C)\n",
    "        dr = (line.A**2 + line.B**2)**0.5\n",
    "\n",
    "        return nr / dr\n",
    "\n",
    "    # Intersection of two lines. \n",
    "    def intersection_of_lines(line1, line2): \n",
    "\n",
    "        slope1 = -(line1.A / line1.B) \n",
    "        slope2 = -(line2.A / line2.B)\n",
    "        \n",
    "        # print(slope1, slope2)\n",
    "        if slope1 != slope2: \n",
    "            return 'Lines are intersected with each other at any point'\n",
    "        else: \n",
    "            return 'Lines are not intersected with each other'"
   ]
  },
  {
   "cell_type": "markdown",
   "id": "5c8a83fc-6795-4e40-a919-6b438cf8a63e",
   "metadata": {},
   "source": [
    "#### Point class Object related question."
   ]
  },
  {
   "cell_type": "code",
   "execution_count": 98,
   "id": "a7da868a-f15b-4141-a56d-d790bf9bcef5",
   "metadata": {},
   "outputs": [
    {
     "name": "stdout",
     "output_type": "stream",
     "text": [
      "<2,3>\n"
     ]
    }
   ],
   "source": [
    "p = Point(2, 3)\n",
    "# Point will see like this  <x-cordinate, y-cordinate>\n",
    "print(p)"
   ]
  },
  {
   "cell_type": "code",
   "execution_count": 99,
   "id": "cf5921ab-1988-4706-b071-0e3740d25601",
   "metadata": {},
   "outputs": [
    {
     "name": "stdout",
     "output_type": "stream",
     "text": [
      "1.41\n"
     ]
    }
   ],
   "source": [
    "# distance between two point. \n",
    "p1 = Point(1, 1)\n",
    "p2 = Point(0, 0)\n",
    "\n",
    "print(p1.euclidean_distance(p2))"
   ]
  },
  {
   "cell_type": "code",
   "execution_count": 100,
   "id": "02ff523e-3e79-4c06-8bc0-cccb0748160e",
   "metadata": {},
   "outputs": [
    {
     "name": "stdout",
     "output_type": "stream",
     "text": [
      "5.66\n"
     ]
    }
   ],
   "source": [
    "# distance from origin to the given point. \n",
    "p1 = Point(4, 4)\n",
    "print(p1.distance_from_origin())"
   ]
  },
  {
   "cell_type": "markdown",
   "id": "41e2f4fb-4cde-4020-b5a3-c5e58b1c4dd9",
   "metadata": {},
   "source": [
    "#### Line class Object related question."
   ]
  },
  {
   "cell_type": "code",
   "execution_count": 124,
   "id": "77329fc8-9884-4d42-a5e9-fceba1aa24e8",
   "metadata": {},
   "outputs": [
    {
     "name": "stdout",
     "output_type": "stream",
     "text": [
      "2x + 3y + 4 = 0\n"
     ]
    }
   ],
   "source": [
    "# Line Object. \n",
    "l = Line(2, 3, 4)\n",
    "# Point will see like this  Ax + By C = 0\n",
    "print(l)"
   ]
  },
  {
   "cell_type": "code",
   "execution_count": 125,
   "id": "988613ea-8d9c-4bbf-b79e-649fd5e2e014",
   "metadata": {},
   "outputs": [
    {
     "name": "stdout",
     "output_type": "stream",
     "text": [
      "Point Lies on the line\n"
     ]
    }
   ],
   "source": [
    "# check whether a point lie on the line or not. \n",
    "l1 = Line(1, 1, -2)\n",
    "p1 = Point(1, 1)\n",
    "\n",
    "print(l1.point_on_line(p1))"
   ]
  },
  {
   "cell_type": "code",
   "execution_count": 126,
   "id": "06e9951e-3af0-4b7d-a23c-73afcdced3d0",
   "metadata": {},
   "outputs": [
    {
     "name": "stdout",
     "output_type": "stream",
     "text": [
      "0.0\n"
     ]
    }
   ],
   "source": [
    "# shortest distance from point to line. \n",
    "l1 = Line(1, 1, -2)\n",
    "p1 = Point(1, 1)\n",
    "print(l1.shortest_point_line(p1))"
   ]
  },
  {
   "cell_type": "code",
   "execution_count": 127,
   "id": "ae611b2f-4b5c-4544-bad2-732a59aa4f42",
   "metadata": {},
   "outputs": [
    {
     "name": "stdout",
     "output_type": "stream",
     "text": [
      "Lines are intersected with each other at any point\n"
     ]
    }
   ],
   "source": [
    "# find whether two line are intersected with each other or not.\n",
    "line1 = Line(1, 2, 3)\n",
    "line2 = Line(2, 2, 3)\n",
    "print(line1.intersection_of_lines(line2))"
   ]
  },
  {
   "cell_type": "code",
   "execution_count": null,
   "id": "b2cbdfc0-7de1-47ab-b9f7-542aff91aa88",
   "metadata": {},
   "outputs": [],
   "source": []
  }
 ],
 "metadata": {
  "kernelspec": {
   "display_name": "Python 3 (ipykernel)",
   "language": "python",
   "name": "python3"
  },
  "language_info": {
   "codemirror_mode": {
    "name": "ipython",
    "version": 3
   },
   "file_extension": ".py",
   "mimetype": "text/x-python",
   "name": "python",
   "nbconvert_exporter": "python",
   "pygments_lexer": "ipython3",
   "version": "3.13.1"
  }
 },
 "nbformat": 4,
 "nbformat_minor": 5
}
