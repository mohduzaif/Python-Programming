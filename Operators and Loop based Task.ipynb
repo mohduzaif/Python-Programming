{
 "cells": [
  {
   "cell_type": "markdown",
   "id": "ba8bf747-1c94-437c-824c-2811a315b5c8",
   "metadata": {},
   "source": [
    "#### Problem 1: Write a program that will give you in hand monthly salary after deduction on CTC - HRA(10%), DA(5%), PF(3%) and taxes deduction as below:\n",
    "Salary(Lakhs) : Tax(%)\n",
    "\n",
    "Below 5 : 0%\n",
    "\n",
    "5-10 : 10%\n",
    "\n",
    "10-20 : 20%\n",
    "\n",
    "aboove 20 : 30%"
   ]
  },
  {
   "cell_type": "code",
   "execution_count": 9,
   "id": "0262c053-8bf9-4aa2-ac9d-fe916eef0f8b",
   "metadata": {},
   "outputs": [
    {
     "name": "stdin",
     "output_type": "stream",
     "text": [
      "Enter the CTC (in Lakhs) :  12\n"
     ]
    },
    {
     "name": "stdout",
     "output_type": "stream",
     "text": [
      "Monthly salary is :  62000.0\n"
     ]
    }
   ],
   "source": [
    "# Take the input and store it into a variable. \n",
    "package = int(input('Enter the CTC (in Lakhs) : ')) \n",
    "\n",
    "ctc_ruppee = package * 100000\n",
    "\n",
    "hra = 0.1 * ctc_ruppee\n",
    "da = 0.05 * ctc_ruppee\n",
    "pf = 0.03 * ctc_ruppee\n",
    "\n",
    "total_deduction = hra + da + pf \n",
    "\n",
    "monthly_salary = None\n",
    "\n",
    "if package < 5: \n",
    "    monthly_salary = (ctc_ruppee - total_deduction) / 12\n",
    "elif package >= 5 and package < 10: \n",
    "    tax = 0.1 * ctc_ruppee\n",
    "    monthly_salary = (ctc_ruppee - total_deduction - tax) / 12\n",
    "elif package >= 10 and package < 20:\n",
    "    tax = 0.2 * ctc_ruppee\n",
    "    monthly_salary = (ctc_ruppee - total_deduction - tax) / 12\n",
    "else: \n",
    "    tax = 0.3 * ctc_ruppee\n",
    "    monthly_salary = (ctc_ruppee - total_deduction - tax) / 12\n",
    "\n",
    "print('Monthly salary is : ', monthly_salary)"
   ]
  },
  {
   "cell_type": "markdown",
   "id": "8922f830-73d5-4642-ace9-f8a3b9a8cb8e",
   "metadata": {},
   "source": [
    "#### Problem 2 : Write a program that take a user input of three angles and will find out whether it can form a triangle or not."
   ]
  },
  {
   "cell_type": "code",
   "execution_count": 10,
   "id": "82d97f5d-be2f-4c55-925e-76ad888c5d6a",
   "metadata": {},
   "outputs": [
    {
     "name": "stdin",
     "output_type": "stream",
     "text": [
      "Enter the first angle(in degree) :  34\n",
      "Enter the second angle(in degree) :  45\n",
      "Enter the third angle(in degree) :  67\n"
     ]
    },
    {
     "name": "stdout",
     "output_type": "stream",
     "text": [
      "Not form a triangle.\n"
     ]
    }
   ],
   "source": [
    "angle1 = int(input('Enter the first angle(in degree) : '))\n",
    "angle2 = int(input('Enter the second angle(in degree) : '))\n",
    "angle3 = int(input('Enter the third angle(in degree) : '))\n",
    "\n",
    "sum_of_angles = angle1 + angle2 + angle3\n",
    "\n",
    "if sum_of_angles == 180 and angle1 > 0 and angle2 > 0 and angle3 > 0: \n",
    "    print('This will form a triangle.')\n",
    "else:\n",
    "    print('Not form a triangle.')"
   ]
  },
  {
   "cell_type": "markdown",
   "id": "4b3435af-d06b-43cd-8a4d-affe3bf04aa1",
   "metadata": {},
   "source": [
    "#### Problem 3 : Write a program that will take user input of cost price and selling price and determines whether its a loss or a profit."
   ]
  },
  {
   "cell_type": "code",
   "execution_count": 12,
   "id": "a03e6022-0a26-433c-9508-98a6ac4825c1",
   "metadata": {},
   "outputs": [
    {
     "name": "stdin",
     "output_type": "stream",
     "text": [
      "Enter the Cost Price(in Ruppees) :  3\n",
      "Enter the Selling Price(in Ruppees) :  4\n"
     ]
    },
    {
     "name": "stdout",
     "output_type": "stream",
     "text": [
      "Seller is in Profit.\n"
     ]
    }
   ],
   "source": [
    "cp = int(input('Enter the Cost Price(in Ruppees) : '))\n",
    "sp = int(input('Enter the Selling Price(in Ruppees) : '))\n",
    "\n",
    "if sp - cp > 0: \n",
    "    print('Seller is in Profit.')\n",
    "elif sp - cp < 0:\n",
    "    print('Seller is in Loss.')\n",
    "else: \n",
    "    print('No loss, No Profit.')"
   ]
  },
  {
   "cell_type": "markdown",
   "id": "9c711ad5-6a40-483d-93d2-70db7592a5f0",
   "metadata": {},
   "source": [
    "#### Problem 4 : Write a menu-driven program -\n",
    " 1. cm to ft\n",
    " 2. km to miles \n",
    " 3. USD to INR \n",
    " 4. exit"
   ]
  },
  {
   "cell_type": "code",
   "execution_count": 12,
   "id": "587d7938-62f0-4db6-91ad-c1f641869f79",
   "metadata": {},
   "outputs": [
    {
     "name": "stdin",
     "output_type": "stream",
     "text": [
      "Enter the number according the given menu :\n",
      "                1. cm to ft\n",
      "                2. km to miles \n",
      "                3. USD to INR\n",
      "                4. Exit\n",
      " 4\n"
     ]
    },
    {
     "name": "stdout",
     "output_type": "stream",
     "text": [
      "Thanks for using this system.\n"
     ]
    }
   ],
   "source": [
    "menu = int(input(\"\"\"Enter the number according the given menu :\n",
    "                1. cm to ft\n",
    "                2. km to miles \n",
    "                3. USD to INR\n",
    "                4. Exit\n",
    "\"\"\"))\n",
    "\n",
    "if menu == 1:\n",
    "    number = int(input('Enter the value (in cm) : '))\n",
    "    print('The given number in feet is : ', number * 0.03280839895013123) \n",
    "elif menu == 2:\n",
    "    number = int(input('Enter the value (in KM) : '))\n",
    "    print('The given number in miles is : ', number * 0.62137119) \n",
    "elif menu == 3: \n",
    "    number = int(input('Enter the value (in USD) : '))\n",
    "    print('The given number in INR is : ', number * 88) \n",
    "else:\n",
    "    print('Thanks for using this system.') "
   ]
  },
  {
   "cell_type": "markdown",
   "id": "315f0dfc-991f-4fe6-9f8f-5e85b8d5eaec",
   "metadata": {},
   "source": [
    "#### Problem 5 : Display Fibonacci series up to 10 terms."
   ]
  },
  {
   "cell_type": "code",
   "execution_count": 17,
   "id": "8d3744b8-636f-4449-8e78-78f692474002",
   "metadata": {},
   "outputs": [
    {
     "name": "stdout",
     "output_type": "stream",
     "text": [
      "0,1,1,2,3,5,8,13,21,34,"
     ]
    }
   ],
   "source": [
    "first_number = 0\n",
    "second_number = 1\n",
    "\n",
    "print(first_number, end=',')\n",
    "print(second_number, end=',')\n",
    "for i in range(3, 11): \n",
    "    print(first_number + second_number, end=',')\n",
    "    temp = first_number\n",
    "    first_number = second_number\n",
    "    second_number = temp + second_number\n",
    "\n"
   ]
  },
  {
   "cell_type": "markdown",
   "id": "4b0116bd-446a-4585-b74a-b4ec40a0c8e9",
   "metadata": {},
   "source": [
    "#### Problem 6 : Find the factorial of a given number."
   ]
  },
  {
   "cell_type": "code",
   "execution_count": 19,
   "id": "dfe7cfe7-e69b-47ee-9508-d34f2a4d11da",
   "metadata": {},
   "outputs": [
    {
     "name": "stdin",
     "output_type": "stream",
     "text": [
      "Enter the number :  6\n"
     ]
    },
    {
     "name": "stdout",
     "output_type": "stream",
     "text": [
      "Factorial is :  720\n"
     ]
    }
   ],
   "source": [
    "# Take the input and store it into a variable. \n",
    "number = int(input('Enter the number : '))\n",
    "\n",
    "# Logic of calculating factorial.\n",
    "fact = 1\n",
    "for i in range(1, number + 1): \n",
    "    fact *= i \n",
    "print('Factorial is : ', fact)"
   ]
  },
  {
   "cell_type": "markdown",
   "id": "46a801be-b1c2-41b2-8894-ae4b9af5f032",
   "metadata": {},
   "source": [
    "#### Problem 7 : Reverse a given integer number."
   ]
  },
  {
   "cell_type": "code",
   "execution_count": 3,
   "id": "cf1220e7-d5e9-4751-8e31-5d8b0086414f",
   "metadata": {},
   "outputs": [
    {
     "name": "stdin",
     "output_type": "stream",
     "text": [
      "Enter the Digit :  76542\n"
     ]
    },
    {
     "name": "stdout",
     "output_type": "stream",
     "text": [
      "The Reverse digit of the given digit is :  24567\n"
     ]
    }
   ],
   "source": [
    "# Take the input and store it into a variable. \n",
    "digit = int(input('Enter the Digit : ')) \n",
    "\n",
    "reverse_digit = 0\n",
    "\n",
    "while digit > 0:\n",
    "    rem = digit % 10\n",
    "    digit = digit // 10 \n",
    "\n",
    "    reverse_digit = reverse_digit * 10 + rem \n",
    "\n",
    "else:\n",
    "    print('The Reverse digit of the given digit is : ', reverse_digit)"
   ]
  },
  {
   "cell_type": "markdown",
   "id": "9c146524-8960-4dae-bab6-1e77d486f71a",
   "metadata": {},
   "source": [
    "#### Problem 8: Take a user input as integer N. Find out the sum from 1 to N. If any number if divisible by 5, then skip that number. And if the sum is greater than 300, don't need to calculate the sum further more. Print the final result. And don't use for loop to solve this problem."
   ]
  },
  {
   "cell_type": "code",
   "execution_count": null,
   "id": "3ab8fba8-968e-4e25-afcf-eb279d4e8931",
   "metadata": {},
   "outputs": [],
   "source": [
    "# Take the input and store it into a variable. \n",
    "number = int(input('Enter the Number : ')) \n",
    "\n"
   ]
  }
 ],
 "metadata": {
  "kernelspec": {
   "display_name": "Python 3 (ipykernel)",
   "language": "python",
   "name": "python3"
  },
  "language_info": {
   "codemirror_mode": {
    "name": "ipython",
    "version": 3
   },
   "file_extension": ".py",
   "mimetype": "text/x-python",
   "name": "python",
   "nbconvert_exporter": "python",
   "pygments_lexer": "ipython3",
   "version": "3.13.1"
  }
 },
 "nbformat": 4,
 "nbformat_minor": 5
}
