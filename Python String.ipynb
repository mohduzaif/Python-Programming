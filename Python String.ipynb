{
 "cells": [
  {
   "cell_type": "markdown",
   "id": "8d7a648b-b36f-4cb1-bd92-da10adccc1d0",
   "metadata": {},
   "source": [
    "## String\n",
    "\n",
    "Strings are the sequence of characters."
   ]
  },
  {
   "cell_type": "markdown",
   "id": "9a9e10da-4a04-4c15-b6f6-3dedf21cd7e5",
   "metadata": {},
   "source": [
    "In python specifically, strings are a sequence of Unicode Characters.\n",
    "\n",
    "1. Creating strings\n",
    "2. Accessing Strings\n",
    "3. Adding chars to strings\n",
    "4. Editing Strings\n",
    "5. Deleting Strings\n",
    "6. Operations on Strings\n",
    "7. String Functions"
   ]
  },
  {
   "cell_type": "markdown",
   "id": "014616f6-9dbc-4f2f-84f6-dd97fc4ba3a7",
   "metadata": {},
   "source": [
    "### Creating a Strings."
   ]
  },
  {
   "cell_type": "code",
   "execution_count": null,
   "id": "be6c1ccd-ec2d-474f-a41d-24706127bd2c",
   "metadata": {},
   "outputs": [],
   "source": [
    "s = 'Hello'\n",
    "s = \"Hello\"\n",
    "\n",
    "# Triple inverted commas are used for Multi-line Strings. \n",
    "s = '''Hello'''\n",
    "s = \"\"\"Hello\"\"\"\n",
    "\n",
    "s = str('hello')\n",
    "\n",
    "print(s)"
   ]
  },
  {
   "cell_type": "code",
   "execution_count": null,
   "id": "332c9709-89fe-4522-9566-c6b046535873",
   "metadata": {},
   "outputs": [],
   "source": [
    "print(\"It's Raining outside!!\")"
   ]
  },
  {
   "cell_type": "markdown",
   "id": "af1dafe0-dd3e-46a5-9dea-3af501ae63ba",
   "metadata": {},
   "source": [
    "### Accessing Substring from a String. "
   ]
  },
  {
   "cell_type": "code",
   "execution_count": null,
   "id": "364ebfd6-bac8-40c0-a356-8a2c647fb2a0",
   "metadata": {},
   "outputs": [],
   "source": [
    "# Positive Indexing\n",
    "s = 'Hello world'\n",
    "for i in range(0, len(s)):\n",
    "    print(s[i], end='')"
   ]
  },
  {
   "cell_type": "code",
   "execution_count": null,
   "id": "e809fcdf-0206-4811-a53d-dea99230cc57",
   "metadata": {},
   "outputs": [],
   "source": [
    "# Negative Indexing. \n",
    "s = 'Hello world' \n",
    "\n",
    "print(s[-1])\n",
    "print(s[-2])\n",
    "print(s[-3])\n",
    "print(s[-4])\n",
    "print(s[-5])"
   ]
  },
  {
   "cell_type": "code",
   "execution_count": null,
   "id": "aef7cc07-a53f-4cd9-8d96-70d83733a925",
   "metadata": {},
   "outputs": [],
   "source": [
    "# Slicing in String using positive indexing. \n",
    "\n",
    "s = 'Hello world'\n",
    "# Print the character from index 1 to 4. \n",
    "print(s[1 : 5])\n",
    "\n",
    "# Print the character from index string index to 7. \n",
    "print(s[ : 8])\n",
    "\n",
    "# Print the character from index 5 to last index. \n",
    "print(s[5 : ])\n",
    "\n",
    "# Print from index 0 to 7 but take a step of 2 after printing. \n",
    "print(s[0 : 8 : 2])"
   ]
  },
  {
   "cell_type": "code",
   "execution_count": null,
   "id": "ac9ca1c5-b432-40a1-aef3-bd478cee1254",
   "metadata": {},
   "outputs": [],
   "source": [
    "# Slicing in String using Negative indexing. \n",
    "s = 'Hello World'\n",
    "\n",
    "# print from index -5 to -2 using negative indexing. \n",
    "print(s[-5 : -1])\n",
    "\n",
    "# print from index -1 to -8 using negative indexing. \n",
    "print(s[-1 : -8 : -1])\n",
    "\n",
    "# reverse of string using negative indexing. \n",
    "print(s[ : : -1])"
   ]
  },
  {
   "cell_type": "markdown",
   "id": "b805347f-5f0f-4ab2-a453-e573eeb2a04a",
   "metadata": {},
   "source": [
    "### Editing and Deleting in Strings.\n",
    "1. Strings are immuatable (They are not change once they are created).\n",
    "2. String can be deleted completely using del keyword."
   ]
  },
  {
   "cell_type": "code",
   "execution_count": null,
   "id": "cb1e2328-3cfd-4049-95d6-415483dac51a",
   "metadata": {},
   "outputs": [],
   "source": [
    "s = 'hello World'\n",
    "\n",
    "s[0] = 'H' \n",
    "\n",
    "print(s)"
   ]
  },
  {
   "cell_type": "code",
   "execution_count": null,
   "id": "dbb25fa2-9776-4458-960c-e3187c531374",
   "metadata": {},
   "outputs": [],
   "source": [
    "del s \n",
    "print(s)"
   ]
  },
  {
   "cell_type": "markdown",
   "id": "0f679b91-4470-498f-aa1b-421c4c682a63",
   "metadata": {},
   "source": [
    "### Operations on Strings.\n",
    "1. Arithmetic Operations\n",
    "2. Relational Operations\n",
    "3. Logical Operations\n",
    "4. Loops on String\n",
    "5. Membership Operations"
   ]
  },
  {
   "cell_type": "code",
   "execution_count": null,
   "id": "bccaed01-37da-4958-9a6c-858ce1710091",
   "metadata": {},
   "outputs": [],
   "source": [
    "# Arithmetic Operations on strings.\n",
    "\n",
    "print('Mumbai' + ' - ' + 'New Delhi')\n",
    "\n",
    "print('New Delhi'*5)\n",
    "print('*' * 50)"
   ]
  },
  {
   "cell_type": "code",
   "execution_count": null,
   "id": "986a500c-98e1-48f2-93b2-c6d5e0d5044d",
   "metadata": {},
   "outputs": [],
   "source": [
    "# Relational Operations on Strings.      # lexiographically Checks using ASCII value. \n",
    "\n",
    "print('Delhi' != 'Mumbai')\n",
    "print('Delhi' == 'Mumbai')\n",
    "\n",
    "print('Delhi' >= 'Mumbai')\n",
    "print('Delhi' <= 'Mumbai')"
   ]
  },
  {
   "cell_type": "code",
   "execution_count": null,
   "id": "1b29991f-2ece-4844-b99d-503d0882a8f3",
   "metadata": {},
   "outputs": [],
   "source": [
    "# Logical Operations on Strings \n",
    "\n",
    "# Here python consider empty string as False and having anything in string as True.\n",
    "\n",
    "print('hello' and 'world')\n",
    "\n",
    "print('hello' or 'world')\n",
    "\n",
    "print('' and 'world')\n",
    "\n",
    "print('' or 'world')\n",
    "\n",
    "print(not 'hello')\n",
    "\n",
    "print(not '')"
   ]
  },
  {
   "cell_type": "code",
   "execution_count": null,
   "id": "c4a97b94-75b4-4b44-95a3-beb3fc963a63",
   "metadata": {},
   "outputs": [],
   "source": [
    "### Loops on String. \n",
    "for char in 'Delhi':\n",
    "    print(char)"
   ]
  },
  {
   "cell_type": "code",
   "execution_count": null,
   "id": "adfc29ba-8eb4-4b07-91b4-73959f40a499",
   "metadata": {},
   "outputs": [],
   "source": [
    "# Membership functions.  \n",
    "\n",
    "print('d' in 'delhi')\n",
    "\n",
    "print('D' in 'delhi')\n",
    "\n",
    "print('p' in 'Pune')"
   ]
  },
  {
   "cell_type": "markdown",
   "id": "50121327-e19c-4a76-b7ee-432917c1ee3a",
   "metadata": {},
   "source": [
    "### Functions in Python. "
   ]
  },
  {
   "cell_type": "markdown",
   "id": "34b97c61-4fb8-4f18-a3ff-92692c62b6b6",
   "metadata": {},
   "source": [
    "#### Common Functions. \n",
    "1. len()\n",
    "2. max()\n",
    "3. min()\n",
    "4. sorted()"
   ]
  },
  {
   "cell_type": "code",
   "execution_count": null,
   "id": "292fbd68-6b96-4cba-b126-1b37a45e6415",
   "metadata": {},
   "outputs": [],
   "source": [
    "# len() function is used to calculate the length of a string. \n",
    "s = 'hello world'\n",
    "print(len(s))"
   ]
  },
  {
   "cell_type": "code",
   "execution_count": null,
   "id": "b4b9e08a-5d1e-4a95-a5fd-e91b282c0145",
   "metadata": {},
   "outputs": [],
   "source": [
    "# max() function is used to calculate the max character from the string based on the ASCII value. \n",
    "s = 'hello world'\n",
    "print(max(s))"
   ]
  },
  {
   "cell_type": "code",
   "execution_count": null,
   "id": "cc4ffe5d-4975-4418-83e3-3da2613fa2f3",
   "metadata": {},
   "outputs": [],
   "source": [
    "# min() function is used to calculate the min character from the string based on the ASCII value. \n",
    "s = 'helloworld'\n",
    "print(min(s))"
   ]
  },
  {
   "cell_type": "code",
   "execution_count": null,
   "id": "6f4588d2-a07f-4355-ac7d-878609724807",
   "metadata": {},
   "outputs": [],
   "source": [
    "# sort these characters into a ascending order, it returns a list of characters. \n",
    "s ='hello world'\n",
    "sorted(s)"
   ]
  },
  {
   "cell_type": "code",
   "execution_count": null,
   "id": "383d56fc-a4d1-456c-af4c-4f5d0072ab4a",
   "metadata": {},
   "outputs": [],
   "source": [
    "# sort these characters into a descending order, it returns a list of characters. \n",
    "s ='hello world'\n",
    "sorted(s, reverse=True)"
   ]
  },
  {
   "cell_type": "markdown",
   "id": "b19ce43c-4e2a-4588-89df-de9576dcbc6e",
   "metadata": {},
   "source": [
    "#### String oriented function. \n",
    "1. Capitalize\n",
    "2. Title\n",
    "3. Upper\n",
    "4. Lower\n",
    "5. Swapcase"
   ]
  },
  {
   "cell_type": "code",
   "execution_count": null,
   "id": "d626775d-07c6-4352-a444-590c7950b771",
   "metadata": {},
   "outputs": [],
   "source": [
    "# Capitalize function --> This function makes the starting character as Capital rest of the string is same.  \n",
    "\n",
    "s = 'hello world'\n",
    "print(s.capitalize())"
   ]
  },
  {
   "cell_type": "code",
   "execution_count": null,
   "id": "34db64ec-8f82-4d67-882f-b93c099e2d18",
   "metadata": {},
   "outputs": [],
   "source": [
    "# Title function  --> Make the string as title every starting word is Capital of the entire string. \n",
    "\n",
    "s = 'hello world'\n",
    "print(s.title())"
   ]
  },
  {
   "cell_type": "code",
   "execution_count": null,
   "id": "a3b40ed6-9ced-4991-8da2-1dcd212cf70a",
   "metadata": {},
   "outputs": [],
   "source": [
    "# upper function. \n",
    "s = 'hello world'\n",
    "print(s.upper())"
   ]
  },
  {
   "cell_type": "code",
   "execution_count": null,
   "id": "a8dc6702-7775-4d6e-91aa-a39798fad89d",
   "metadata": {},
   "outputs": [],
   "source": [
    "# upper function. \n",
    "s = 'Hello World'\n",
    "print(s.lower())"
   ]
  },
  {
   "cell_type": "code",
   "execution_count": null,
   "id": "86f3811c-eec4-4364-94cd-373f4e302b13",
   "metadata": {},
   "outputs": [],
   "source": [
    "# swapcase function. \n",
    "s = 'Hello World'\n",
    "print(s.swapcase())"
   ]
  },
  {
   "cell_type": "markdown",
   "id": "2c7cba77-f3c0-434c-97f2-25cae89bc339",
   "metadata": {},
   "source": [
    "#### Some More String Oriented function.\n",
    "1. Count\n",
    "2. Find\n",
    "3. Index"
   ]
  },
  {
   "cell_type": "code",
   "execution_count": null,
   "id": "b2bafefc-34a5-4aca-93f5-603843daa8cd",
   "metadata": {},
   "outputs": [],
   "source": [
    "# Count function --> this function count the number of character that we passed in the function's argument in the string. \n",
    "\n",
    "s = 'hello world, how are you.'\n",
    "print(s.count('o'))"
   ]
  },
  {
   "cell_type": "code",
   "execution_count": null,
   "id": "62f83ba3-0499-4587-bae1-93441fa49936",
   "metadata": {},
   "outputs": [],
   "source": [
    "# find function --> this function find the index of the substring in the string. \n",
    "s = 'my name is uzaif'\n",
    "print(s.find('is'))\n",
    "\n",
    "# it will return -1, when the passing substring is not available inside the string. \n",
    "print(s.find('ch'))"
   ]
  },
  {
   "cell_type": "code",
   "execution_count": null,
   "id": "ee844221-a06c-4a96-ae71-ae65616f3e20",
   "metadata": {},
   "outputs": [],
   "source": [
    "# index function  --> this function behavior is around to same as find function, but difference is there when \n",
    "# passing substring is not available inside the string. \n",
    "\n",
    "s = 'I always prefer to do Engineering specially computer Engineering.'\n",
    "print(s.index('to'))\n",
    "\n",
    "# it will give an error, when the passing substring is not available inside the string.\n",
    "print(s.index('uzaif'))"
   ]
  },
  {
   "cell_type": "markdown",
   "id": "2fdca633-4029-46c1-9395-1a8219add793",
   "metadata": {},
   "source": [
    "#### Two more similar function used in string. \n",
    "1. endswith\n",
    "2. startswith"
   ]
  },
  {
   "cell_type": "code",
   "execution_count": null,
   "id": "fb35b715-3307-49b5-8784-ec66a675bd91",
   "metadata": {},
   "outputs": [],
   "source": [
    "# endswith  --> this function is used to test given string ends with given substring. \n",
    "\n",
    "s = 'I always prefer to do Engineering specially computer Engineering'\n",
    "print(s.endswith('Engineering'))"
   ]
  },
  {
   "cell_type": "code",
   "execution_count": null,
   "id": "e1919195-47ad-4d05-ba92-95aab9764dbf",
   "metadata": {},
   "outputs": [],
   "source": [
    "# startwith function. \n",
    "\n",
    "s = 'I always prefer to do Engineering specially computer Engineering.'\n",
    "print(s.startswith('I'))"
   ]
  },
  {
   "cell_type": "markdown",
   "id": "06509f04-38a9-4838-b7e1-04ac252429dc",
   "metadata": {},
   "source": [
    "1. format function"
   ]
  },
  {
   "cell_type": "code",
   "execution_count": null,
   "id": "bb2c96a2-e3fe-4ae7-83da-6c326ceb13ee",
   "metadata": {},
   "outputs": [],
   "source": [
    "# format function is used to add any string between given string. \n",
    "\n",
    "name = 'Mohd Uzaif'\n",
    "gender = 'male'\n",
    "\n",
    "print('My name is {} and I am {}'.format(name, gender))"
   ]
  },
  {
   "cell_type": "markdown",
   "id": "30fb6124-63ab-404f-8154-b69d95da4f39",
   "metadata": {},
   "source": [
    "#### Some more related function to string.\n",
    "\n",
    "1. isalnum\n",
    "2. isalpha\n",
    "3. isdigit\n",
    "4. isidentifier"
   ]
  },
  {
   "cell_type": "code",
   "execution_count": null,
   "id": "68975d88-dfa3-4acb-997b-b995c48e7cba",
   "metadata": {},
   "outputs": [],
   "source": [
    "# isalnum function  --> this function is return true, when string contain only alphabet, or only alphabet and number.\n",
    "\n",
    "s = 'hello123'\n",
    "s1 = 'hello@'\n",
    "s2 = 'hello'\n",
    "print(s.isalnum())\n",
    "print(s1.isalnum())\n",
    "print(s2.isalnum())"
   ]
  },
  {
   "cell_type": "code",
   "execution_count": null,
   "id": "5c71ffce-6439-4196-841b-97faf89cfddb",
   "metadata": {},
   "outputs": [],
   "source": [
    "# isalpha function --> this function is return true, when string contain only alphabet.  \n",
    "\n",
    "s1 = 'hello'\n",
    "s2 = 'hello12'\n",
    "\n",
    "print(s1.isalpha())\n",
    "print(s2.isalpha())"
   ]
  },
  {
   "cell_type": "code",
   "execution_count": null,
   "id": "cb2b724d-b1b5-465a-8669-d591c628204a",
   "metadata": {},
   "outputs": [],
   "source": [
    "# isdigit function --> this function is return true, when string contain only digit.  \n",
    "\n",
    "s1 = 'hello'\n",
    "s2 = '1275643893829'\n",
    "s3 = 'hello1234'\n",
    "\n",
    "print(s1.isdigit())\n",
    "print(s2.isdigit())\n",
    "print(s3.isalpha())"
   ]
  },
  {
   "cell_type": "code",
   "execution_count": null,
   "id": "303d3630-6c6e-4b38-a8ee-3f93cfd40e6b",
   "metadata": {},
   "outputs": [],
   "source": [
    "# isidentifier function. \n",
    "\n",
    "s1 = '1name'\n",
    "s2 = 'name12'\n",
    "s3 = '_name'\n",
    "print(s1.isidentifier())\n",
    "print(s2.isidentifier())\n",
    "print(s3.isidentifier())"
   ]
  },
  {
   "cell_type": "markdown",
   "id": "ea6a7a88-fff7-440e-9847-bcd66502358b",
   "metadata": {},
   "source": [
    "1. Split function \n",
    "2. Join function"
   ]
  },
  {
   "cell_type": "code",
   "execution_count": null,
   "id": "6136d1a7-7db3-412a-b34a-a4348ab33e1c",
   "metadata": {},
   "outputs": [],
   "source": [
    "# Split function. \n",
    "message = 'I always prefer to do Engineering specially computer Engineering'\n",
    "\n",
    "print(message.split())\n",
    "print(message.split('to'))"
   ]
  },
  {
   "cell_type": "code",
   "execution_count": null,
   "id": "1ecb964c-130a-4b26-a775-169c01871a94",
   "metadata": {},
   "outputs": [],
   "source": [
    "# join function. \n",
    "message = ['I', 'always', 'prefer', 'to', 'do', 'Engineering', 'specially', 'computer', 'Engineering']\n",
    "delimeter = ' '\n",
    "\n",
    "delimeter.join(message)"
   ]
  },
  {
   "cell_type": "markdown",
   "id": "d8b94bb6-75f0-4166-8005-cf70613944e8",
   "metadata": {},
   "source": [
    "Replace function."
   ]
  },
  {
   "cell_type": "code",
   "execution_count": null,
   "id": "879b18f9-636e-415b-b03d-b28b1759181e",
   "metadata": {},
   "outputs": [],
   "source": [
    "# replace function. \n",
    "'Hi, My name is Mohd Uzaif'.replace('Mohd Uzaif', 'Nitish')"
   ]
  },
  {
   "cell_type": "markdown",
   "id": "de7ae5b7-dedf-47e3-85d6-38d8d9ec09f0",
   "metadata": {},
   "source": [
    "Strip function."
   ]
  },
  {
   "cell_type": "code",
   "execution_count": null,
   "id": "dffd9c2d-b0be-4da1-b133-70478a0def93",
   "metadata": {},
   "outputs": [],
   "source": [
    "# Strip function remove the starting and ending space from the string. \n",
    "message = '                               my name is Nistish kumar              I am a YouTuber.'\n",
    "print(message.strip())"
   ]
  },
  {
   "cell_type": "markdown",
   "id": "afc260b2-fa30-4fea-936e-c53ad8a3cef3",
   "metadata": {},
   "source": [
    "### Example problems based on String."
   ]
  },
  {
   "cell_type": "code",
   "execution_count": 129,
   "id": "ff60775e-6f84-4e99-8b9b-d240227347e0",
   "metadata": {},
   "outputs": [
    {
     "name": "stdin",
     "output_type": "stream",
     "text": [
      "Enter the String :  lebgth\n"
     ]
    },
    {
     "name": "stdout",
     "output_type": "stream",
     "text": [
      "Length of a string is  6\n"
     ]
    }
   ],
   "source": [
    "# Find the length of a given string without using the len() function \n",
    "\n",
    "s = input('Enter the String : ')\n",
    "\n",
    "length = 0\n",
    "for ch in s: \n",
    "    length += 1\n",
    "\n",
    "print('Length of a string is ', length)"
   ]
  },
  {
   "cell_type": "code",
   "execution_count": 131,
   "id": "b38e2bac-3002-414a-a5bf-a4c3c343f22f",
   "metadata": {},
   "outputs": [
    {
     "name": "stdin",
     "output_type": "stream",
     "text": [
      "Enter the Email :  nitish24singh@gmail.com \n"
     ]
    },
    {
     "name": "stdout",
     "output_type": "stream",
     "text": [
      "User name is :  nitish24singh\n"
     ]
    }
   ],
   "source": [
    "# Extract username from a given email. \n",
    "# Eg if the email is nitish24singh@gmail.com \n",
    "# then the username should be nitish24singh \n",
    "\n",
    "email = input('Enter the Email : ')\n",
    "\n",
    "index = email.find('@')\n",
    "\n",
    "user_name = email[ : index]\n",
    "\n",
    "print('User name is : ', user_name)"
   ]
  },
  {
   "cell_type": "code",
   "execution_count": 136,
   "id": "fcf961cb-de4f-492d-8707-2690a239dc08",
   "metadata": {},
   "outputs": [
    {
     "name": "stdin",
     "output_type": "stream",
     "text": [
      "Enter the String :  hfhfhf\n",
      "what would like to search for :  h\n"
     ]
    },
    {
     "name": "stdout",
     "output_type": "stream",
     "text": [
      "The Frequency of this character \"h\" is 3.\n"
     ]
    }
   ],
   "source": [
    "# Count the frequency of a particular character in a provided string. \n",
    "# Eg 'hello how are you' is the string, the frequency of h in this string is 2. \n",
    "\n",
    "s = input('Enter the String : ')\n",
    "term = input('what would like to search for : ')\n",
    "\n",
    "counter = 0\n",
    "for ch in s:\n",
    "    if ch == term: \n",
    "        counter += 1\n",
    "\n",
    "print('The Frequency of this character \"{}\" is {}.'.format(term, counter))"
   ]
  },
  {
   "cell_type": "code",
   "execution_count": 137,
   "id": "ab3171ba-8eff-4401-b739-bfdec9b7c01e",
   "metadata": {},
   "outputs": [
    {
     "name": "stdin",
     "output_type": "stream",
     "text": [
      "Enter the string :  hor shfjsfg gdghef\n",
      "what would like to remove :  g\n"
     ]
    },
    {
     "name": "stdout",
     "output_type": "stream",
     "text": [
      "Final String after removing the g is hor shfjsf dhef\n"
     ]
    }
   ],
   "source": [
    "# Write a program which can remove a particular character from a string.\n",
    "s = input('Enter the string : ')\n",
    "term = input('what would like to remove : ')\n",
    "\n",
    "result = ''\n",
    "for ch in s:\n",
    "    if ch != term:\n",
    "        result += ch \n",
    "\n",
    "print('Final String after removing the {} is {}'.format(term, result))"
   ]
  },
  {
   "cell_type": "code",
   "execution_count": 5,
   "id": "ddf23bbe-02d0-454e-b74a-57f1a6ec5ced",
   "metadata": {},
   "outputs": [
    {
     "name": "stdin",
     "output_type": "stream",
     "text": [
      "Enter the String :  malayalam\n"
     ]
    },
    {
     "name": "stdout",
     "output_type": "stream",
     "text": [
      "Given string is Palindrome.\n"
     ]
    }
   ],
   "source": [
    "# Write a program that can check whether a given string is palindrome or not.\n",
    "# nitin \n",
    "# madam\n",
    "# malayalam\n",
    "\n",
    "s = input('Enter the String : ')\n",
    "s = s.lower()\n",
    "\n",
    "i = 0\n",
    "j = len(s) - 1\n",
    "\n",
    "while(i <= j):\n",
    "    if s[i] != s[j]:\n",
    "        print('Given String is not Palindrome.')\n",
    "        break\n",
    "    i += 1\n",
    "    j -= 1\n",
    "else: \n",
    "    print('Given string is Palindrome.')"
   ]
  },
  {
   "cell_type": "code",
   "execution_count": 13,
   "id": "4b84082c-3729-48db-8d12-61b54df59945",
   "metadata": {},
   "outputs": [
    {
     "name": "stdin",
     "output_type": "stream",
     "text": [
      "Enter the String :  hey hdh faf khkyjhk gsdfte gsd\n"
     ]
    },
    {
     "name": "stdout",
     "output_type": "stream",
     "text": [
      "The total words in this given string is 6\n",
      "['hey', 'hdh', 'faf', 'khkyjhk', 'gsdfte', 'gsd']\n"
     ]
    }
   ],
   "source": [
    "# Write a program to count the number of words in a string without split(). \n",
    "\n",
    "s = input('Enter the String : ') \n",
    "\n",
    "counter = 1\n",
    "list = []\n",
    "first_index = 0\n",
    "\n",
    "for i in range(0, len(s)): \n",
    "    if s[i] == ' ': \n",
    "        counter += 1\n",
    "        list.append(s[first_index : i])\n",
    "        first_index = i + 1\n",
    "\n",
    "list.append(s[first_index : ])\n",
    "print('The total words in this given string is {}'.format(counter))\n",
    "print(list)\n"
   ]
  },
  {
   "cell_type": "code",
   "execution_count": 15,
   "id": "650f6e19-2845-4d40-896b-5230dbff27b0",
   "metadata": {},
   "outputs": [
    {
     "name": "stdin",
     "output_type": "stream",
     "text": [
      "Enter the number 8475846\n"
     ]
    },
    {
     "name": "stdout",
     "output_type": "stream",
     "text": [
      "The converted integer is :  8475846\n",
      "<class 'str'>\n"
     ]
    }
   ],
   "source": [
    "# Write a program that can convert an integer to string.\n",
    "\n",
    "number = int(input('Enter the number'))\n",
    "\n",
    "digits = '0123456789'\n",
    "result = ''\n",
    "while number != 0:\n",
    "  index = number % 10  \n",
    "  result = digits[index] + result\n",
    "  number = number // 10\n",
    "\n",
    "print('The converted integer is : ', result)\n",
    "print(type(result))"
   ]
  },
  {
   "cell_type": "code",
   "execution_count": null,
   "id": "0deca48c-6eae-4fd0-a5a1-960c1d81caef",
   "metadata": {},
   "outputs": [],
   "source": []
  }
 ],
 "metadata": {
  "kernelspec": {
   "display_name": "Python 3 (ipykernel)",
   "language": "python",
   "name": "python3"
  },
  "language_info": {
   "codemirror_mode": {
    "name": "ipython",
    "version": 3
   },
   "file_extension": ".py",
   "mimetype": "text/x-python",
   "name": "python",
   "nbconvert_exporter": "python",
   "pygments_lexer": "ipython3",
   "version": "3.13.1"
  }
 },
 "nbformat": 4,
 "nbformat_minor": 5
}
