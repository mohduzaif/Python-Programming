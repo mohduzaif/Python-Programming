{
 "cells": [
  {
   "cell_type": "markdown",
   "id": "47a5a7bb-dcb6-4afb-bf1a-f5ece63ce1e4",
   "metadata": {},
   "source": [
    "# Fundamentals of the Pythons."
   ]
  },
  {
   "cell_type": "markdown",
   "id": "431aa8f7-9615-452d-993a-b6ec24e4b174",
   "metadata": {},
   "source": [
    "## Output function in python."
   ]
  },
  {
   "cell_type": "code",
   "execution_count": null,
   "id": "bceabfa8-388e-4b44-9365-25a09b0c8d29",
   "metadata": {},
   "outputs": [],
   "source": [
    "print('Hello World')"
   ]
  },
  {
   "cell_type": "code",
   "execution_count": null,
   "id": "dfb5110f-5c40-45c2-9e83-06ed0cfbf2c6",
   "metadata": {},
   "outputs": [],
   "source": [
    "print('Hello', 1, True, 4.5, sep='/')"
   ]
  },
  {
   "cell_type": "code",
   "execution_count": null,
   "id": "0b234c05-71c2-4c7c-bf66-ba3f893caa68",
   "metadata": {},
   "outputs": [],
   "source": [
    "print('Its my stating in this', end='---')\n",
    "print('Data Science field')"
   ]
  },
  {
   "cell_type": "code",
   "execution_count": null,
   "id": "b2fe7b7f-a15d-4c22-92e5-b1439279967f",
   "metadata": {},
   "outputs": [],
   "source": [
    "type(print)"
   ]
  },
  {
   "cell_type": "markdown",
   "id": "756f5594-1587-4bcb-813a-d01bb21a7eea",
   "metadata": {},
   "source": [
    "## Datatypes in python."
   ]
  },
  {
   "cell_type": "code",
   "execution_count": null,
   "id": "82759dde-db81-4672-855a-2e594dd980a1",
   "metadata": {},
   "outputs": [],
   "source": [
    "# Integers.\n",
    "print(7)\n",
    "\n",
    "# Maximum value of Integer it can handle (1 * 10^308).\n",
    "print(1e308)"
   ]
  },
  {
   "cell_type": "code",
   "execution_count": null,
   "id": "5887d7a0-5736-411c-83d1-afdb56674afa",
   "metadata": {},
   "outputs": [],
   "source": [
    "# Decimal or Float. \n",
    "print(7.4)\n",
    "\n",
    "# Maximum value of Float it can handle (1.0 * 10^308).\n",
    "print(1.645e308)"
   ]
  },
  {
   "cell_type": "code",
   "execution_count": null,
   "id": "e3e8f063-8e5e-4d6c-b07d-816e404b2d5d",
   "metadata": {},
   "outputs": [],
   "source": [
    "# Boolean. \n",
    "print(True)\n",
    "print(False)"
   ]
  },
  {
   "cell_type": "code",
   "execution_count": null,
   "id": "0cedbc77-e306-4346-bac4-3ecaddc19e32",
   "metadata": {},
   "outputs": [],
   "source": [
    "# Complex \n",
    "print(3 + 9j)"
   ]
  },
  {
   "cell_type": "code",
   "execution_count": null,
   "id": "fb199bab-5331-4696-8001-7d4ed5ad27b8",
   "metadata": {},
   "outputs": [],
   "source": [
    "# String or Text\n",
    "print('Data Science')"
   ]
  },
  {
   "cell_type": "code",
   "execution_count": null,
   "id": "f737df68-2d6b-40b3-a66c-ce50e7cafa2a",
   "metadata": {},
   "outputs": [],
   "source": [
    "# List --> Similar to Array in C. \n",
    "print([1, 2, 3, 4, 5.9, 6, True,'Algorithms', 'Machine Learning'])"
   ]
  },
  {
   "cell_type": "code",
   "execution_count": null,
   "id": "28be7e3b-d522-4d43-baa0-bf496be710f3",
   "metadata": {},
   "outputs": [],
   "source": [
    "# Tuple \n",
    "print((1, 2, 3, 4, True, 'Algorithm', 4.2))"
   ]
  },
  {
   "cell_type": "code",
   "execution_count": null,
   "id": "5857db4a-d00d-433b-909d-1e9ed97fcc92",
   "metadata": {},
   "outputs": [],
   "source": [
    "# Sets. \n",
    "print({1, 2, 3, 4, 'Amazing', 9.2, True, False, 'DSMP'})"
   ]
  },
  {
   "cell_type": "code",
   "execution_count": null,
   "id": "a6e570ed-8a58-4570-993b-c7ca172293c6",
   "metadata": {},
   "outputs": [],
   "source": [
    "# Dictionary --> Key Value pairs.  \n",
    "print({'Name' : 'Uzaif', 'Gender' : 'Male', 'Weight' : 65})"
   ]
  },
  {
   "cell_type": "markdown",
   "id": "cd497a0e-2dae-4af6-8582-cdefd45e0ccd",
   "metadata": {},
   "source": [
    "## type function. "
   ]
  },
  {
   "cell_type": "code",
   "execution_count": null,
   "id": "c0156857-e2b1-4f3a-a645-d76d3ee6a122",
   "metadata": {},
   "outputs": [],
   "source": [
    "type(print)"
   ]
  },
  {
   "cell_type": "code",
   "execution_count": null,
   "id": "d1ea4b2c-1c12-445e-88dd-a1ed47a88afe",
   "metadata": {},
   "outputs": [],
   "source": [
    "type(3.4)"
   ]
  },
  {
   "cell_type": "markdown",
   "id": "9339b659-aa7a-4ada-aacb-b1b73efcdce3",
   "metadata": {},
   "source": [
    "## variable in python. "
   ]
  },
  {
   "cell_type": "markdown",
   "id": "d297732c-7e97-40f3-acb4-bd4fc4b3045a",
   "metadata": {},
   "source": [
    "Variables are the conatiner that holds the value(any type of value).\n",
    "In python you don't need to tell the type of variable explicitly."
   ]
  },
  {
   "cell_type": "code",
   "execution_count": null,
   "id": "f4b1ed49-3420-4c1e-b10d-9b5d26dbfdf4",
   "metadata": {},
   "outputs": [],
   "source": [
    "name = 'Uzaif'\n",
    "print(name)"
   ]
  },
  {
   "cell_type": "markdown",
   "id": "ef7974fb-2607-4e9f-8895-c18465e4e72d",
   "metadata": {},
   "source": [
    "Dynamic Typing  --> Were you dont need to tell the type of variable python interpreter is too smart to detect the type at runtime.\n",
    "\n",
    "\n",
    "Static Typing   --> Here we need to tell the type of a variable explicitly like in C/CPP/Java."
   ]
  },
  {
   "cell_type": "code",
   "execution_count": null,
   "id": "d152c4b6-5d1b-4856-bf93-d28ac23d271b",
   "metadata": {},
   "outputs": [],
   "source": [
    "# Dynamic Typing.\n",
    "number = 3\n",
    "print(number)\n"
   ]
  },
  {
   "cell_type": "markdown",
   "id": "c4027323-0fc8-4241-b10c-a4c2671aebc9",
   "metadata": {},
   "source": [
    "Dynamic Binding  ---> Dynamic Binding means the variable can hold any values during the execution."
   ]
  },
  {
   "cell_type": "code",
   "execution_count": null,
   "id": "09cc9bf4-4b0c-41d8-b3bc-520ad53227cc",
   "metadata": {},
   "outputs": [],
   "source": [
    "# Dynamic Binding. \n",
    "\n",
    "number = 10\n",
    "print(number)\n",
    "\n",
    "number = 'Jamia Millia Islamia'\n",
    "print(number)"
   ]
  },
  {
   "cell_type": "code",
   "execution_count": null,
   "id": "6582f1af-304f-4167-af31-6328b427738e",
   "metadata": {},
   "outputs": [],
   "source": [
    "# Writing of Variables in different Ways. \n",
    "a, b, c = 1, 2, 3\n",
    "print(a, b, c)"
   ]
  },
  {
   "cell_type": "code",
   "execution_count": null,
   "id": "74c6c2de-d8a3-420d-9386-72ae756afa78",
   "metadata": {},
   "outputs": [],
   "source": [
    "a = b = c = 19\n",
    "print(a, b, c)"
   ]
  },
  {
   "cell_type": "markdown",
   "id": "6b0bae1f-4307-4523-9370-0c09df377967",
   "metadata": {},
   "source": [
    "## Keywords and Identifiers. "
   ]
  },
  {
   "cell_type": "code",
   "execution_count": null,
   "id": "4836b3e1-e557-4967-b622-5f2c500718cf",
   "metadata": {},
   "outputs": [],
   "source": [
    "# Keywords --> Keywords are the reserved words that are used by the interpreter to convert high level code to low level code(Binary code).\n",
    "# Interpreter\n",
    "# Compiler"
   ]
  },
  {
   "cell_type": "code",
   "execution_count": null,
   "id": "54e1f76b-0d71-4deb-96b1-37ebfe338c4d",
   "metadata": {},
   "outputs": [],
   "source": [
    "# Identifiers  --> Identifier are the name of any variable, function and class in python. \n",
    "\n",
    "# Rules to create an identifier. \n",
    "\n",
    "# Rule No 1 : You can not start the name with digit. \n",
    "# Rule No 2 : You can only used underscore(_) as a special Character. \n",
    "# Rule No 3 : Identifiers can not be Keywords. \n",
    "\n",
    "name1 = 'Uzaif'\n",
    "print(name1)\n",
    "state_name = 'Uttar Pradesh'\n",
    "print(state_name)\n",
    "_ = 'Under Score type Identifier'\n",
    "print(_)"
   ]
  },
  {
   "cell_type": "markdown",
   "id": "2a664fc7-b5ef-463c-8823-bee275f901dc",
   "metadata": {},
   "source": [
    "## User Input."
   ]
  },
  {
   "cell_type": "code",
   "execution_count": null,
   "id": "77164694-cc03-4c5c-99c1-dc9678f554e1",
   "metadata": {},
   "outputs": [],
   "source": [
    "college_name = input('Enter your college name : ')\n",
    "print(college_name)"
   ]
  },
  {
   "cell_type": "markdown",
   "id": "e5f8b698-56c3-4545-8289-dbd3cb142fc8",
   "metadata": {},
   "source": [
    "#### Program to add two number from User inputs."
   ]
  },
  {
   "cell_type": "code",
   "execution_count": null,
   "id": "7acb7732-4bd3-4087-953f-359f63b81cad",
   "metadata": {},
   "outputs": [],
   "source": [
    "# Take the inputs from the user, and store them into a variable\n",
    "number1 = int(input('Enter the first number : '))\n",
    "number2 = int(input('Enter the second number : '))\n",
    "\n",
    "# Add them into a result variable.\n",
    "result = number1 + number2\n",
    "\n",
    "# Print the Result.\n",
    "print('Sum of the given two Number is : ', result)"
   ]
  },
  {
   "cell_type": "markdown",
   "id": "726b4b7d-bad1-471d-86ce-10e068966d3d",
   "metadata": {},
   "source": [
    "## Type Conversion."
   ]
  },
  {
   "cell_type": "code",
   "execution_count": null,
   "id": "d09a3f1f-9bad-44da-ae58-0a37d3f20444",
   "metadata": {},
   "outputs": [],
   "source": [
    "# Implicit Type conversion. \n",
    "print(4 + 1.4)\n",
    "\n",
    "# Explicit Type Conversion. \n",
    "int('4')\n",
    "int(5.4)\n",
    "\n",
    "str(45)\n",
    "str(4.5)\n",
    "\n",
    "float(4)\n",
    "float('456')\n",
    "\n",
    "bool(2)\n",
    "bool(0)"
   ]
  },
  {
   "cell_type": "markdown",
   "id": "25be4702-5e80-4a85-a607-356a30cb8c22",
   "metadata": {},
   "source": [
    "## Literals."
   ]
  },
  {
   "cell_type": "code",
   "execution_count": null,
   "id": "d5c1e1a6-3fb1-42d6-9690-5b6bbcae6479",
   "metadata": {},
   "outputs": [],
   "source": [
    "# Literals are the values that are stored in any variable. \n",
    "\n",
    "# Binary Literal\n",
    "binary = 0b1010\n",
    "\n",
    "# Decimal Literals.\n",
    "decimal = 100\n",
    "\n",
    "# Octal Literals.\n",
    "octal = 0o123\n",
    "\n",
    "# HexaDecimal Literals.\n",
    "hexadecimal = 0x16\n",
    "\n",
    "print(binary, decimal, octal, hexadecimal)"
   ]
  },
  {
   "cell_type": "code",
   "execution_count": null,
   "id": "02c5ce36-960d-4a79-ba19-1d997392736e",
   "metadata": {},
   "outputs": [],
   "source": [
    "# Float Literals.\n",
    "float_1 = 1.23\n",
    "\n",
    "# 1 * 10^3\n",
    "float_2 = 1e3\n",
    "\n",
    "# 123 * 10^-2\n",
    "float_3 = 123e-2\n",
    "\n",
    "print(float_1, float_2, float_3, sep=' , ')"
   ]
  },
  {
   "cell_type": "code",
   "execution_count": null,
   "id": "2633ec64-f40c-44d7-a809-7c5ef50077e8",
   "metadata": {},
   "outputs": [],
   "source": [
    "# Complex Literals.\n",
    "num1 = 1+3j\n",
    "num2 = 23j\n",
    "\n",
    "print(num1.real, num1.imag, sep='-')\n",
    "print(num2.real, num2.imag, sep='-')"
   ]
  },
  {
   "cell_type": "code",
   "execution_count": null,
   "id": "9800d7c1-998c-4cc6-aef4-acf1462fa3d3",
   "metadata": {},
   "outputs": [],
   "source": [
    "# Boolean Literals. \n",
    "num1 = True + 4\n",
    "num2 = False + 10\n",
    "\n",
    "print('Number 1 : ', num1)\n",
    "print('NUmber 2 : ', num2)"
   ]
  },
  {
   "cell_type": "code",
   "execution_count": null,
   "id": "e1657439-e100-41b3-a1aa-3e470e900509",
   "metadata": {},
   "outputs": [],
   "source": [
    "# None Literal --> It is actually used for variable decleration. \n",
    "num = None"
   ]
  },
  {
   "cell_type": "code",
   "execution_count": null,
   "id": "ebed300e-d552-4f17-8470-293f1c84d97e",
   "metadata": {},
   "outputs": [],
   "source": [
    "# String Literals. \n",
    "str1 = 'Hello World'\n",
    "str2 = \"Hello World\"\n",
    "str3 = \"\"\" Triple qoutes are used to write the \n",
    "            multiple line strings\n",
    "       \"\"\"\n",
    "\n",
    "print(str1, str2, str3, sep='-')\n",
    "\n",
    "unicodes = u\"\\U0001F642\\U0001F643\\U0001F644\\U0001F605\"\n",
    "print(unicodes)"
   ]
  },
  {
   "cell_type": "code",
   "execution_count": null,
   "id": "a20edfa9-f2a2-42d2-b868-26da042b986e",
   "metadata": {},
   "outputs": [],
   "source": []
  }
 ],
 "metadata": {
  "kernelspec": {
   "display_name": "Python 3 (ipykernel)",
   "language": "python",
   "name": "python3"
  },
  "language_info": {
   "codemirror_mode": {
    "name": "ipython",
    "version": 3
   },
   "file_extension": ".py",
   "mimetype": "text/x-python",
   "name": "python",
   "nbconvert_exporter": "python",
   "pygments_lexer": "ipython3",
   "version": "3.13.1"
  }
 },
 "nbformat": 4,
 "nbformat_minor": 5
}
