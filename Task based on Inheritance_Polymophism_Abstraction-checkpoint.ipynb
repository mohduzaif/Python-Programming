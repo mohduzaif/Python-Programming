{
 "cells": [
  {
   "cell_type": "markdown",
   "id": "3f30cf4f-28d2-47f2-8450-bfc8bf2b1122",
   "metadata": {},
   "source": [
    "### `Problem-1:` Class inheritence\n",
    "\n",
    "Create a **Bus** child class that inherits from the Vehicle class. The default fare charge of any vehicle is seating capacity * 100. If Vehicle is Bus instance, we need to add an extra 10% on full fare as a maintenance charge. So total fare for bus instance will become the final amount = total fare + 10% of the total fare.\n",
    "\n",
    "Note: The bus seating capacity is 50. so the final fare amount should be 5500. You need to override the fare() method of a Vehicle class in Bus class."
   ]
  },
  {
   "cell_type": "code",
   "execution_count": 28,
   "id": "c9202eca-2822-4a52-b6ce-677665d5c32e",
   "metadata": {},
   "outputs": [],
   "source": [
    "# Parent Class. \n",
    "class Vehicle:\n",
    "\n",
    "    def __init__(self): \n",
    "        self.capacity = 50\n",
    "    \n",
    "    def fare(self): \n",
    "        return self.capacity * 100\n",
    "        \n",
    "\n",
    "# child class. \n",
    "class Bus(Vehicle): \n",
    "\n",
    "    def fare(self): \n",
    "        base_fare = super().fare()\n",
    "        maintenance_charge = 0.1 * base_fare\n",
    "        total_fare_include_charge = base_fare + maintenance_charge\n",
    "        return total_fare_include_charge\n",
    "\n"
   ]
  },
  {
   "cell_type": "code",
   "execution_count": 29,
   "id": "d21bf288-414c-4a73-b612-964c55e5e05f",
   "metadata": {},
   "outputs": [
    {
     "data": {
      "text/plain": [
       "5500.0"
      ]
     },
     "execution_count": 29,
     "metadata": {},
     "output_type": "execute_result"
    }
   ],
   "source": [
    "bus = Bus()\n",
    "bus.fare()"
   ]
  },
  {
   "cell_type": "markdown",
   "id": "98b55393-890e-4a24-a56a-c4787814f129",
   "metadata": {},
   "source": [
    "### `Problem-2:` Class Inheritence\n",
    "\n",
    "Create a Bus class that inherits from the Vehicle class. Give the capacity argument of *Bus.seating_capacity()* a default value of 50.\n",
    "\n",
    "Use the following code for your parent Vehicle class."
   ]
  },
  {
   "cell_type": "code",
   "execution_count": 169,
   "id": "745ff8a9-7476-4941-a18a-c7f994d459ac",
   "metadata": {},
   "outputs": [
    {
     "name": "stdout",
     "output_type": "stream",
     "text": [
      "The seating capacity of the vehicle is 50\n",
      "The seating capacity of the vehicle is 60\n"
     ]
    }
   ],
   "source": [
    "# Parent class\n",
    "class Vehicle:\n",
    "    def seating_capacity(self, capacity):\n",
    "        return 'The seating capacity of the vehicle is {}'.format(capacity)\n",
    "\n",
    "# Child class\n",
    "class Bus(Vehicle):\n",
    "    \n",
    "    # Override method with a default value\n",
    "    def seating_capacity(self, capacity=50):\n",
    "        return super().seating_capacity(capacity)\n",
    "\n",
    "\n",
    "bus = Bus()\n",
    "print(bus.seating_capacity())       \n",
    "print(bus.seating_capacity(60))     \n"
   ]
  },
  {
   "cell_type": "markdown",
   "id": "6bdd155d-571c-4c3c-a4f9-fb48dc7f6814",
   "metadata": {},
   "source": [
    "### `Problem-3:` Write a program that has a class Point. Define another class Location which has two objects (Location & Destination) of class Point. Also define a function in Location that prints the reflection of Destination on the x axis."
   ]
  },
  {
   "cell_type": "code",
   "execution_count": 13,
   "id": "e326b506-1662-4c52-9813-2b06af1f8ab7",
   "metadata": {},
   "outputs": [
    {
     "name": "stdout",
     "output_type": "stream",
     "text": [
      "The reflection of the destination Point :  <1,-2>\n"
     ]
    }
   ],
   "source": [
    "class Point: \n",
    "\n",
    "    def __init__(self, x, y): \n",
    "        self.x_coordinate = x \n",
    "        self.y_coordinate = y \n",
    "\n",
    "    def __str__(self): \n",
    "        return '<{},{}>'.format(self.x_cordinate, self.y_cordinate)\n",
    "\n",
    "\n",
    "class Location: \n",
    "\n",
    "    def __init__(self, location, destination):\n",
    "        self.location = location\n",
    "        self.destination = destination\n",
    "\n",
    "    def reflection_destination(self): \n",
    "        return '<{},{}>'.format(self.destination.x_coordinate, -1 * self.destination.y_coordinate)\n",
    "\n",
    "p1 = Point(2, 3)\n",
    "p2 = Point(1, 2)\n",
    "\n",
    "loc = Location(p1, p2)\n",
    "print('The reflection of the destination Point : ', loc.reflection_destination())"
   ]
  },
  {
   "cell_type": "markdown",
   "id": "3949c3da-3a95-4012-9317-ce4e0e7e3881",
   "metadata": {},
   "source": [
    "### `Problem-4:` Write a program that has an abstract class Polygon. Derive two classes Rectangle and Triangle from Polygon and write methods to get the details of their dimensions and hence calculate the area."
   ]
  },
  {
   "cell_type": "code",
   "execution_count": 23,
   "id": "ac975901-ea66-46b7-b55a-c4bc2c613b86",
   "metadata": {},
   "outputs": [
    {
     "name": "stdout",
     "output_type": "stream",
     "text": [
      "8\n",
      "10.0\n"
     ]
    }
   ],
   "source": [
    "# from abstract class(abc) we need to import the ABC class and abstractmthod\n",
    "from abc import ABC, abstractmethod\n",
    "\n",
    "class Polygon(ABC): \n",
    "\n",
    "    @abstractmethod\n",
    "    def area(self): \n",
    "        pass \n",
    "\n",
    "\n",
    "# Rectangle Class. \n",
    "class Rectangle(Polygon): \n",
    "    def __init__(self, length, width): \n",
    "        self.length = length\n",
    "        self.width = width\n",
    "\n",
    "    # defination of abstract method of parent class. \n",
    "    def area(self): \n",
    "        return self.length * self.width\n",
    "\n",
    "\n",
    "# Triangle Class. \n",
    "class Triangle(Polygon): \n",
    "    def __init__(self, base, height): \n",
    "        self.base = base\n",
    "        self.height = height\n",
    "\n",
    "    # defination of abstract method of parent class. \n",
    "    def area(self): \n",
    "        return 0.5 * self.base * self.height\n",
    "\n",
    "\n",
    "rect = Rectangle(2, 4)\n",
    "print(rect.area()) \n",
    "\n",
    "\n",
    "tri = Triangle(4, 5)\n",
    "print(tri.area())"
   ]
  },
  {
   "cell_type": "markdown",
   "id": "d6d378e5-1524-4386-b268-6170b148fec7",
   "metadata": {},
   "source": [
    "### `Problem-5:` Write a program with class Bill. The users have the option to pay the bill either by cheque or by cash. Use the inheritance to model this situation."
   ]
  },
  {
   "cell_type": "code",
   "execution_count": 103,
   "id": "5f65a8d3-50ca-4dbb-af85-9d9ffa0e3573",
   "metadata": {},
   "outputs": [],
   "source": [
    "# Parent Class\n",
    "class Bill: \n",
    "    def __init__(self, total_bill, bill_no): \n",
    "        self.total_bill = total_bill\n",
    "        self.bill_no = bill_no\n",
    "\n",
    "    def pay_bill(self, amount_to_be_paid): \n",
    "        \n",
    "        if self.total_bill >= amount_to_be_paid: \n",
    "            self.total_bill = self.total_bill - amount_to_be_paid\n",
    "            print('Amount Paid Successfully.') \n",
    "            \n",
    "            return 'Remaining amount is {}'.format(self.total_bill)\n",
    "\n",
    "        \n",
    "class Cheque(Bill): \n",
    "    \n",
    "    def pay_by_cheque(self, amount_paid): \n",
    "        print('Pay by Cheque')\n",
    "        print(super().pay_bill(amount_paid))\n",
    "\n",
    "    \n",
    "class Cash(Bill): \n",
    "    \n",
    "    def pay_by_cash(self, amount_paid): \n",
    "        print('Pay by Cash')\n",
    "        print(super().pay_bill(amount_paid))"
   ]
  },
  {
   "cell_type": "code",
   "execution_count": 104,
   "id": "b2a1ad6e-bc3e-440c-895f-605440ef0a8d",
   "metadata": {},
   "outputs": [
    {
     "name": "stdout",
     "output_type": "stream",
     "text": [
      "Pay by Cheque\n",
      "Amount Paid Successfully.\n",
      "Remaining amount is 5000\n"
     ]
    }
   ],
   "source": [
    "cheque = Cheque(10000, '1234')\n",
    "cheque.pay_by_cheque(5000)"
   ]
  },
  {
   "cell_type": "code",
   "execution_count": 105,
   "id": "d7f36cfa-66bd-4f6a-bac6-d2f3e615fb4a",
   "metadata": {},
   "outputs": [
    {
     "name": "stdout",
     "output_type": "stream",
     "text": [
      "Pay by Cash\n",
      "Amount Paid Successfully.\n",
      "Remaining amount is 9000\n"
     ]
    }
   ],
   "source": [
    "cash = Cash(12000, '123456')\n",
    "cash.pay_by_cash(3000)"
   ]
  },
  {
   "cell_type": "markdown",
   "id": "b5efe0a2-509b-4828-a36c-4a102b61fc16",
   "metadata": {},
   "source": [
    "### `Q-6:` FlexibleDict\n",
    "As of now we are accessing values from dictionary with exact keys. Now we want to namend accessing values functionality. if a dict have key `1` (int) the even if we try to access values by giving `'1'` (1 as str) as key, we should get the same result and vice versa.\n",
    "\n",
    "Write a class `FlexibleDict` upon builtin `dict` class with above required functionality.\n",
    "\n",
    "Hint- `dict[key] => dict.__getitem__(key)` "
   ]
  },
  {
   "cell_type": "code",
   "execution_count": 160,
   "id": "988066cd-607f-4ee7-9563-df1439bff78b",
   "metadata": {},
   "outputs": [],
   "source": [
    "class FlexbleDict(dict): \n",
    "\n",
    "    \n",
    "    def __init__(self): \n",
    "        \n",
    "        self.dictionary = {\n",
    "                    '1' : 'I am One', \n",
    "                     2 : 'I am Two', \n",
    "                    '3' : 'I am Three',\n",
    "                     4 : 'I am Four'\n",
    "                }\n",
    "\n",
    "    \n",
    "    def __getitem__(self, key): \n",
    "        keys = self.dictionary.keys()\n",
    "        for i in keys: \n",
    "            if int(i) == int(key): \n",
    "                return self.dictionary[i] or self.dictionary[key]\n",
    "\n",
    "        return \"'{}' as a key is not found in the dictionary\".format(key)"
   ]
  },
  {
   "cell_type": "code",
   "execution_count": 161,
   "id": "1ccb58a9-97d8-40ea-b5f2-ed6e4083878b",
   "metadata": {},
   "outputs": [],
   "source": [
    "flx = FlexbleDict()"
   ]
  },
  {
   "cell_type": "code",
   "execution_count": 162,
   "id": "6fbae192-2bb7-4c4d-b47f-a01411c73819",
   "metadata": {},
   "outputs": [
    {
     "name": "stdout",
     "output_type": "stream",
     "text": [
      "I am One\n",
      "I am Two\n",
      "I am Three\n",
      "I am Four\n"
     ]
    }
   ],
   "source": [
    "print(flx[1])\n",
    "print(flx['2']) \n",
    "print(flx[3]) \n",
    "print(flx['4'])"
   ]
  },
  {
   "cell_type": "code",
   "execution_count": 163,
   "id": "0777ed9c-8e0e-4330-9b7a-c781bd84e142",
   "metadata": {},
   "outputs": [
    {
     "name": "stdout",
     "output_type": "stream",
     "text": [
      "'9' as a key is not found in the dictionary\n"
     ]
    }
   ],
   "source": [
    "print(flx[9])"
   ]
  },
  {
   "cell_type": "code",
   "execution_count": null,
   "id": "b54bfbc7-ab52-4b0c-8ba4-f0a7b1379dfc",
   "metadata": {},
   "outputs": [],
   "source": []
  }
 ],
 "metadata": {
  "kernelspec": {
   "display_name": "Python 3 (ipykernel)",
   "language": "python",
   "name": "python3"
  },
  "language_info": {
   "codemirror_mode": {
    "name": "ipython",
    "version": 3
   },
   "file_extension": ".py",
   "mimetype": "text/x-python",
   "name": "python",
   "nbconvert_exporter": "python",
   "pygments_lexer": "ipython3",
   "version": "3.13.1"
  }
 },
 "nbformat": 4,
 "nbformat_minor": 5
}
