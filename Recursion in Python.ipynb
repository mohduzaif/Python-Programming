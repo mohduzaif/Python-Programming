{
 "cells": [
  {
   "cell_type": "markdown",
   "id": "1549f4f1-1b63-462b-aa84-af4985b21d9b",
   "metadata": {},
   "source": [
    "#### Print Numbers from 1 to N using Recursion. "
   ]
  },
  {
   "cell_type": "code",
   "execution_count": 9,
   "id": "a24b38f2-3ccd-4c2c-95a0-be93ce599de5",
   "metadata": {},
   "outputs": [],
   "source": [
    "def print_number(number): \n",
    "\n",
    "    # base case. \n",
    "    if number == 1:\n",
    "        print(number, end=' ')\n",
    "        return\n",
    "\n",
    "    # Recursive case. \n",
    "    print_number(number - 1)\n",
    "    print(number, end=' ')"
   ]
  },
  {
   "cell_type": "code",
   "execution_count": 10,
   "id": "6125784f-12cd-45ea-a99e-104ac9159b86",
   "metadata": {},
   "outputs": [
    {
     "name": "stdout",
     "output_type": "stream",
     "text": [
      "1 2 3 4 5 6 7 8 9 10 "
     ]
    }
   ],
   "source": [
    "print_number(10)"
   ]
  },
  {
   "cell_type": "markdown",
   "id": "aa909455-4b33-474e-816c-b46753ca7910",
   "metadata": {},
   "source": [
    "### Factorial using Recursion. "
   ]
  },
  {
   "cell_type": "code",
   "execution_count": 11,
   "id": "22625b8e-fe6b-435b-928b-ad56466d5fbb",
   "metadata": {},
   "outputs": [],
   "source": [
    "def factorial(n):\n",
    "\n",
    "    # base case. \n",
    "    if n == 1: \n",
    "        return 1\n",
    "\n",
    "    # recursive case. \n",
    "    return n * factorial(n - 1)"
   ]
  },
  {
   "cell_type": "code",
   "execution_count": 13,
   "id": "2817e6b7-ed07-47ac-a621-1d064ea271ad",
   "metadata": {},
   "outputs": [
    {
     "data": {
      "text/plain": [
       "720"
      ]
     },
     "execution_count": 13,
     "metadata": {},
     "output_type": "execute_result"
    }
   ],
   "source": [
    "factorial(6)"
   ]
  },
  {
   "cell_type": "markdown",
   "id": "b18de4bb-a059-4d28-aa6d-82412a5dc7f1",
   "metadata": {},
   "source": [
    "### Fibonacci number using recursion."
   ]
  },
  {
   "cell_type": "code",
   "execution_count": 14,
   "id": "35450231-0382-4768-9ab5-972675e24051",
   "metadata": {},
   "outputs": [],
   "source": [
    "def fabonacci_number(n):\n",
    "\n",
    "    if n == 0 or n == 1: \n",
    "        return n \n",
    "    \n",
    "    return fabonacci_number(n - 1) + fabonacci_number(n - 2)"
   ]
  },
  {
   "cell_type": "code",
   "execution_count": 17,
   "id": "d0ae35eb-973c-4b37-aa50-3677baec3efb",
   "metadata": {},
   "outputs": [
    {
     "data": {
      "text/plain": [
       "34"
      ]
     },
     "execution_count": 17,
     "metadata": {},
     "output_type": "execute_result"
    }
   ],
   "source": [
    "fabonacci_number(9)"
   ]
  },
  {
   "cell_type": "markdown",
   "id": "4551083a-9191-450c-8e78-58fedee0b51c",
   "metadata": {},
   "source": [
    "### Check Palindrome using Recursion."
   ]
  },
  {
   "cell_type": "code",
   "execution_count": 18,
   "id": "fd39f2ce-cd3d-400d-9468-b21e265a7c84",
   "metadata": {},
   "outputs": [],
   "source": [
    "def palindrome(string): \n",
    "\n",
    "    if len(string) <= 1: \n",
    "        return True\n",
    "\n",
    "    if string[0] != string[-1]: \n",
    "        return False \n",
    "    else: \n",
    "        return palindrome(string[1:-1])"
   ]
  },
  {
   "cell_type": "code",
   "execution_count": 23,
   "id": "3a1eefef-17d9-4d0e-bf8d-038566d508c7",
   "metadata": {},
   "outputs": [
    {
     "name": "stdout",
     "output_type": "stream",
     "text": [
      "True\n"
     ]
    }
   ],
   "source": [
    "print(palindrome('MalayalaM'))"
   ]
  },
  {
   "cell_type": "code",
   "execution_count": null,
   "id": "d67827f5-651c-479b-b90d-f023bb5525c6",
   "metadata": {},
   "outputs": [],
   "source": []
  }
 ],
 "metadata": {
  "kernelspec": {
   "display_name": "Python 3 (ipykernel)",
   "language": "python",
   "name": "python3"
  },
  "language_info": {
   "codemirror_mode": {
    "name": "ipython",
    "version": 3
   },
   "file_extension": ".py",
   "mimetype": "text/x-python",
   "name": "python",
   "nbconvert_exporter": "python",
   "pygments_lexer": "ipython3",
   "version": "3.13.1"
  }
 },
 "nbformat": 4,
 "nbformat_minor": 5
}
