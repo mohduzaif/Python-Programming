{
 "cells": [
  {
   "cell_type": "markdown",
   "id": "3d79f457-fc71-42af-a62f-969c5ca47a31",
   "metadata": {},
   "source": [
    "## List Based problems. "
   ]
  },
  {
   "cell_type": "markdown",
   "id": "f2076d7e-7376-4c13-8fa8-6007ef9ffe15",
   "metadata": {},
   "source": [
    "### `Problem 1:` Combine two lists index-wise(columns wise)\n",
    "\n",
    "Write a program to add two lists index-wise. Create a new list that contains the 0th index item from both the list, then the 1st index item, and so on till the last element. any leftover items will get added at the end of the new list.\n",
    "\n",
    "`Given List:`\n",
    "```\n",
    "list1 = [\"M\", \"na\", \"i\", \"Kh\"]\n",
    "list2 = [\"y\", \"me\", \"s\", \"an\"]\n",
    "```\n",
    "\n",
    "`Output:`\n",
    "```\n",
    "[['M','y'], ['na', me'], ['i', 's'], ['Kh', 'an']]\n",
    "```"
   ]
  },
  {
   "cell_type": "code",
   "execution_count": 2,
   "id": "a64353ae-b020-4563-be79-8bac2b6f6a76",
   "metadata": {},
   "outputs": [
    {
     "name": "stdout",
     "output_type": "stream",
     "text": [
      "[['M', 'y'], ['na', 'me'], ['i', 's'], ['Kh', 'an'], ['do'], ['why']]\n"
     ]
    }
   ],
   "source": [
    "list1 = [\"M\", \"na\", \"i\", \"Kh\"]\n",
    "list2 = [\"y\", \"me\", \"s\", \"an\", \"do\", \"why\"] \n",
    "\n",
    "length = min(len(list1), len(list2))\n",
    "\n",
    "result = []\n",
    "i = 0\n",
    "while i < length: \n",
    "    result.append([list1[i], list2[i]])\n",
    "    i += 1\n",
    "\n",
    "while i < len(list1): \n",
    "    result.append([list1[i]])\n",
    "    i += 1\n",
    "while i < len(list2): \n",
    "    result.append([list2[i]])\n",
    "    i += 1\n",
    "\n",
    "print(result)"
   ]
  },
  {
   "cell_type": "markdown",
   "id": "28176cfa-2378-4642-a59c-cd2872c46962",
   "metadata": {},
   "source": [
    "### `Problem 2:` Add new item to list after a specified item\n",
    "Write a program to add item 7000 after 6000 in the following Python List\n",
    "```\n",
    "list1 = [10, 20, [300, 400, [5000, 6000], 500], 30, 40]\n",
    "```\n",
    "`Output:`\n",
    "```\n",
    "[10, 20, [300, 400, [5000, 6000, 7000], 500], 30, 40]\n",
    "```"
   ]
  },
  {
   "cell_type": "code",
   "execution_count": 89,
   "id": "c822dedc-5f7b-4408-8860-0fa180356ce0",
   "metadata": {},
   "outputs": [
    {
     "name": "stdout",
     "output_type": "stream",
     "text": [
      "[10, 20, [300, 400, [5000, 6000, 7000], 500], 30, 40]\n"
     ]
    }
   ],
   "source": [
    "list1 = [10, 20, [300, 400, [5000, 6000], 500], 30, 40] \n",
    "# print(list1[2][2])\n",
    "\n",
    "list1[2][2].append(7000)\n",
    "print(list1)"
   ]
  },
  {
   "cell_type": "markdown",
   "id": "251e8140-a8cf-4544-af40-d6425c47ebcf",
   "metadata": {},
   "source": [
    "### `Problem 3:` Update no of items available\n",
    "\n",
    "Suppose you are given a list of candy and another list of same size representing no of items of respective candy. \n",
    "\n",
    "i.e -  \n",
    "```\n",
    "candy_list = ['Jelly Belly','Kit Kat','Double Bubble','Milky Way','Three Musketeers']\n",
    "no_of_items = [10,20,34,74,32]\n",
    "```\n",
    "\n",
    "Write a program to show no. of items of each candy type.\n",
    "\n",
    "`Output:`\n",
    "\n",
    "```\n",
    "Jelly Belly-10\n",
    "Kit Kat-20\n",
    "Double Bubble-34\n",
    "Milky Way-74\n",
    "Three Musketeers-32\n",
    "\n",
    "```"
   ]
  },
  {
   "cell_type": "code",
   "execution_count": 11,
   "id": "0b4d8f88-6ef7-4fae-80ce-0bebe9aa18c9",
   "metadata": {},
   "outputs": [
    {
     "name": "stdout",
     "output_type": "stream",
     "text": [
      "Jelly Belly-10\n",
      "Kit Kat-20\n",
      "Double Bubble-34\n",
      "Milky Way-74\n",
      "Three Musketeers-32\n"
     ]
    }
   ],
   "source": [
    "candy_list = ['Jelly Belly','Kit Kat','Double Bubble','Milky Way','Three Musketeers']\n",
    "no_of_items = [10,20,34,74,32]\n",
    "\n",
    "\n",
    "for i in range(len(candy_list)): \n",
    "    print('{}-{}'.format(candy_list[i], no_of_items[i]))"
   ]
  },
  {
   "cell_type": "markdown",
   "id": "b9c64520-faea-49f3-8cf9-a8ead6133b25",
   "metadata": {},
   "source": [
    "### `Problem 4:` Running Sum on list\n",
    "Write a program to print a list after performing running sum on it.\n",
    "\n",
    "i.e:\n",
    "\n",
    "`Input:`\n",
    "```\n",
    "list1 = [1,2,3,4,5,6]\n",
    "```\n",
    "`Output:`\n",
    "```\n",
    "[1,3,6,10,15,21]\n",
    "```"
   ]
  },
  {
   "cell_type": "code",
   "execution_count": 12,
   "id": "bdece083-2bdc-4725-b95f-d40baa9d6daa",
   "metadata": {},
   "outputs": [
    {
     "name": "stdout",
     "output_type": "stream",
     "text": [
      "[1, 3, 6, 10, 15, 21]\n"
     ]
    }
   ],
   "source": [
    "list1 = [1,2,3,4,5,6] \n",
    "\n",
    "curr_sum = 0\n",
    "new_list = []\n",
    "for number in list1: \n",
    "    curr_sum += number\n",
    "    new_list.append(curr_sum)\n",
    "print(new_list)"
   ]
  },
  {
   "cell_type": "markdown",
   "id": "32e56125-5c7f-4e64-8088-1c8017075ac3",
   "metadata": {},
   "source": [
    "### `Problem 5:` You are given a list of integers. You are asked to make a list by running through elements of the list by adding all elements greater and itself.\n",
    "\n",
    "i.e. Say given list is `[2,4,6,10,1]`\n",
    "resultant list will be `[22,20,16,10,23]`.\n",
    "\n",
    "For 1st element `2` ->> these are greater `(4+6+10)` values and `2` itself so on adding becomes `22`.\n",
    "\n",
    "For 2nd element `4` ->> greater elements are `(6, 10)` and `4` itself, so on adding `20`\n",
    "\n",
    "like wise for all other elememts.\n",
    "\n",
    "`[2,4,6,10,1]`-->`[22,20,16,10,23]`\n",
    "\n",
    "\n"
   ]
  },
  {
   "cell_type": "code",
   "execution_count": 14,
   "id": "c539a3f9-d59e-416d-8269-5e57dcf6e6ee",
   "metadata": {},
   "outputs": [
    {
     "name": "stdout",
     "output_type": "stream",
     "text": [
      "[22, 20, 16, 10, 23]\n"
     ]
    }
   ],
   "source": [
    "list1 = [2, 4, 6, 10, 1]\n",
    "\n",
    "new_list = []\n",
    "for i in range(len(list1)): \n",
    "    curr_sum = list1[i]\n",
    "    for j in range(len(list1)): \n",
    "        if i != j and list1[i] <= list1[j]:\n",
    "            curr_sum += list1[j]\n",
    "    new_list.append(curr_sum)   \n",
    "\n",
    "print(new_list)"
   ]
  },
  {
   "cell_type": "markdown",
   "id": "563256fc-d6f6-4b6a-891b-c69b9185359f",
   "metadata": {},
   "source": [
    "### `Problem 6:` Find list of common unique items from two list. and show in increasing order\n",
    "\n",
    "`Input`\n",
    "\n",
    "```\n",
    "num1 = [23,45,67,78,89,34]\n",
    "num2 = [34,89,55,56,39,67]\n",
    "```\n",
    "\n",
    "`Output:`\n",
    "```\n",
    "[34, 67, 89]\n",
    "```\n"
   ]
  },
  {
   "cell_type": "code",
   "execution_count": 19,
   "id": "a211566c-45e0-440e-9027-a71a5018c666",
   "metadata": {},
   "outputs": [
    {
     "name": "stdout",
     "output_type": "stream",
     "text": [
      "[34, 67, 89]\n"
     ]
    }
   ],
   "source": [
    "num1 = [23,45,67,78,89,34]\n",
    "num2 = [34,89,55,56,39,67] \n",
    "\n",
    "# Here we are consider the size of both list is same.\n",
    "\n",
    "new_list = []\n",
    "for i in range(len(num1)): \n",
    "    if num1[i] in num2: \n",
    "        new_list.append(num1[i])\n",
    "#print(new_list)\n",
    "new_list.sort()\n",
    "print(new_list)"
   ]
  },
  {
   "cell_type": "markdown",
   "id": "6aed6d72-cc01-40a8-bccf-f8ea58f66ec4",
   "metadata": {},
   "source": [
    "### `Problem 7:` Sort a list of alphanumeric strings based on product value of numeric character in it. If in any string there is no numeric character take it's product value as 1.\n",
    "\n",
    "`Input:`\n",
    "```\n",
    "['1ac21', '23fg', '456', '098d','1','kls']\n",
    "```\n",
    "\n",
    "`Output:`\n",
    "```\n",
    "['456', '23fg', '1ac21', '1', 'kls', '098d']\n",
    "\n",
    "```"
   ]
  },
  {
   "cell_type": "code",
   "execution_count": 31,
   "id": "e0dbb3de-e0af-4651-90ee-9251b0bdb605",
   "metadata": {},
   "outputs": [
    {
     "name": "stdout",
     "output_type": "stream",
     "text": [
      "['456', '23fg', '1ac21', '1', 'kls', '098d']\n"
     ]
    }
   ],
   "source": [
    "L = ['1ac21', '23fg', '456', '098d','1','kls'] \n",
    "\n",
    "product_list = []\n",
    "for item in L: \n",
    "    curr_prod = 1\n",
    "    for ch in item: \n",
    "       if ch.isdigit(): \n",
    "           curr_prod = curr_prod * int(ch)\n",
    "    product_list.append(curr_prod)\n",
    "# print(product_list)\n",
    "\n",
    "new_list = []\n",
    "for i in range(len(product_list)): \n",
    "    max_element = max(product_list)\n",
    "    index = product_list.index(max_element)\n",
    "    new_list.append(L[index])\n",
    "    L.remove(L[index])\n",
    "    product_list.remove(max_element)\n",
    "\n",
    "print(new_list)"
   ]
  },
  {
   "cell_type": "markdown",
   "id": "cc8b4621-e3f4-411b-9020-7b68de296d7b",
   "metadata": {},
   "source": [
    "### `Problem 8:` Split String of list on K character.\n",
    "\n",
    "**Example :**\n",
    "\n",
    "Input:\n",
    "```bash\n",
    "['CampusX is a channel', 'for data-science', 'aspirants.']\n",
    "\n",
    "```\n",
    "\n",
    "Output:\n",
    "```bash\n",
    "['CampusX', 'is', 'a', 'channel', 'for', 'data-science', 'aspirants.']\n",
    "\n",
    "```"
   ]
  },
  {
   "cell_type": "code",
   "execution_count": 37,
   "id": "4f082134-9254-4670-9a1f-f67a54585874",
   "metadata": {},
   "outputs": [
    {
     "name": "stdout",
     "output_type": "stream",
     "text": [
      "['CampusX', 'is', 'a', 'channel', 'for', 'data-science', 'aspirants.']\n"
     ]
    }
   ],
   "source": [
    "L = ['CampusX is a channel', 'for data-science', 'aspirants.'] \n",
    "\n",
    "new_list = [] \n",
    "for string in L: \n",
    "    for word in string.split(): \n",
    "        new_list.append(word)\n",
    "print(new_list)"
   ]
  },
  {
   "cell_type": "markdown",
   "id": "4de8a9be-6c19-4475-b793-61ad4685be89",
   "metadata": {},
   "source": [
    "### `Problem 9:` Convert Character Matrix to single String using string comprehension.\n",
    "\n",
    "**Example 1:** \n",
    "\n",
    "Input:\n",
    "```bash\n",
    "[['c', 'a', 'm', 'p', 'u', 'x'], ['i', 's'], ['b', 'e', 's', 't'], ['c', 'h', 'a', 'n', 'n', 'e', 'l']]\n",
    "```\n",
    "\n",
    "Output:\n",
    "```bash\n",
    "campux is best channel\n",
    "```"
   ]
  },
  {
   "cell_type": "code",
   "execution_count": 49,
   "id": "c30e763b-0e6d-4106-afaf-c0e9b9db3b02",
   "metadata": {},
   "outputs": [
    {
     "name": "stdout",
     "output_type": "stream",
     "text": [
      "campux is best channel\n"
     ]
    }
   ],
   "source": [
    "L = [['c', 'a', 'm', 'p', 'u', 'x'], ['i', 's'], ['b', 'e', 's', 't'], ['c', 'h', 'a', 'n', 'n', 'e', 'l']] \n",
    "\n",
    "new_list = []\n",
    "for List in L: \n",
    "    new_list.append(\"\".join(List))\n",
    "# print(new_list)\n",
    "\n",
    "print(\" \".join(new_list))"
   ]
  },
  {
   "cell_type": "markdown",
   "id": "512b33c4-2166-425e-931a-c4b0f4cb27a1",
   "metadata": {},
   "source": [
    "### `Problem 10:` Add Space between Potential Words.\n",
    "\n",
    "**Example:**\n",
    "\n",
    "Input:\n",
    "\n",
    "```bash\n",
    "['campusxIs', 'bestFor', 'dataScientist']\n",
    "\n",
    "```\n",
    "\n",
    "Output:\n",
    "```bash\n",
    "['campusx Is', 'best For', 'data Scientist']\n",
    "\n",
    "```"
   ]
  },
  {
   "cell_type": "code",
   "execution_count": 50,
   "id": "462597c7-60b6-4b9e-a285-f20d608f58eb",
   "metadata": {},
   "outputs": [
    {
     "name": "stdout",
     "output_type": "stream",
     "text": [
      "['campusx Is', 'best For', 'data Scientist']\n"
     ]
    }
   ],
   "source": [
    "L = ['campusxIs', 'bestFor', 'dataScientist']\n",
    "\n",
    "new_list = [] \n",
    "for item in L: \n",
    "    curr_str = '' \n",
    "    for i in range(len(item)): \n",
    "        if item[i] >= 'A' and item[i] <= 'Z': \n",
    "            curr_str += item[ : i] \n",
    "            curr_str += ' ' + item[i : ]\n",
    "    new_list.append(curr_str)\n",
    "print(new_list)"
   ]
  },
  {
   "cell_type": "markdown",
   "id": "efa3b7bd-f560-4cb4-b03c-391b653c1129",
   "metadata": {},
   "source": [
    "### `Problem 11:` Write a program that can perform union operation on 2 lists\n",
    "\n",
    "**Example:**\n",
    "\n",
    "Input:\n",
    "\n",
    "```bash\n",
    "[1,2,3,4,5,1]\n",
    "[2,3,5,7,8]\n",
    "\n",
    "```\n",
    "\n",
    "Output:\n",
    "```bash\n",
    "[1,2,3,4,5,7,8]\n",
    "\n",
    "```"
   ]
  },
  {
   "cell_type": "code",
   "execution_count": 56,
   "id": "059303df-e84f-44b0-b2d8-500633ceaa4d",
   "metadata": {},
   "outputs": [
    {
     "name": "stdout",
     "output_type": "stream",
     "text": [
      "[1, 2, 3, 4, 5, 7, 8]\n"
     ]
    }
   ],
   "source": [
    "list1 = [1, 2, 3, 4, 5, 1]\n",
    "list2 = [2, 3, 5, 7, 8]\n",
    "\n",
    "new_list = []\n",
    "\n",
    "[new_list.append(number) for number in list1 if number not in new_list]\n",
    "[new_list.append(number) for number in list2 if number not in new_list]\n",
    "\n",
    "print(new_list)"
   ]
  },
  {
   "cell_type": "markdown",
   "id": "aa30b2f0-deb3-4783-b9de-0b2c9423e5b9",
   "metadata": {},
   "source": [
    "### `Problem 12:` Write a program that can find the max number of each row of a matrix\n",
    "\n",
    "**Example:**\n",
    "\n",
    "Input:\n",
    "\n",
    "```bash\n",
    "[[1,2,3],[4,5,6],[7,8,9]]\n",
    "```\n",
    "\n",
    "Output:\n",
    "```bash\n",
    "[3,6,9]\n",
    "```"
   ]
  },
  {
   "cell_type": "code",
   "execution_count": 66,
   "id": "9e4e7312-aa99-405c-b3b1-39ce5000d7f4",
   "metadata": {},
   "outputs": [
    {
     "name": "stdout",
     "output_type": "stream",
     "text": [
      "[3, 6, 9]\n"
     ]
    }
   ],
   "source": [
    "import math\n",
    "\n",
    "negative_infinity = -math.inf\n",
    "\n",
    "matrix = [\n",
    "            [1, 2, 3],\n",
    "            [4, 5, 6],\n",
    "            [7, 8, 9]\n",
    "        ]\n",
    "\n",
    "max_list = []\n",
    "\n",
    "for i in range(0, len(matrix)): \n",
    "    max_element = negative_infinity\n",
    "    for j in range(0, len(matrix[i])): \n",
    "        if max_element < matrix[i][j]: \n",
    "            max_element = matrix[i][j] \n",
    "    max_list.append(max_element)\n",
    "\n",
    "print(max_list)"
   ]
  },
  {
   "cell_type": "markdown",
   "id": "1d7ed376-de0b-41de-a1d1-f63c3928ab62",
   "metadata": {},
   "source": [
    "### `Problem 13:` Write a list comprehension to print the following matrix\n",
    "\n",
    "[[0, 1, 2], [3, 4, 5], [6, 7, 8]]"
   ]
  },
  {
   "cell_type": "code",
   "execution_count": 81,
   "id": "9d6db324-4967-4966-9fe2-6adcf08cddab",
   "metadata": {},
   "outputs": [
    {
     "name": "stdout",
     "output_type": "stream",
     "text": [
      "[[0, 1, 2], [3, 4, 5], [6, 7, 8]]\n"
     ]
    }
   ],
   "source": [
    "matrix = [\n",
    "            [0, 1, 2],\n",
    "            [3, 4, 5],\n",
    "            [6, 7, 8]\n",
    "        ]\n",
    "\n",
    "print([[matrix[i][j] for j in range(len(matrix[i]))] for i in range(len(matrix))] )"
   ]
  },
  {
   "cell_type": "markdown",
   "id": "98033fe4-c87f-4500-bbff-0e95c4ec1cbd",
   "metadata": {},
   "source": [
    "### `Problem 14:` Write a list comprehension that can transpose a given matrix\n",
    "\n",
    "matrix = [<br>\n",
    "  [1,2,3],<br>\n",
    "          [4,5,6],<br>\n",
    "          [7,8,9]<br>]<br>\n",
    "\n",
    "[1, 4, 7]<br>\n",
    "[2, 5, 8]<br>\n",
    "[3, 6, 9]<br>"
   ]
  },
  {
   "cell_type": "code",
   "execution_count": 76,
   "id": "12de979c-46dc-4686-8078-52ec46e7efa1",
   "metadata": {},
   "outputs": [
    {
     "name": "stdout",
     "output_type": "stream",
     "text": [
      "[[1, 4, 7], [2, 5, 8], [3, 6, 9]]\n"
     ]
    }
   ],
   "source": [
    "matrix = [\n",
    "            [1, 2, 3],\n",
    "            [4, 5, 6],\n",
    "            [7, 8, 9]\n",
    "        ]\n",
    "\n",
    "transpose_matrix = [[matrix[j][i] for j in range(len(matrix[i]))] for i in range(len(matrix))]\n",
    "print(transpose_matrix)"
   ]
  },
  {
   "cell_type": "markdown",
   "id": "f0cfba68-0133-49e7-b67a-196c29b5ccb3",
   "metadata": {},
   "source": [
    "### `Problem 15:` Write a list comprehension that can flatten a nested list\n",
    "\n",
    "Input<br>\n",
    "matrix = [<br>\n",
    "  [1,2,3],<br>\n",
    "          [4,5,6],<br>\n",
    "          [7,8,9]<br>]<br>\n",
    "\n",
    "Output:<br>\n",
    "[1, 2, 3, 4, 5, 6, 7, 8, 9]"
   ]
  },
  {
   "cell_type": "code",
   "execution_count": 82,
   "id": "ad852ae6-7d67-40e5-bffa-15a5f1b3c12e",
   "metadata": {},
   "outputs": [
    {
     "name": "stdout",
     "output_type": "stream",
     "text": [
      "[1, 2, 3, 4, 5, 6, 7, 8, 9]\n"
     ]
    }
   ],
   "source": [
    "matrix = [\n",
    "            [1, 2, 3],\n",
    "            [4, 5, 6],\n",
    "            [7, 8, 9]\n",
    "        ]\n",
    "\n",
    "print([matrix[i][j] for i in range(len(matrix[i])) for j in range(len(matrix))] )"
   ]
  },
  {
   "cell_type": "code",
   "execution_count": null,
   "id": "78c751c2-2ac0-4e12-9055-8749f0d7f428",
   "metadata": {},
   "outputs": [],
   "source": []
  }
 ],
 "metadata": {
  "kernelspec": {
   "display_name": "Python 3 (ipykernel)",
   "language": "python",
   "name": "python3"
  },
  "language_info": {
   "codemirror_mode": {
    "name": "ipython",
    "version": 3
   },
   "file_extension": ".py",
   "mimetype": "text/x-python",
   "name": "python",
   "nbconvert_exporter": "python",
   "pygments_lexer": "ipython3",
   "version": "3.13.1"
  }
 },
 "nbformat": 4,
 "nbformat_minor": 5
}
