{
 "cells": [
  {
   "cell_type": "markdown",
   "id": "7a131031-070f-4960-a047-45b63578b4ea",
   "metadata": {},
   "source": [
    "### **`Problem-1:`** Write a Python function that takes a list and returns a new list with unique elements of the first list.\n",
    "\n",
    "**Exercise 1:**\n",
    "\n",
    "Input:\n",
    "\n",
    "```bash\n",
    "[1,2,3,3,3,3,4,5]\n",
    "```\n",
    "\n",
    "Output:\n",
    "\n",
    "```bash\n",
    "[1, 2, 3, 4, 5]\n",
    "\n",
    "```"
   ]
  },
  {
   "cell_type": "code",
   "execution_count": 58,
   "id": "2f06d2de-7947-4bdf-a08c-4c5efa22afbd",
   "metadata": {},
   "outputs": [
    {
     "name": "stdout",
     "output_type": "stream",
     "text": [
      "[1, 2, 3, 4, 5]\n"
     ]
    }
   ],
   "source": [
    "def unique_element(List): \n",
    "    result_list = []\n",
    "    for number in List: \n",
    "        if number not in result_list: \n",
    "            result_list.append(number)\n",
    "    return result_list\n",
    "\n",
    "print(unique_element([1,2,3,3,3,3,4,5]))"
   ]
  },
  {
   "cell_type": "markdown",
   "id": "35acd160-a8a6-4af5-992d-1e7dea469128",
   "metadata": {},
   "source": [
    "### **`Problem-2:`** Write a Python function that accepts a hyphen-separated sequence of words as parameter and returns the words in a hyphen-separated sequence after sorting them alphabetically.\n",
    "\n",
    "**Example 1:**\n",
    "\n",
    "Input:\n",
    "```bash\n",
    "green-red-yellow-black-white\n",
    "```\n",
    "\n",
    "Output:\n",
    "```bash\n",
    "black-green-red-white-yellow\n",
    "```"
   ]
  },
  {
   "cell_type": "code",
   "execution_count": 7,
   "id": "645bb708-f726-43f8-a0ae-44aa7bba1f45",
   "metadata": {},
   "outputs": [
    {
     "name": "stdout",
     "output_type": "stream",
     "text": [
      "black-green-red-white-yellow\n"
     ]
    }
   ],
   "source": [
    "def sorted_sequence(str1): \n",
    "    List = str1.split('-')\n",
    "    List = sorted(List)\n",
    "\n",
    "    return \"-\".join(List)\n",
    "\n",
    "print(sorted_sequence('green-red-yellow-black-white'))"
   ]
  },
  {
   "cell_type": "markdown",
   "id": "da008204-3f93-4667-8924-0d1b99bd298b",
   "metadata": {},
   "source": [
    "### **`Problem 3:`** Write a Python function that accepts a string and calculate the number of upper case letters and lower case letters.\n",
    "\n",
    "```\n",
    "Sample String : 'CampusX is an Online Mentorship Program fOr EnginEering studentS.'\n",
    "Expected Output :\n",
    "No. of Upper case characters :  9\n",
    "No. of Lower case Characters :  47\n",
    "\n",
    "```"
   ]
  },
  {
   "cell_type": "code",
   "execution_count": 60,
   "id": "f97b04c6-4315-4480-8313-5c1046553712",
   "metadata": {},
   "outputs": [
    {
     "name": "stdout",
     "output_type": "stream",
     "text": [
      "No. of Upper case characters : 9\n",
      "No. of Lower case characters : 47\n"
     ]
    }
   ],
   "source": [
    "def calculate_frequency(string): \n",
    "    uppercase_count = 0\n",
    "    lowercase_count = 0\n",
    "\n",
    "    for char in string: \n",
    "        if char.isupper():\n",
    "            uppercase_count += 1\n",
    "        elif char.islower():\n",
    "            lowercase_count += 1\n",
    "        else: \n",
    "            pass\n",
    "\n",
    "    return (lowercase_count, uppercase_count)\n",
    "\n",
    "result = calculate_frequency('CampusX is an Online Mentorship Program fOr EnginEering studentS.')\n",
    "\n",
    "print('No. of Upper case characters : {}'.format(result[1]))\n",
    "print('No. of Lower case characters : {}'.format(result[0]))"
   ]
  },
  {
   "cell_type": "markdown",
   "id": "2249d021-3294-4d61-8ecb-0e9326fa46ff",
   "metadata": {},
   "source": [
    "### **`Problem 4:`** Write a Python program to print the even numbers from a given list.\n",
    "```\n",
    "Sample List : [1, 2, 3, 4, 5, 6, 7, 8, 9]\n",
    "Expected Result : [2, 4, 6, 8]\n",
    "```"
   ]
  },
  {
   "cell_type": "code",
   "execution_count": 10,
   "id": "6c65c9e2-0a95-4391-8693-59142bd46ede",
   "metadata": {},
   "outputs": [
    {
     "name": "stdout",
     "output_type": "stream",
     "text": [
      "[2, 4, 6, 8]\n"
     ]
    }
   ],
   "source": [
    "def get_even(sample_list):\n",
    "    output_list = []\n",
    "    for num in sample_list: \n",
    "        if num % 2 == 0: \n",
    "            output_list.append(num)\n",
    "\n",
    "    return output_list\n",
    "\n",
    "print(get_even([1, 2, 3, 4, 5, 6, 7, 8, 9]))"
   ]
  },
  {
   "cell_type": "markdown",
   "id": "b39f8bcf-4ebd-4fe9-afdc-9485a9059520",
   "metadata": {},
   "source": [
    "### **`Problem 5:`** Write a Python function to check whether a number is perfect or not.\n",
    "\n",
    "A Perfect number is a number that is half the sum of all of its positive divisors (including itself).\n",
    "\n",
    "Example : \n",
    "\n",
    "```\n",
    "The first perfect number is 6, because 1, 2, and 3 are its proper positive divisors, and 1 + 2 + 3 = 6. \n",
    "Equivalently, the number 6 is equal to half the sum of all its positive divisors: ( 1 + 2 + 3 + 6 ) / 2 = 6. \n",
    "\n",
    "The next perfect number is 28 = 1 + 2 + 4 + 7 + 14. This is followed by the perfect numbers 496 and 8128.\n",
    "```\n"
   ]
  },
  {
   "cell_type": "code",
   "execution_count": 13,
   "id": "6e3f8411-f611-4bef-bca1-fb4053fa0e7a",
   "metadata": {},
   "outputs": [
    {
     "name": "stdout",
     "output_type": "stream",
     "text": [
      "Not a Perfect Number.\n"
     ]
    }
   ],
   "source": [
    "def perfect_number(number): \n",
    "    sum = 0\n",
    "    for i in range(1, number): \n",
    "        if number % i == 0: \n",
    "            sum += i \n",
    "    if sum == number: \n",
    "        return True\n",
    "    return False\n",
    "\n",
    "result = perfect_number(27)\n",
    "if result == True: \n",
    "    print('Perfect Number.')\n",
    "else: \n",
    "    print('Not a Perfect Number.')"
   ]
  },
  {
   "cell_type": "markdown",
   "id": "c97a44b7-ef7a-4b62-8d11-1fdda8ae403a",
   "metadata": {},
   "source": [
    "### **`Problem-6:`** Write a Python function to concatenate any no of dictionaries to create a new one.\n",
    "\n",
    "```\n",
    "Sample Dictionary :\n",
    "dic1={1:10, 2:20}\n",
    "dic2={3:30, 4:40}\n",
    "dic3={5:50,6:60}\n",
    "Expected Result : {1: 10, 2: 20, 3: 30, 4: 40, 5: 50, 6: 60}\n",
    "\n",
    "```"
   ]
  },
  {
   "cell_type": "code",
   "execution_count": 27,
   "id": "21cc13df-adf4-4143-999d-6e43f1a0653c",
   "metadata": {},
   "outputs": [
    {
     "name": "stdout",
     "output_type": "stream",
     "text": [
      "{1: 10, 2: 20, 3: 30, 4: 40, 5: 50, 6: 60}\n"
     ]
    }
   ],
   "source": [
    "def merge_dictionary(List_of_dict): \n",
    "    \n",
    "    output_dictionary = {}\n",
    "    for dictionary in List_of_dict: \n",
    "        # print(dictionary)\n",
    "        for key, value in dictionary.items(): \n",
    "            output_dictionary[key] = value\n",
    "    return output_dictionary\n",
    "    \n",
    "result = merge_dictionary([{1:10, 2:20}, {3:30, 4:40}, {5:50,6:60}])\n",
    "print(result)"
   ]
  },
  {
   "cell_type": "markdown",
   "id": "9825bf09-7268-4b0b-8676-4f6457eb4eaa",
   "metadata": {},
   "source": [
    "### `Problem-7` Write a python function that accepts a string as input and returns the word with most occurence.\n",
    "\n",
    "```\n",
    "Input:\n",
    "hello how are you i am fine thank you\n",
    "\n",
    "```\n",
    "\n",
    "```\n",
    "Output\n",
    "you -> 2\n",
    "\n",
    "```"
   ]
  },
  {
   "cell_type": "code",
   "execution_count": 29,
   "id": "9f424202-277d-4f81-b0e6-b88216bdf8a0",
   "metadata": {},
   "outputs": [
    {
     "name": "stdout",
     "output_type": "stream",
     "text": [
      "you -> 2\n"
     ]
    }
   ],
   "source": [
    "def maximum_occurence(string): \n",
    "    List = string.split()\n",
    "    \n",
    "    freq_dict = {}\n",
    "    for item in List: \n",
    "        if item not in freq_dict: \n",
    "            freq_dict[item] = 1\n",
    "        else: \n",
    "            freq_dict[item] += 1\n",
    "    max_freq = -1\n",
    "    max_freq_word = ''\n",
    "    for (key, value) in freq_dict.items():\n",
    "        if max_freq < value: \n",
    "            max_freq = value\n",
    "            max_freq_word = key \n",
    "    return (max_freq_word, max_freq)\n",
    "\n",
    "result = maximum_occurence('hello how are you i am fine thank you')\n",
    "print('{} -> {}'.format(result[0], result[1]))"
   ]
  },
  {
   "cell_type": "markdown",
   "id": "f259fb9a-a35a-494a-acb5-3a0bb6f981bd",
   "metadata": {},
   "source": [
    "### `Problem-8` Write a python function that receives a list of integers and prints out a histogram of bin size 10\n",
    "\n",
    "```\n",
    "Input:\n",
    "[13,42,15,37,22,39,41,50]\n",
    "```\n",
    "\n",
    "```\n",
    "Output:\n",
    "{11-20:2,21-30:1,31-40:2,41-50:3}\n",
    "```"
   ]
  },
  {
   "cell_type": "code",
   "execution_count": 70,
   "id": "fb9cb737-2a2f-4831-8c1f-515b980ba487",
   "metadata": {},
   "outputs": [
    {
     "data": {
      "text/plain": [
       "{'11 20': 2, '21 30': 1, '31 40': 2, '41 50': 3}"
      ]
     },
     "execution_count": 70,
     "metadata": {},
     "output_type": "execute_result"
    }
   ],
   "source": [
    "import math\n",
    "\n",
    "def histogram(List): \n",
    "\n",
    "    min_bin = math.floor(min(List) / 10) * 10\n",
    "    max_bin = math.ceil(max(List) / 10) * 10 \n",
    "\n",
    "    d = {}\n",
    "    \n",
    "    for i in range(min_bin, max_bin, 10): \n",
    "        count = 0\n",
    "        for num in List: \n",
    "            if i <= num <= i + 10:\n",
    "                count += 1 \n",
    "        d[str(i + 1) + ' ' + str(i + 10)] = count\n",
    "    return d \n",
    "\n",
    "histogram([13,42,15,37,22,39,41,50])"
   ]
  },
  {
   "cell_type": "markdown",
   "id": "65416e52-6b76-4890-b8ef-cb060139b696",
   "metadata": {},
   "source": [
    "### `Problem-9` Write a python function that accepts a list of 2D co-ordinates and a query point, and then finds the the co-ordinate which is closest in terms of distance from the query point.\n",
    "\n",
    "```\n",
    "List of Coordinates\n",
    "[(1,1),(2,2),(3,3),(4,4)]\n",
    "Query Point\n",
    "(0,0)\n",
    "```\n",
    "\n",
    "```\n",
    "Output\n",
    "Nearest to (0,0) is (1,1)\n",
    "```"
   ]
  },
  {
   "cell_type": "code",
   "execution_count": 31,
   "id": "9302be59-bbbf-41c8-b365-b298e159084d",
   "metadata": {},
   "outputs": [
    {
     "name": "stdout",
     "output_type": "stream",
     "text": [
      "Nearest to (0, 0) is (1, 1)\n"
     ]
    }
   ],
   "source": [
    "def closest_coordinate(list_of_coordinates, query_point): \n",
    "    closest_point = None \n",
    "    min_dist = 10 ** 100\n",
    "\n",
    "    for point in list_of_coordinates: \n",
    "        curr_dist = abs(query_point[0] - point[0]) + abs(query_point[1] - point[1])\n",
    "        if curr_dist < min_dist: \n",
    "            min_dist = curr_dist\n",
    "            closest_point = point \n",
    "    return closest_point\n",
    "\n",
    "query_point = (0, 0)\n",
    "closest_point = closest_coordinate([(1,1),(2,2),(3,3),(4,4)], query_point)\n",
    "print('Nearest to {} is {}'.format(query_point, closest_point))"
   ]
  },
  {
   "cell_type": "markdown",
   "id": "7fb67599-78bb-4e0b-907b-5c90bf77bec9",
   "metadata": {},
   "source": [
    "### `Problem-10`:Write a python program that receives a list of strings and performs bag of word operation on those strings\n",
    "\n",
    "https://en.wikipedia.org/wiki/Bag-of-words_model"
   ]
  },
  {
   "cell_type": "code",
   "execution_count": 54,
   "id": "0defe14e-3bdc-441d-b840-fa51fc4b7727",
   "metadata": {},
   "outputs": [
    {
     "name": "stdout",
     "output_type": "stream",
     "text": [
      "['cat mat rat cat', 'sat bat fat cat rat', 'pat cat mat rat']\n"
     ]
    }
   ],
   "source": [
    "def bow(list_of_string): \n",
    "    print(list_of_string)\n",
    "\n",
    "\n",
    "L = [\n",
    "    'cat mat rat cat',\n",
    "     'sat bat fat cat rat',\n",
    "     'pat cat mat rat'\n",
    "]\n",
    "\n",
    "bow(L)"
   ]
  },
  {
   "cell_type": "markdown",
   "id": "22c50215-f1b5-4ab6-8886-513508551e55",
   "metadata": {},
   "source": [
    "### `Problem 11:` Write a Python program to add three given lists using Python map and lambda."
   ]
  },
  {
   "cell_type": "code",
   "execution_count": 35,
   "id": "024e0b29-bbde-4607-9e9f-1d24cd38b495",
   "metadata": {},
   "outputs": [
    {
     "name": "stdout",
     "output_type": "stream",
     "text": [
      "<map object at 0x000002AF24192A10>\n",
      "[12, 15, 18]\n"
     ]
    }
   ],
   "source": [
    "list1 = [1, 2, 3]\n",
    "list2 = [4, 5, 6]\n",
    "list3 = [7, 8, 9]\n",
    "\n",
    "#It will return the map object. \n",
    "print(map(lambda x, y, z : x + y + z, list1, list2, list3))\n",
    "\n",
    "print(list(map(lambda x, y, z : x + y + z, list1, list2, list3)))"
   ]
  },
  {
   "cell_type": "markdown",
   "id": "410a6da1-ff07-4f1a-aa56-3a5ed108d428",
   "metadata": {},
   "source": [
    "### `Problem-12:`Write a Python program to create a list containing the power of said number in bases raised to the corresponding number in the index using Python map.\n",
    "`Input:`\n",
    "```\n",
    "list1 = [1,2,3,4,5,6]\n",
    "```\n",
    "`Output:`\n",
    "```\n",
    "[1,2,9,64,625,-]\n",
    "\n",
    "```\n"
   ]
  },
  {
   "cell_type": "code",
   "execution_count": 37,
   "id": "fbbbe017-77e9-4b57-b632-8c47988955e1",
   "metadata": {},
   "outputs": [
    {
     "name": "stdout",
     "output_type": "stream",
     "text": [
      "<map object at 0x000002AF249DF2E0>\n",
      "[1, 2, 9, 64, 625, 7776]\n"
     ]
    }
   ],
   "source": [
    "list1 = [1, 2, 3, 4, 5, 6]\n",
    "index = [0, 1, 2, 3, 4, 5]\n",
    "print(map(lambda x, y : x ** y, list1, index))\n",
    "\n",
    "print(list(map(lambda x, y : x ** y, list1, index)))"
   ]
  },
  {
   "cell_type": "markdown",
   "id": "3c00906b-d960-45b5-9a25-d6eee6218128",
   "metadata": {},
   "source": [
    "### `Problem-13` Using filter() and list() functions and .lower() method filter all the vowels in a given string."
   ]
  },
  {
   "cell_type": "code",
   "execution_count": 71,
   "id": "6ca708f3-9fcc-4cb4-ab74-81059220751a",
   "metadata": {},
   "outputs": [
    {
     "name": "stdout",
     "output_type": "stream",
     "text": [
      "<filter object at 0x000002AF241A4FD0>\n",
      "['a', 'u', 'i', 'a', 'o', 'i', 'e', 'e', 'o', 'i', 'o', 'a', 'o', 'e', 'i', 'e', 'e', 'i', 'u', 'e']\n"
     ]
    }
   ],
   "source": [
    "string = 'CampusX is an Online Mentorship Program fOr EnginEering studentS'\n",
    "string = string.lower()\n",
    "\n",
    "vowels = 'aeiou'\n",
    "print(filter(lambda char : char in vowels, string))\n",
    "\n",
    "print(list(filter(lambda char : char in vowels, string)))\n",
    "# print(set(list(filter(lambda char : char in vowels, string))))"
   ]
  },
  {
   "cell_type": "markdown",
   "id": "978258da-fe5c-43a1-849b-15e263169138",
   "metadata": {},
   "source": [
    "### `Problem-14`: Use reduce to convert a 2D list to 1D"
   ]
  },
  {
   "cell_type": "code",
   "execution_count": 72,
   "id": "25df3811-9ec7-430c-b548-76d0d7824d69",
   "metadata": {},
   "outputs": [
    {
     "data": {
      "text/plain": [
       "[1, 2, 3, 3, 6, 7, 7, 5, 4]"
      ]
     },
     "execution_count": 72,
     "metadata": {},
     "output_type": "execute_result"
    }
   ],
   "source": [
    "import functools\n",
    "\n",
    "ini_list = [\n",
    "                [1, 2, 3], \n",
    "                [3, 6, 7], \n",
    "                [7, 5, 4]\n",
    "            ]\n",
    "\n",
    "functools.reduce(lambda x, y : x + y, ini_list)"
   ]
  },
  {
   "cell_type": "markdown",
   "id": "24282804-d7c6-4504-aec3-d06fab15f128",
   "metadata": {},
   "source": [
    "### `Problem 15`- A dictionary contains following information about 5 employees:\n",
    "- First name\n",
    "- Last name\n",
    "- Age\n",
    "- Grade(Skilled,Semi-skilled,Highly skilled)<br>\n",
    "Write a program using map/filter/reduce to a list of employees(first name + last name) who are highly skilled"
   ]
  },
  {
   "cell_type": "code",
   "execution_count": 52,
   "id": "ed44dabf-e33f-4687-87b7-8b6c1d8b9b70",
   "metadata": {},
   "outputs": [],
   "source": [
    "# Write code here\n",
    "employees = [\n",
    "    {\n",
    "        'fname':'Nitish',\n",
    "        'lname':'Singh',\n",
    "        'age' : 33,\n",
    "        'grade':'skilled'\n",
    "    },\n",
    "    {\n",
    "        'fname':'Ankit',\n",
    "        'lname':'Verma',\n",
    "        'age' : 34,\n",
    "        'grade':'semi-skilled'\n",
    "    },\n",
    "    {\n",
    "        'fname':'Neha',\n",
    "        'lname':'Singh',\n",
    "        'age' : 35,\n",
    "        'grade':'highly-skilled'\n",
    "    },\n",
    "    {\n",
    "        'fname':'Anurag',\n",
    "        'lname':'Kumar',\n",
    "        'age' : 30,\n",
    "        'grade':'skilled'\n",
    "    },\n",
    "    {\n",
    "        'fname':'Abhinav',\n",
    "        'lname':'Sharma',\n",
    "        'age' : 37,\n",
    "        'grade':'highly-skilled'\n",
    "    }\n",
    "    \n",
    "]\n",
    "\n"
   ]
  },
  {
   "cell_type": "code",
   "execution_count": 76,
   "id": "4d010e53-39f8-44de-a1d7-d338fd9915d2",
   "metadata": {},
   "outputs": [
    {
     "data": {
      "text/plain": [
       "['Neha Singh', 'Abhinav Sharma']"
      ]
     },
     "execution_count": 76,
     "metadata": {},
     "output_type": "execute_result"
    }
   ],
   "source": [
    "L = list(filter(lambda x : True if x['grade'] == 'highly-skilled' else False, employees))\n",
    "# print(L)\n",
    "\n",
    "list(map(lambda x:x['fname'] + ' ' + x['lname'], L))"
   ]
  },
  {
   "cell_type": "code",
   "execution_count": null,
   "id": "1007bb87-a677-4f68-bd88-a77eb930c66f",
   "metadata": {},
   "outputs": [],
   "source": []
  }
 ],
 "metadata": {
  "kernelspec": {
   "display_name": "Python 3 (ipykernel)",
   "language": "python",
   "name": "python3"
  },
  "language_info": {
   "codemirror_mode": {
    "name": "ipython",
    "version": 3
   },
   "file_extension": ".py",
   "mimetype": "text/x-python",
   "name": "python",
   "nbconvert_exporter": "python",
   "pygments_lexer": "ipython3",
   "version": "3.13.1"
  }
 },
 "nbformat": 4,
 "nbformat_minor": 5
}
