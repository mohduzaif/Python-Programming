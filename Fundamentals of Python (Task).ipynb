{
 "cells": [
  {
   "cell_type": "markdown",
   "id": "ac739adf-6240-4eec-95a1-cdf33f8e883c",
   "metadata": {},
   "source": [
    "# Task for Session 1"
   ]
  },
  {
   "cell_type": "markdown",
   "id": "e3b58a5b-8003-4ad2-a4f6-e93c42686bd4",
   "metadata": {},
   "source": [
    "### Q1 :- Print the given strings as per stated format."
   ]
  },
  {
   "cell_type": "code",
   "execution_count": 7,
   "id": "c025e560-842f-4962-ab93-bb25c27aac55",
   "metadata": {},
   "outputs": [
    {
     "name": "stdout",
     "output_type": "stream",
     "text": [
      "Data-Science-Mentorship-Program-By-CampusX\n"
     ]
    }
   ],
   "source": [
    "# Give String : \n",
    "# \"Data\" \"Science\" \"Mentorship\" \"Program\" \n",
    "# \"By\" \"CampusX\"\n",
    "\n",
    "# Output String : Data-Science-Mentorship-Program-started-By-CampusX\n",
    "\n",
    "print(\"Data\", end='-')\n",
    "print(\"Science\", end='-')\n",
    "print(\"Mentorship\", end='-')\n",
    "print(\"Program\", end='-') \n",
    "print(\"By\", end='-') \n",
    "print(\"CampusX\") "
   ]
  },
  {
   "cell_type": "markdown",
   "id": "aae63962-9f90-4a90-b381-f35b6ca654ec",
   "metadata": {},
   "source": [
    "### Q2:- Write a program that will convert celsius value to fahrenheit."
   ]
  },
  {
   "cell_type": "code",
   "execution_count": 8,
   "id": "42f9ffe4-75fe-4399-aff6-6f35074a1153",
   "metadata": {},
   "outputs": [
    {
     "name": "stdin",
     "output_type": "stream",
     "text": [
      "Enter the temperature in Celsius :  32\n"
     ]
    },
    {
     "name": "stdout",
     "output_type": "stream",
     "text": [
      "89.6\n"
     ]
    }
   ],
   "source": [
    "# Take the imput of tempertaure, and store it into a variable.\n",
    "temp_celsius = int(input('Enter the temperature in Celsius : '))\n",
    "# Convert that temperature into fahrenheit.\n",
    "temp_fahrenheit = (9 / 5) * temp_celsius + 32\n",
    "# Print the temperature that convert in fahrenheit.\n",
    "print(temp_fahrenheit)"
   ]
  },
  {
   "cell_type": "markdown",
   "id": "f04c2134-a1da-4eaf-af59-ad8716a01b47",
   "metadata": {},
   "source": [
    "### Q3:- Take 2 numbers as input from the user. Write a program to swap the numbers without using any special python syntax."
   ]
  },
  {
   "cell_type": "code",
   "execution_count": 13,
   "id": "3185d31c-ba51-4305-9234-d543e024b142",
   "metadata": {},
   "outputs": [
    {
     "name": "stdin",
     "output_type": "stream",
     "text": [
      "Enter the first nummber :  2\n",
      "Enter the second number :  7\n"
     ]
    },
    {
     "name": "stdout",
     "output_type": "stream",
     "text": [
      "Before Swapping\n",
      "number1 :  2\n",
      "number2 :  7\n",
      "After Swapping\n",
      "number1 :  7\n",
      "number2 :  2\n"
     ]
    }
   ],
   "source": [
    "# Take the imput of numbers, and store it into a variable.\n",
    "number1 = int(input('Enter the first nummber : '))\n",
    "number2 = int(input('Enter the second number : '))\n",
    "\n",
    "print('Before Swapping')\n",
    "print('number1 : ', number1)\n",
    "print('number2 : ', number2)\n",
    "\n",
    "# Swaping Logic.\n",
    "temp = number1\n",
    "number1 = number2\n",
    "number2 = temp\n",
    "\n",
    "#Print after Swaping. \n",
    "print('After Swapping')\n",
    "print('number1 : ', number1)\n",
    "print('number2 : ', number2)"
   ]
  },
  {
   "cell_type": "markdown",
   "id": "036ca230-0abd-4574-8626-ae4378a955d4",
   "metadata": {},
   "source": [
    "### Q4:- Write a program to find the euclidean distance between two coordinates.Take both the coordinates from the user as input."
   ]
  },
  {
   "cell_type": "code",
   "execution_count": 18,
   "id": "86d58fca-1e5b-4c94-a6b0-cb3b9fd27de2",
   "metadata": {},
   "outputs": [
    {
     "name": "stdin",
     "output_type": "stream",
     "text": [
      "Enter the x-coordinate of first point :  3\n",
      "Enter the y-coordinate of first point :  6\n",
      "Enter the x-coordinate of second point :  3\n",
      "Enter the y-coordinate of second point :  9\n"
     ]
    },
    {
     "name": "stdout",
     "output_type": "stream",
     "text": [
      "2.6457513110645907\n"
     ]
    }
   ],
   "source": [
    "import math\n",
    "\n",
    "# Take the imput of co-ordinates, and store it into a variable.\n",
    "x1 = int(input('Enter the x-coordinate of first point : '))\n",
    "y1 = int(input('Enter the y-coordinate of first point : '))\n",
    "x2 = int(input('Enter the x-coordinate of second point : '))\n",
    "y2 = int(input('Enter the y-coordinate of second point : '))\n",
    "\n",
    "# Calculate the distance. \n",
    "dist = math.sqrt((x2 - x1)^2 + (y2 - y1)^2)\n",
    "\n",
    "# Print the distance. \n",
    "print(dist)"
   ]
  },
  {
   "cell_type": "markdown",
   "id": "286b26f1-0d2f-4fd5-a34e-b175b3e4e2fb",
   "metadata": {},
   "source": [
    "### Q5:- Write a program to find the simple interest when the value of principle,rate of interest and time period is provided by the user."
   ]
  },
  {
   "cell_type": "code",
   "execution_count": 20,
   "id": "9bb9f9f9-c8f5-4393-b4a4-72e397b93eb4",
   "metadata": {},
   "outputs": [
    {
     "name": "stdin",
     "output_type": "stream",
     "text": [
      "Enter the Principle :  10000\n",
      "Enter the rate of interest(In percentage) :  4\n",
      "Enter the Time(In Years) :  19\n"
     ]
    },
    {
     "name": "stdout",
     "output_type": "stream",
     "text": [
      "7600.0\n"
     ]
    }
   ],
   "source": [
    "# Take the input from the user, and store them into a variable. \n",
    "principle = int(input('Enter the Principle : '))\n",
    "rate = int(input('Enter the rate of interest(In percentage) : '))\n",
    "time = int(input('Enter the Time(In Years) : '))\n",
    "# calculate the simple interest.\n",
    "simple_interest = (principle * rate * time) / 100\n",
    "# Print the value of SI. \n",
    "print(simple_interest)"
   ]
  },
  {
   "cell_type": "markdown",
   "id": "3510023a-87bc-47e3-b27a-9db1ef93ed0d",
   "metadata": {},
   "source": [
    "## Q6:- Write a program that will tell the number of dogs and chicken are there when the user will provide the value of total heads and legs."
   ]
  },
  {
   "cell_type": "markdown",
   "id": "84e2b760-ce9b-40dc-bf64-e5d27518a0d3",
   "metadata": {},
   "source": [
    "For example: Input: heads -> 4 legs -> 12, \n",
    "Output: dogs -> 2 chicken -> 2"
   ]
  },
  {
   "cell_type": "code",
   "execution_count": 21,
   "id": "ef376055-5ec4-4dec-93a9-b4911a34525d",
   "metadata": {},
   "outputs": [
    {
     "name": "stdin",
     "output_type": "stream",
     "text": [
      "Enter the Heads :  4\n",
      "Enter the Legs :  12\n"
     ]
    },
    {
     "name": "stdout",
     "output_type": "stream",
     "text": [
      "Dogs are :  2.0\n",
      "Chickens are :  2.0\n"
     ]
    }
   ],
   "source": [
    "# Take the input from the user, and store them into a variable.  \n",
    "heads = int(input('Enter the Heads : '))\n",
    "legs = int(input('Enter the Legs : '))\n",
    "\n",
    "# Logic of this problem. \n",
    "# Let x = number of chickens\n",
    "# Let y = number of dogs\n",
    "# Equation 1: x + y = heads\n",
    "# Equation 2: 2x + 4y = legs\n",
    "\n",
    "# After Rearranging equation is \n",
    "# x = (4 * heads - legs) / 2\n",
    "# y = heads - x\n",
    "\n",
    "chickens = (4 * heads - legs) / 2\n",
    "dogs = heads - chickens\n",
    "\n",
    "# Print the final result. \n",
    "print('Dogs are : ', dogs)\n",
    "print('Chickens are : ', chickens)"
   ]
  },
  {
   "cell_type": "markdown",
   "id": "caa389c1-22db-46c9-b9f1-c9ac41cc97a0",
   "metadata": {},
   "source": [
    "### Q7:- Write a program to find the sum of squares of first n natural numbers where n will be provided by the user."
   ]
  },
  {
   "cell_type": "code",
   "execution_count": 22,
   "id": "6b01028a-e594-4578-83be-11f428350dd2",
   "metadata": {},
   "outputs": [
    {
     "name": "stdin",
     "output_type": "stream",
     "text": [
      "Enter the value of n :  4\n"
     ]
    },
    {
     "name": "stdout",
     "output_type": "stream",
     "text": [
      "30.0\n"
     ]
    }
   ],
   "source": [
    "# Take the input from the user, and store them into a variable.  \n",
    "n = int(input('Enter the value of n : '))\n",
    "\n",
    "# calculate Sum of square.\n",
    "sum_of_square = (n * (n + 1) * (2 * n + 1)) / 6\n",
    "\n",
    "#Print the Result. \n",
    "print(sum_of_square)"
   ]
  },
  {
   "cell_type": "markdown",
   "id": "3b65af91-737d-4207-8c25-00e7ffa059f9",
   "metadata": {},
   "source": [
    "### Q8:- Given the first 2 terms of an Arithmetic Series.Find the Nth term of the series. Assume all inputs are provided by the user."
   ]
  },
  {
   "cell_type": "code",
   "execution_count": 24,
   "id": "e3446136-fe29-4a4b-9a32-302124322de4",
   "metadata": {},
   "outputs": [
    {
     "name": "stdin",
     "output_type": "stream",
     "text": [
      "Enter the first term of Arithmetic Series :  3\n",
      "Enter the second term of Arithmetic Series :  6\n",
      "Enter the Nth term of Arithmetic Series(Which you want to calculate) :  67\n"
     ]
    },
    {
     "name": "stdout",
     "output_type": "stream",
     "text": [
      "201\n"
     ]
    }
   ],
   "source": [
    "# Take the input from the user, and store them into a variable.  \n",
    "first_term = int(input('Enter the first term of Arithmetic Series : '))\n",
    "second_term = int(input('Enter the second term of Arithmetic Series : '))\n",
    "\n",
    "nth_term = int(input('Enter the Nth term of Arithmetic Series(Which you want to calculate) : '))\n",
    "\n",
    "# Calculate the nth term. \n",
    "n = first_term + (nth_term - 1) * (second_term - first_term)\n",
    "\n",
    "# Print the result. \n",
    "print(n)"
   ]
  },
  {
   "cell_type": "markdown",
   "id": "d4b4d4d5-4553-4985-adb8-9851b0d653d2",
   "metadata": {},
   "source": [
    "### Q9:- Given 2 fractions, find the sum of those 2 fractions.Take the numerator and denominator values of the fractions from the user."
   ]
  },
  {
   "cell_type": "code",
   "execution_count": 25,
   "id": "3b4bdf2f-483a-4cc1-8257-37aa70445675",
   "metadata": {},
   "outputs": [
    {
     "name": "stdin",
     "output_type": "stream",
     "text": [
      "Enter the numerator1 :  3\n",
      "Enter the denominator1 :  4\n",
      "Enter the numerator2:  5\n",
      "Enter the denominator2 :  6\n"
     ]
    },
    {
     "name": "stdout",
     "output_type": "stream",
     "text": [
      "1.5833333333333335\n"
     ]
    }
   ],
   "source": [
    "# Take the input from the user, and store them into a variable.  \n",
    "numerator1 = int(input('Enter the numerator1 : '))\n",
    "denominator1 = int(input('Enter the denominator1 : '))\n",
    "numerator2 = int(input('Enter the numerator2: '))\n",
    "denominator2 = int(input('Enter the denominator2 : '))\n",
    "\n",
    "# calculate Sum. \n",
    "sum_of_fraction = (numerator1 / denominator1) + (numerator2 / denominator2)\n",
    "\n",
    "# Print the sum \n",
    "print(sum_of_fraction)"
   ]
  },
  {
   "cell_type": "markdown",
   "id": "5a782254-4506-4568-8b32-3c92c80a36c6",
   "metadata": {},
   "source": [
    "### Q10:- Given the height, width and breadth of a milk tank, you have to find out how many glasses of milk can be obtained? Assume all the inputs are provided by the user."
   ]
  },
  {
   "cell_type": "markdown",
   "id": "9d79bbd3-dc84-4d11-87c0-3002c6fbab5d",
   "metadata": {},
   "source": [
    "Input:\n",
    "Dimensions of the milk tank\n",
    "H = 20cm, L = 20cm, B = 20cm\n",
    "\n",
    "Dimensions of the glass\n",
    "h = 3cm, r = 1cm"
   ]
  },
  {
   "cell_type": "code",
   "execution_count": 28,
   "id": "ffd84080-c766-4e45-ab68-2a4c0185651a",
   "metadata": {},
   "outputs": [
    {
     "name": "stdin",
     "output_type": "stream",
     "text": [
      "Enter height of the Tank (in meters):  20\n",
      "Enter width of the Tank (in meters):  20\n",
      "Enter breadth of the Tank (in meters):  20\n",
      "Enter height of the Glass (in meters):  3\n",
      "Enter radius of the Glass (in meters):  1\n"
     ]
    },
    {
     "name": "stdout",
     "output_type": "stream",
     "text": [
      "849.2569002123142\n"
     ]
    }
   ],
   "source": [
    "# Take the input from the user, and store them into a variable. \n",
    "height_of_tank = float(input(\"Enter height of the Tank (in meters): \"))\n",
    "width = float(input(\"Enter width of the Tank (in meters): \"))\n",
    "breadth = float(input(\"Enter breadth of the Tank (in meters): \"))\n",
    "\n",
    "height_of_glass = float(input(\"Enter height of the Glass (in meters): \"))\n",
    "radius = float(input(\"Enter radius of the Glass (in meters): \"))\n",
    "\n",
    "\n",
    "# I am Assuming it is a rectangular cuboid, so volume is calculated accordingly. \n",
    "volume_of_tank = height_of_tank * width * breadth\n",
    "\n",
    "# calculate volumne of glass. \n",
    "pi = 3.14\n",
    "volume_of_glass = pi * radius * radius * height_of_glass\n",
    "\n",
    "no_of_glass_milk = volume_of_tank / volume_of_glass\n",
    "\n",
    "# Print the result. \n",
    "print(no_of_glass_milk)"
   ]
  },
  {
   "cell_type": "code",
   "execution_count": null,
   "id": "93702abc-043d-4b88-870f-1ba362ae3545",
   "metadata": {},
   "outputs": [],
   "source": []
  }
 ],
 "metadata": {
  "kernelspec": {
   "display_name": "Python 3 (ipykernel)",
   "language": "python",
   "name": "python3"
  },
  "language_info": {
   "codemirror_mode": {
    "name": "ipython",
    "version": 3
   },
   "file_extension": ".py",
   "mimetype": "text/x-python",
   "name": "python",
   "nbconvert_exporter": "python",
   "pygments_lexer": "ipython3",
   "version": "3.13.1"
  }
 },
 "nbformat": 4,
 "nbformat_minor": 5
}
