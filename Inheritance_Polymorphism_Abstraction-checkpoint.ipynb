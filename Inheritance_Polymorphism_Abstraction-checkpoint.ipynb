{
 "cells": [
  {
   "cell_type": "markdown",
   "id": "40c94a16-2c7c-4173-b1a6-e99d87ef2a7c",
   "metadata": {},
   "source": [
    "## Class Relationship\n",
    "- Aggregation\n",
    "- Inheritance"
   ]
  },
  {
   "cell_type": "markdown",
   "id": "b835d498-f47f-4e5d-a36a-d8cbc55b1361",
   "metadata": {},
   "source": [
    "### Aggregation (Has-A Relationship)\n",
    "- If two class is having a Has-A relationship means one class is own the other class.\n",
    "- For Example : Resturant has a Menu, Person has a Address.\n",
    "- Technically we say we passed an object of one class as a argument in the Constructor call (Object Creation)."
   ]
  },
  {
   "cell_type": "code",
   "execution_count": null,
   "id": "13e7c8b5-b35f-429f-876a-adc1da624748",
   "metadata": {},
   "outputs": [],
   "source": [
    "# Customer class. \n",
    "class Customer: \n",
    "\n",
    "    def __init__(self, name, gender, address): \n",
    "        self.name = name \n",
    "        self.gender = gender\n",
    "        self.address = address\n",
    "\n",
    "    def display_customer(self): \n",
    "        print('Name : ', self.name)\n",
    "        print('Gender : ', self.gender)  \n",
    "\n",
    "        # print('City : ', self.address._Address__city)\n",
    "        print('City : ', self.address.get_city())\n",
    "        print('Pin Code : ', self.address.pin_code)\n",
    "        print('State : ', self.address.state)\n",
    "\n",
    "    def edit_profile(self, name, city, pin_code, state): \n",
    "        self.name = name \n",
    "        self.address.edit_address(city, pin_code, state)\n",
    "\n",
    "# Address class \n",
    "class Address: \n",
    "    def __init__(self, city, pin_code, state): \n",
    "        self.__city = city\n",
    "        self.pin_code = pin_code\n",
    "        self.state = state\n",
    "\n",
    "    def get_city(self): \n",
    "        return self.__city\n",
    "\n",
    "    def edit_address(self, city, pin_code, state):\n",
    "        self.__city = city\n",
    "        self.pin_code = pin_code\n",
    "        self.state = state"
   ]
  },
  {
   "cell_type": "code",
   "execution_count": null,
   "id": "ec220baa-b276-4564-8daa-b5819e7fd9dd",
   "metadata": {},
   "outputs": [],
   "source": [
    "address1 = Address('Haridwar', 112233, 'Uttarakhand')"
   ]
  },
  {
   "cell_type": "code",
   "execution_count": null,
   "id": "bc097ee8-334d-4d95-899e-ec74fffb5864",
   "metadata": {},
   "outputs": [],
   "source": [
    "cust = Customer('Nitish', 'Male', address1)\n",
    "cust.display_customer()"
   ]
  },
  {
   "cell_type": "code",
   "execution_count": null,
   "id": "f9ffd500-8e5c-4f20-9496-d74c1f564178",
   "metadata": {},
   "outputs": [],
   "source": [
    "cust.edit_profile('Aman', 'saharanpur', 110025, 'UP')\n",
    "cust.display_customer()"
   ]
  },
  {
   "cell_type": "markdown",
   "id": "c5ea0540-8d1a-45a6-a614-ff64f441075e",
   "metadata": {},
   "source": [
    "#### Class Diagram of Aggregation"
   ]
  },
  {
   "cell_type": "markdown",
   "id": "056ecdf1-8d27-4916-ba56-88fc64e3a99c",
   "metadata": {},
   "source": [
    "<img src = 'C:\\Users\\Mohd Uzaif\\Desktop\\DS\\Python\\ClassDiagramAggregation.jpg' width = \"400\">"
   ]
  },
  {
   "cell_type": "markdown",
   "id": "171c89d7-822f-4799-956a-e996ab7d1993",
   "metadata": {},
   "source": [
    "### Inheritance\n",
    "\n",
    "- What is inheritance\n",
    "- Example\n",
    "- What gets inherited?\n",
    "\n",
    "In Object-Oriented Programming (OOP), inheritance is a mechanism where one class (the subclass or derived class) inherits properties and behaviors from another class (the superclass or base class). This allows for code reuse and the creation of hierarchical class relationships. "
   ]
  },
  {
   "cell_type": "markdown",
   "id": "f744eb1b-80f8-4311-90d4-d63183ccb201",
   "metadata": {},
   "source": [
    "#### `NOTE : `\n",
    "- Child Class / Sub-class can not access the private member of the parent class / Base class.\n",
    "- If child class has same name attributes, methods, and having constructor then it will execute its methods and constructor this concept is called Overriding"
   ]
  },
  {
   "cell_type": "code",
   "execution_count": null,
   "id": "2e2e3ef0-3b18-4f08-baa4-e9e57cb5151f",
   "metadata": {},
   "outputs": [],
   "source": [
    "# Example. \n",
    "\n",
    "# Parent class. \n",
    "class User: \n",
    "    def __init__(self): \n",
    "        self.__user_id = None \n",
    "\n",
    "    def login(self): \n",
    "        print('Hello, I am here in Login function')\n",
    "\n",
    "    def register(self): \n",
    "        print('Hello, I am here in Register function')\n",
    "\n",
    "# child class \n",
    "class Student(User): \n",
    "    \n",
    "    def __init__(self, student_name): \n",
    "        self.student_name = student_name\n",
    "\n",
    "    def enroll(self): \n",
    "        print('Hello, I am here in Enroll function')\n",
    "\n",
    "# child class \n",
    "class Instructor(User): \n",
    "    \n",
    "    def __init__(self, instructor_name): \n",
    "        self.instructor_name = instructor_name\n",
    "\n",
    "    def launch_course(self): \n",
    "        print('Hello, I am here in launch_course function')"
   ]
  },
  {
   "cell_type": "code",
   "execution_count": null,
   "id": "07843c5c-30d1-4249-9bf2-3c6a222c561a",
   "metadata": {},
   "outputs": [],
   "source": [
    "std = Student('Sams')\n",
    "std.login()\n",
    "std.register()\n",
    "std.enroll()"
   ]
  },
  {
   "cell_type": "markdown",
   "id": "0fd91e32-14b0-49f8-8b22-8c117234c12a",
   "metadata": {},
   "source": [
    "#### Class Diagram of Inheritance\n",
    "- Arrow always towards the parent."
   ]
  },
  {
   "cell_type": "markdown",
   "id": "c7aeeab9-1eed-4804-a608-8b1dba2567b7",
   "metadata": {},
   "source": [
    "<img src = 'C:\\Users\\Mohd Uzaif\\Desktop\\DS\\Python\\Inheritance_class_diagram.jpg' width = \"400\">"
   ]
  },
  {
   "cell_type": "markdown",
   "id": "d48113a1-3b49-4528-a918-6af5ca76c5b6",
   "metadata": {},
   "source": [
    "#### What gets inherited?\n",
    "\n",
    "- Constructor\n",
    "- Non Private Attributes\n",
    "- Non Private Methods"
   ]
  },
  {
   "cell_type": "code",
   "execution_count": null,
   "id": "a281550e-b3db-4763-8a18-b2a94b8df6b9",
   "metadata": {},
   "outputs": [],
   "source": [
    "# EXAMPLE - 1\n",
    "\n",
    "# Here parent class constructor is executed becos child class does not have their own constructor\n",
    "\n",
    "class Phone:\n",
    "    def __init__(self, price, brand, camera):\n",
    "        print (\"Inside phone constructor\")\n",
    "        self.price = price\n",
    "        self.brand = brand\n",
    "        self.camera = camera\n",
    "\n",
    "    def buy(self):\n",
    "        print (\"Buying a phone\")\n",
    "\n",
    "class SmartPhone(Phone):\n",
    "    pass\n",
    "\n",
    "s=SmartPhone(20000, \"Apple\", 13)\n",
    "s.buy()"
   ]
  },
  {
   "cell_type": "code",
   "execution_count": null,
   "id": "a0ed1cdb-4e2a-4739-b2e3-5a152a78685c",
   "metadata": {},
   "outputs": [],
   "source": [
    "# EXAMPLE - 2\n",
    "\n",
    "# Here both the class have their own constructors, so here only child class(SmartPhone) constructor is executed. \n",
    "\n",
    "class Phone:\n",
    "    def __init__(self, price, brand, camera):\n",
    "        print (\"Inside phone constructor\")\n",
    "        self.__price = price\n",
    "        self.brand = brand\n",
    "        self.camera = camera\n",
    "\n",
    "class SmartPhone(Phone):\n",
    "    def __init__(self, os, ram):\n",
    "        self.os = os\n",
    "        self.ram = ram\n",
    "        print (\"Inside SmartPhone constructor\")\n",
    "\n",
    "s = SmartPhone(\"Android\", 2)\n",
    "\n",
    "# Here it will give me an error becos parent constructor is not execute so their attribute does not created. \n",
    "# print(s.brand)"
   ]
  },
  {
   "cell_type": "code",
   "execution_count": null,
   "id": "504b9dba-342c-4390-8dea-cac898286b0b",
   "metadata": {},
   "outputs": [],
   "source": [
    "# child can't access private members of the class\n",
    "\n",
    "class Phone:\n",
    "    def __init__(self, price, brand, camera):\n",
    "        print (\"Inside phone constructor\")\n",
    "        self.__price = price\n",
    "        self.brand = brand\n",
    "        self.camera = camera\n",
    "\n",
    "    #getter\n",
    "    def show(self):\n",
    "        print (self.__price)\n",
    "\n",
    "class SmartPhone(Phone):\n",
    "    def check(self):\n",
    "        print(self.__price)\n",
    "\n",
    "s=SmartPhone(20000, \"Apple\", 13)\n",
    "s.show()\n",
    "\n",
    "# Here it will give me an error becos parent constructor is not execute so their attribute does not created. \n",
    "print(s.__price)"
   ]
  },
  {
   "cell_type": "code",
   "execution_count": null,
   "id": "e56f9305-c3ea-48ff-8ef4-9fa3568e6e6d",
   "metadata": {},
   "outputs": [],
   "source": [
    "class Parent:\n",
    "\n",
    "    def __init__(self,num):\n",
    "        self.__num=num\n",
    "\n",
    "    def get_num(self):\n",
    "        return self.__num\n",
    "\n",
    "class Child(Parent):\n",
    "\n",
    "    def show(self):\n",
    "        print(\"This is in child class\")\n",
    "        \n",
    "son=Child(100)\n",
    "print(son.get_num())\n",
    "son.show()"
   ]
  },
  {
   "cell_type": "code",
   "execution_count": null,
   "id": "0eeff1f6-25cf-43f7-a9ab-fd2837513199",
   "metadata": {},
   "outputs": [],
   "source": [
    "class A:\n",
    "    def __init__(self):\n",
    "        self.var1=100\n",
    "\n",
    "    def display1(self,var1):\n",
    "        print(\"class A :\", self.var1)\n",
    "class B(A):\n",
    "  \n",
    "    def display2(self,var1):\n",
    "        print(\"class B :\", self.var1)\n",
    "\n",
    "obj=B()\n",
    "obj.display1(200)"
   ]
  },
  {
   "cell_type": "code",
   "execution_count": null,
   "id": "f660d5d3-6152-447d-aafa-6905027dc136",
   "metadata": {},
   "outputs": [],
   "source": [
    "# Method Overriding\n",
    "class Phone:\n",
    "    def __init__(self, price, brand, camera):\n",
    "        print (\"Inside phone constructor\")\n",
    "        self.__price = price\n",
    "        self.brand = brand\n",
    "        self.camera = camera\n",
    "\n",
    "    def buy(self):\n",
    "        print (\"Buying a phone\")\n",
    "\n",
    "class SmartPhone(Phone):\n",
    "    def buy(self):\n",
    "        print (\"Buying a smartphone\")\n",
    "\n",
    "s=SmartPhone(20000, \"Apple\", 13)\n",
    "\n",
    "s.buy()"
   ]
  },
  {
   "cell_type": "markdown",
   "id": "66b24340-6f1d-484b-9801-d5ea3d5a6f7f",
   "metadata": {},
   "source": [
    "### Super Keyword\n",
    "- Super() can not used outside the class.\n",
    "- Super() can not access the attributes.\n",
    "- Super() is used to access the public methods and constructor of the parent class. "
   ]
  },
  {
   "cell_type": "code",
   "execution_count": null,
   "id": "dc56a77a-e396-464d-a8dd-144046871a88",
   "metadata": {},
   "outputs": [],
   "source": [
    "class Phone:\n",
    "    def __init__(self, price, brand, camera):\n",
    "        print (\"Inside phone constructor\")\n",
    "        self.__price = price\n",
    "        self.brand = brand\n",
    "        self.camera = camera\n",
    "\n",
    "    def buy(self):\n",
    "        print (\"Buying a phone\")\n",
    "\n",
    "    \n",
    "\n",
    "class SmartPhone(Phone):\n",
    "    def buy(self):\n",
    "        print (\"Buying a smartphone\")\n",
    "        # syntax to call parent ka buy method\n",
    "        super().buy()\n",
    "\n",
    "s=SmartPhone(20000, \"Apple\", 13)\n",
    "\n",
    "s.buy()"
   ]
  },
  {
   "cell_type": "code",
   "execution_count": null,
   "id": "5058dc67-2aa6-4891-8e79-93ecea494fa3",
   "metadata": {},
   "outputs": [],
   "source": [
    "# using super outside the class\n",
    "class Phone:\n",
    "    def __init__(self, price, brand, camera):\n",
    "        print (\"Inside phone constructor\")\n",
    "        self.__price = price\n",
    "        self.brand = brand\n",
    "        self.camera = camera\n",
    "\n",
    "    def buy(self):\n",
    "        print (\"Buying a phone\")\n",
    "\n",
    "class SmartPhone(Phone):\n",
    "    def buy(self):\n",
    "        print (\"Buying a smartphone\")\n",
    "        # syntax to call parent ka buy method\n",
    "        super().buy()\n",
    "\n",
    "s=SmartPhone(20000, \"Apple\", 13)\n",
    "s.buy()\n",
    "\n",
    "super().buy()"
   ]
  },
  {
   "cell_type": "code",
   "execution_count": null,
   "id": "7b21d188-512d-4713-9dec-ceb561590612",
   "metadata": {},
   "outputs": [],
   "source": [
    "# super -> constuctor\n",
    "class Phone:\n",
    "    def __init__(self, price, brand, camera):\n",
    "        print (\"Inside phone constructor\")\n",
    "        self.__price = price\n",
    "        self.brand = brand\n",
    "        self.camera = camera\n",
    "\n",
    "class SmartPhone(Phone):\n",
    "    def __init__(self, price, brand, camera, os, ram):\n",
    "        print('Inside smartphone constructor')\n",
    "        super().__init__(price, brand, camera)\n",
    "        self.os = os\n",
    "        self.ram = ram\n",
    "        print (\"Inside smartphone constructor\")\n",
    "\n",
    "s=SmartPhone(20000, \"Samsung\", 12, \"Android\", 2)\n",
    "\n",
    "print(s.os)\n",
    "print(s.brand)"
   ]
  },
  {
   "cell_type": "markdown",
   "id": "d277fc14-bb14-4a04-8309-d9045c02fff9",
   "metadata": {},
   "source": [
    "#### Inheritance in summary\n",
    "\n",
    "- A class can inherit from another class.\n",
    "\n",
    "- Inheritance improves code reuse\n",
    "\n",
    "- Constructor, attributes, methods get inherited to the child class\n",
    "\n",
    "- The parent has no access to the child class\n",
    "\n",
    "- Private properties of parent are not accessible directly in child class\n",
    "\n",
    "- Child class can override the attributes or methods. This is called method overriding\n",
    "\n",
    "- super() is an inbuilt function which is used to invoke the parent class methods and constructor"
   ]
  },
  {
   "cell_type": "code",
   "execution_count": null,
   "id": "0493d239-b544-43c3-9889-caed137ef22d",
   "metadata": {},
   "outputs": [],
   "source": [
    "class Parent:\n",
    "\n",
    "    def __init__(self,num):\n",
    "      self.__num=num\n",
    "\n",
    "    def get_num(self):\n",
    "      return self.__num\n",
    "\n",
    "class Child(Parent):\n",
    "  \n",
    "    def __init__(self,num,val):\n",
    "      super().__init__(num)\n",
    "      self.__val=val\n",
    "\n",
    "    def get_val(self):\n",
    "      return self.__val\n",
    "      \n",
    "son=Child(100,200)\n",
    "print(son.get_num())\n",
    "print(son.get_val())"
   ]
  },
  {
   "cell_type": "code",
   "execution_count": null,
   "id": "28578a77-4678-44b7-bde8-003941d21b04",
   "metadata": {},
   "outputs": [],
   "source": [
    "class Parent:\n",
    "    def __init__(self):\n",
    "        self.__num=100\n",
    "\n",
    "    def show(self):\n",
    "        print(\"Parent:\",self.__num)\n",
    "\n",
    "class Child(Parent):\n",
    "    def __init__(self):\n",
    "        super().__init__()\n",
    "        self.__var=10\n",
    "\n",
    "    def show(self):\n",
    "        print(\"Child:\",self.__var)\n",
    "\n",
    "obj=Child()\n",
    "obj.show()"
   ]
  },
  {
   "cell_type": "code",
   "execution_count": null,
   "id": "e6eb61dd-b5b3-4109-a1c7-13eae9d3f81c",
   "metadata": {},
   "outputs": [],
   "source": [
    "class Parent:\n",
    "    def __init__(self):\n",
    "        self.__num=100\n",
    "\n",
    "    def show(self):\n",
    "        print(\"Parent:\",self.__num)\n",
    "\n",
    "class Child(Parent):\n",
    "    def __init__(self):\n",
    "        super().__init__()\n",
    "        self.__var=10\n",
    "\n",
    "    def show(self):\n",
    "        print(\"Child:\",self.__var)\n",
    "\n",
    "obj=Child()\n",
    "obj.show()"
   ]
  },
  {
   "cell_type": "markdown",
   "id": "0c425055-a691-4768-bda9-a2e8fa42124e",
   "metadata": {},
   "source": [
    "#### Types of Inheritance\n",
    "\n",
    "- Single Inheritance\n",
    "- Multilevel Inheritance\n",
    "- Hierarchical Inheritance\n",
    "- Multiple Inheritance(Diamond Problem)\n",
    "- Hybrid Inheritance"
   ]
  },
  {
   "cell_type": "markdown",
   "id": "7fbc601c-cdde-4843-aa18-c35511023c9b",
   "metadata": {},
   "source": [
    "##### Diagram of each type of Inheritance"
   ]
  },
  {
   "cell_type": "markdown",
   "id": "e9240f03-12e1-4589-9221-ef4321ae50a6",
   "metadata": {},
   "source": []
  },
  {
   "cell_type": "code",
   "execution_count": null,
   "id": "6cc43638-0aee-4447-ae8a-37aec867996b",
   "metadata": {},
   "outputs": [],
   "source": [
    "# single inheritance\n",
    "class Phone:\n",
    "    def __init__(self, price, brand, camera):\n",
    "        print (\"Inside phone constructor\")\n",
    "        self.__price = price\n",
    "        self.brand = brand\n",
    "        self.camera = camera\n",
    "\n",
    "    def buy(self):\n",
    "        print (\"Buying a phone\")\n",
    "\n",
    "class SmartPhone(Phone):\n",
    "    pass\n",
    "\n",
    "SmartPhone(1000,\"Apple\",\"13px\").buy()"
   ]
  },
  {
   "cell_type": "code",
   "execution_count": null,
   "id": "c15cc3ba-24da-48c2-be9b-78b59f7104a7",
   "metadata": {},
   "outputs": [],
   "source": [
    "# multilevel\n",
    "class Product:\n",
    "    def review(self):\n",
    "        print (\"Product customer review\")\n",
    "\n",
    "class Phone(Product):\n",
    "    def __init__(self, price, brand, camera):\n",
    "        print (\"Inside phone constructor\")\n",
    "        self.__price = price\n",
    "        self.brand = brand\n",
    "        self.camera = camera\n",
    "\n",
    "    def buy(self):\n",
    "        print (\"Buying a phone\")\n",
    "\n",
    "class SmartPhone(Phone):\n",
    "    pass\n",
    "\n",
    "s=SmartPhone(20000, \"Apple\", 12)\n",
    "\n",
    "s.buy()\n",
    "s.review()"
   ]
  },
  {
   "cell_type": "code",
   "execution_count": null,
   "id": "5ed40168-f255-4058-83a0-517aefc0bdf5",
   "metadata": {},
   "outputs": [],
   "source": [
    "# Hierarchical\n",
    "class Phone:\n",
    "    def __init__(self, price, brand, camera):\n",
    "        print (\"Inside phone constructor\")\n",
    "        self.__price = price\n",
    "        self.brand = brand\n",
    "        self.camera = camera\n",
    "\n",
    "    def buy(self):\n",
    "        print (\"Buying a phone\")\n",
    "\n",
    "class SmartPhone(Phone):\n",
    "    pass\n",
    "\n",
    "class FeaturePhone(Phone):\n",
    "    pass\n",
    "\n",
    "SmartPhone(1000,\"Apple\",\"13px\").buy()\n",
    "FeaturePhone(10,\"Lava\",\"1px\").buy()"
   ]
  },
  {
   "cell_type": "code",
   "execution_count": null,
   "id": "1ccbf7cd-e43f-4672-89f7-a2a74835237f",
   "metadata": {},
   "outputs": [],
   "source": [
    "# Multiple\n",
    "class Phone:\n",
    "    def __init__(self, price, brand, camera):\n",
    "        print (\"Inside phone constructor\")\n",
    "        self.__price = price\n",
    "        self.brand = brand\n",
    "        self.camera = camera\n",
    "\n",
    "    def buy(self):\n",
    "        print (\"Buying a phone\")\n",
    "\n",
    "class Product:\n",
    "    def review(self):\n",
    "        print (\"Customer review\")\n",
    "\n",
    "class SmartPhone(Phone, Product):\n",
    "    pass\n",
    "\n",
    "s=SmartPhone(20000, \"Apple\", 12)\n",
    "\n",
    "s.buy()\n",
    "s.review()\n"
   ]
  },
  {
   "cell_type": "code",
   "execution_count": null,
   "id": "c9179b17-6904-4715-bdb8-b62418cb3f8d",
   "metadata": {},
   "outputs": [],
   "source": [
    "# the diamond problem\n",
    "# https://stackoverflow.com/questions/56361048/what-is-the-diamond-problem-in-python-and-why-its-not-appear-in-python2\n",
    "class Phone:\n",
    "    def __init__(self, price, brand, camera):\n",
    "        print (\"Inside phone constructor\")\n",
    "        self.__price = price\n",
    "        self.brand = brand\n",
    "        self.camera = camera\n",
    "\n",
    "    def buy(self):\n",
    "        print (\"Buying a phone\")\n",
    "\n",
    "class Product:\n",
    "    def buy(self):\n",
    "        print (\"Product buy method\")\n",
    "\n",
    "# Method resolution order (Jo pehle hai uska function execute hoga simply)\n",
    "class SmartPhone(Phone,Product):\n",
    "    pass\n",
    "\n",
    "s=SmartPhone(20000, \"Apple\", 12)\n",
    "\n",
    "s.buy()"
   ]
  },
  {
   "cell_type": "code",
   "execution_count": null,
   "id": "0a14f16f-96fa-49b1-b02d-6568c32c8123",
   "metadata": {},
   "outputs": [],
   "source": [
    "# Example \n",
    "\n",
    "class A:\n",
    "\n",
    "    def m1(self):\n",
    "        return 20\n",
    "\n",
    "class B(A):\n",
    "\n",
    "    def m1(self):\n",
    "        return 30\n",
    "\n",
    "    def m2(self):\n",
    "        return 40\n",
    "\n",
    "class C(B):\n",
    "  \n",
    "    def m2(self):\n",
    "        return 20\n",
    "obj1=A()\n",
    "obj2=B()\n",
    "obj3=C()\n",
    "print(obj1.m1() + obj3.m1()+ obj3.m2())"
   ]
  },
  {
   "cell_type": "markdown",
   "id": "a272da33-c0d4-41a2-834b-99a9e3016f29",
   "metadata": {},
   "source": [
    "### Polymorphism\n",
    "\n",
    "- Method Overriding\n",
    "- Method Overloading\n",
    "- Operator Overloading"
   ]
  },
  {
   "cell_type": "code",
   "execution_count": null,
   "id": "497580c9-b078-4a95-be02-4377dfd49685",
   "metadata": {},
   "outputs": [],
   "source": [
    "# Method Overloading\n",
    "\n",
    "class Shape:\n",
    "\n",
    "  def area(self,a,b=0):\n",
    "    if b == 0:\n",
    "      return 3.14*a*a\n",
    "    else:\n",
    "      return a*b\n",
    "\n",
    "s = Shape()\n",
    "\n",
    "print(s.area(2))\n",
    "print(s.area(3,4))"
   ]
  },
  {
   "cell_type": "code",
   "execution_count": null,
   "id": "1baac67d-ebac-41e9-a98f-efb73397f3ae",
   "metadata": {},
   "outputs": [],
   "source": [
    "# Operator Overloading\n",
    "\n",
    "print('hello' + 'world')\n",
    "\n",
    "print(3 + 4)\n",
    "\n",
    "print([1, 2, 3] + [6, 7, 8, 9])"
   ]
  },
  {
   "cell_type": "markdown",
   "id": "f96bafb0-e744-4144-ba01-6ed7665ce734",
   "metadata": {},
   "source": [
    "### Abstratction\n",
    "- In Object-Oriented Programming (OOP), abstraction is the process of showing only the essential details of an object or system while hiding complex implementation details.\n",
    "- Abtract class always have atleast one abstract method.\n",
    "- Abstract method can make using abstractmethod decorator\n",
    "- We can not make a object of Abstract class.\n",
    "- Abstract class always inherit a class ABC."
   ]
  },
  {
   "cell_type": "code",
   "execution_count": null,
   "id": "03d6d619-52e5-47a7-b545-93d3f7d8a930",
   "metadata": {},
   "outputs": [],
   "source": [
    "from abc import ABC, abstractmethod\n",
    "\n",
    "class BankApp(ABC): \n",
    "    \n",
    "    def database_connect(self):\n",
    "        print('Database Connected')\n",
    "\n",
    "    @abstractmethod \n",
    "    def security(self):\n",
    "        pass\n",
    "class MobileApp(BankApp): \n",
    "    \n",
    "    def mobile_login(self): \n",
    "        print('Login function')\n"
   ]
  },
  {
   "cell_type": "code",
   "execution_count": null,
   "id": "04bc6d0a-fb15-42c3-b0ff-197c7751c834",
   "metadata": {},
   "outputs": [],
   "source": [
    "# Here we can not make an object of child class if we are not give the defination of the abstract method. \n",
    "mobile = MobileApp()"
   ]
  },
  {
   "cell_type": "code",
   "execution_count": null,
   "id": "1d9953fa-8a54-4f71-be99-14e71ebd3123",
   "metadata": {},
   "outputs": [],
   "source": [
    "from abc import ABC, abstractmethod\n",
    "\n",
    "class BankApp(ABC): \n",
    "    \n",
    "    def database_connect(self):\n",
    "        print('Database Connected')\n",
    "\n",
    "    @abstractmethod \n",
    "    def security(self):\n",
    "        pass\n",
    "class MobileApp(BankApp): \n",
    "    \n",
    "    def mobile_login(self): \n",
    "        print('Login function')\n",
    "\n",
    "    def security(self): \n",
    "        print('Security Implemented')"
   ]
  },
  {
   "cell_type": "code",
   "execution_count": null,
   "id": "8ed3edc5-855a-49df-b887-c9f92e2cff72",
   "metadata": {},
   "outputs": [],
   "source": [
    "mobile = MobileApp()\n",
    "mobile.database_connect()\n",
    "mobile.mobile_login()"
   ]
  },
  {
   "cell_type": "code",
   "execution_count": null,
   "id": "5a0afffc-217e-4afd-9da0-b56735cafef1",
   "metadata": {},
   "outputs": [],
   "source": []
  }
 ],
 "metadata": {
  "kernelspec": {
   "display_name": "Python 3 (ipykernel)",
   "language": "python",
   "name": "python3"
  },
  "language_info": {
   "codemirror_mode": {
    "name": "ipython",
    "version": 3
   },
   "file_extension": ".py",
   "mimetype": "text/x-python",
   "name": "python",
   "nbconvert_exporter": "python",
   "pygments_lexer": "ipython3",
   "version": "3.13.1"
  }
 },
 "nbformat": 4,
 "nbformat_minor": 5
}
