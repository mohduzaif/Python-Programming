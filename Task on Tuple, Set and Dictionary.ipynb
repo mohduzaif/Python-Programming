{
 "cells": [
  {
   "cell_type": "markdown",
   "id": "af6b452b-bec4-4122-84ec-0c1d69c780c6",
   "metadata": {},
   "source": [
    "## Tuple"
   ]
  },
  {
   "cell_type": "markdown",
   "id": "840bad26-0445-4d39-b3e1-693142aaaef7",
   "metadata": {},
   "source": [
    "### `Q1:` Join Tuples if similar initial element\n",
    "While working with Python tuples, we can have a problem in which we need to perform concatenation of records from the similarity of initial element. This problem can have applications in data domains such as Data Science.\n",
    "\n",
    "For eg.\n",
    "```\n",
    "Input  : test_list = [(5, 6), (5, 7), (5, 8), (6, 10), (7, 13)] \n",
    "Output : [(5, 6, 7, 8), (6, 10), (7, 13)]\n",
    "\n",
    "```"
   ]
  },
  {
   "cell_type": "code",
   "execution_count": 18,
   "id": "0354badb-b817-48d6-b03d-20f21b9627ae",
   "metadata": {},
   "outputs": [
    {
     "data": {
      "text/plain": [
       "[(5, 6, 7, 8), (6, 10), (7, 13)]"
      ]
     },
     "execution_count": 18,
     "metadata": {},
     "output_type": "execute_result"
    }
   ],
   "source": [
    "test_list = [(5, 6), (5, 7), (5, 8), (6, 10), (7, 13)]  \n",
    "\n",
    "temp_dict = {} \n",
    "\n",
    "for tup in test_list: \n",
    "    if tup[0] in temp_dict: \n",
    "        temp_dict[tup[0]] += tup[1 : ]\n",
    "    else: \n",
    "        temp_dict[tup[0]] = list(tup)\n",
    "\n",
    "result_list = list(temp_dict.values())\n",
    "result_list = [tuple(L) for L in result_list]\n",
    "result_list"
   ]
  },
  {
   "cell_type": "markdown",
   "id": "d20a6cb7-02c7-49b0-903c-5ec863becb95",
   "metadata": {},
   "source": [
    "### `Q2:` Multiply Adjacent elements (both side) and take sum of right and lest side multiplication result. \n",
    "\n",
    "\n",
    "For eg.\n",
    "```\n",
    "The original tuple : (1, 5, 7, 8, 10)\n",
    "Resultant tuple after multiplication : \n",
    "\n",
    "(1*5, 1*5+5*7, 7*5 + 7*8, 8*7 + 8*10, 10*8) -> (5, 40, 91, 136, 80)\n",
    "\n",
    "output-(5, 40, 91, 136, 80)\n",
    "```"
   ]
  },
  {
   "cell_type": "code",
   "execution_count": 11,
   "id": "e69d7b39-e273-4b37-8307-49330dc9d85c",
   "metadata": {},
   "outputs": [
    {
     "name": "stdout",
     "output_type": "stream",
     "text": [
      "(5, 40, 91, 136, 80)\n"
     ]
    }
   ],
   "source": [
    "t = (1, 5, 7, 8, 10)\n",
    "\n",
    "temp_list = []\n",
    "for i in range(len(t)): \n",
    "    if i == 0: \n",
    "        temp_list.append(t[i] * t[i + 1])\n",
    "    elif i == len(t) - 1: \n",
    "        temp_list.append(t[i - 1] * t[i])\n",
    "    else:\n",
    "        temp_list.append(t[i - 1] * t[i] + t[i] * t[i + 1])\n",
    "# print(temp_list) \n",
    "result = tuple(temp_list)\n",
    "print(result)"
   ]
  },
  {
   "cell_type": "markdown",
   "id": "5a0ff8c9-7396-4976-aa75-6205d7cbc8d9",
   "metadata": {},
   "source": [
    "### `Q3`: Check is tuples are same or not?\n",
    "Two tuples would be same if both tuples have same element at same index\n",
    "```\n",
    "t1 = (1,2,3,0)\n",
    "t2 = (0,1,2,3)\n",
    "\n",
    "t1 and t2 are not same\n",
    "\n",
    "```"
   ]
  },
  {
   "cell_type": "code",
   "execution_count": 13,
   "id": "ac1d89b1-69b3-4c72-9fc3-9aacf14cc700",
   "metadata": {},
   "outputs": [
    {
     "name": "stdout",
     "output_type": "stream",
     "text": [
      "t1 and t2 are not same.\n"
     ]
    }
   ],
   "source": [
    "t1 = (1, 2, 3, 0)\n",
    "t2 = (0, 1, 2, 3)\n",
    "\n",
    "for i in range(len(t1)): \n",
    "    if t1[i] != t2[i]: \n",
    "        print('t1 and t2 are not same.')\n",
    "        break\n",
    "else: \n",
    "    print('t1 and t2 are same.')"
   ]
  },
  {
   "cell_type": "markdown",
   "id": "e4392f9d-0a5e-402f-a65f-9febf1ccafc5",
   "metadata": {},
   "source": [
    "### `Q4`: Count no of tuples, list and set from a list\n",
    "```\n",
    "list1 = [{'hi', 'bye'},{'Geeks', 'forGeeks'},('a', 'b'),['hi', 'bye'],['a', 'b']]\n",
    "\n",
    "```\n",
    "`Output:`\n",
    "\n",
    "```\n",
    "List-2\n",
    "Set-2\n",
    "Tuples-1\n",
    "```"
   ]
  },
  {
   "cell_type": "code",
   "execution_count": 24,
   "id": "82a10857-a729-45de-a3d7-5f018e352b15",
   "metadata": {},
   "outputs": [
    {
     "name": "stdout",
     "output_type": "stream",
     "text": [
      "Lists-2\n",
      "Sets-2\n",
      "Tuples-1\n"
     ]
    }
   ],
   "source": [
    "list1 = [{'hi', 'bye'},{'Geeks', 'forGeeks'},('a', 'b'),['hi', 'bye'],['a', 'b']] \n",
    "\n",
    "Lists = 0\n",
    "sets = 0\n",
    "Tuples = 0\n",
    "for item in list1:\n",
    "    if type(item) == set:\n",
    "        sets += 1\n",
    "    elif type(item) == list:\n",
    "        Lists += 1\n",
    "    elif type(item) == tuple:\n",
    "        Tuples += 1\n",
    "print('Lists-{}'.format(Lists))\n",
    "print('Sets-{}'.format(sets)) \n",
    "print('Tuples-{}'.format(Tuples))"
   ]
  },
  {
   "cell_type": "markdown",
   "id": "a270cea7-2312-4a44-b4a7-8e5772708cb1",
   "metadata": {},
   "source": [
    "### `Q5`: Shortlist Students for a Job role\n",
    "Ask user to input students record and store in tuples for each record. Then Ask user to input three things he wants in the candidate- Primary Skill, Higher Education, Year of Graduation.\n",
    "\n",
    "Show every students record in form of tuples if matches all required criteria.\n",
    "\n",
    "It is assumed that there will be only one primry skill.\n",
    "\n",
    "If no such candidate found, print `No such candidate`\n",
    "\n",
    "`Input:`\n",
    "```\n",
    "Enter No of records- 2\n",
    "Enter Details of student-1\n",
    "Enter Student name- Manohar\n",
    "Enter Higher Education- B.Tech\n",
    "Enter Primary Skill- Python\n",
    "Enter Year of Graduation- 2022\n",
    "Enter Details of student-2\n",
    "Enter Student name- Ponian\n",
    "Enter Higher Education- B.Sc.\n",
    "Enter Primary Skill- C++\n",
    "Enter Year of Graduation- 2020\n",
    "\n",
    "Enter Job Role Requirement\n",
    "Enter Skill- Python\n",
    "Enter Higher Education- B.Tech\n",
    "Enter Year of Graduation- 2022\n",
    "\n",
    "```\n",
    "\n",
    "`Output`\n",
    "```\n",
    "('Manohar', 'B.tech', 'Python', '2022')\n",
    "\n",
    "```\n"
   ]
  },
  {
   "cell_type": "code",
   "execution_count": 112,
   "id": "f1b90789-6711-4cc4-a215-0c6ac772d041",
   "metadata": {},
   "outputs": [
    {
     "name": "stdin",
     "output_type": "stream",
     "text": [
      "Enter No of records -  2\n"
     ]
    },
    {
     "name": "stdout",
     "output_type": "stream",
     "text": [
      "Enter Details of student - 1\n"
     ]
    },
    {
     "name": "stdin",
     "output_type": "stream",
     "text": [
      "Enter Student name -  Manhor\n",
      "Enter Higher Education -  BTech\n",
      "Enter Primary Skill -  Python\n",
      "Enter Year of Graduation -  2023\n"
     ]
    },
    {
     "name": "stdout",
     "output_type": "stream",
     "text": [
      "Enter Details of student - 2\n"
     ]
    },
    {
     "name": "stdin",
     "output_type": "stream",
     "text": [
      "Enter Student name -  Jack\n",
      "Enter Higher Education -  BTech\n",
      "Enter Primary Skill -  Python\n",
      "Enter Year of Graduation -  2023\n"
     ]
    },
    {
     "name": "stdout",
     "output_type": "stream",
     "text": [
      "**** Enter Job Role Requirement ****\n"
     ]
    },
    {
     "name": "stdin",
     "output_type": "stream",
     "text": [
      "Enter Skill -  Python\n",
      "Enter Higher Education -  BTech\n",
      "Enter Year of Graduation -  2023\n"
     ]
    },
    {
     "name": "stdout",
     "output_type": "stream",
     "text": [
      "[('Manhor', 'BTech', 'Python', '2023'), ('Jack', 'BTech', 'Python', '2023')]\n"
     ]
    }
   ],
   "source": [
    "record_num = int(input('Enter No of records - '))\n",
    "\n",
    "list_record = []\n",
    "\n",
    "i = 1\n",
    "while i <= record_num:\n",
    "    print('Enter Details of student - {}'.format(i))\n",
    "    name = input('Enter Student name - ')\n",
    "    higher_education = input('Enter Higher Education - ')\n",
    "    primary_skills = input('Enter Primary Skill - ')\n",
    "    year_of_grad = input('Enter Year of Graduation - ')\n",
    "\n",
    "    temp_list = tuple((name, higher_education, primary_skills, year_of_grad))\n",
    "    list_record.append(temp_list)\n",
    "    i += 1\n",
    "\n",
    "# print(list_record)\n",
    "\n",
    "print('**** Enter Job Role Requirement ****')\n",
    "skill = input('Enter Skill - ')\n",
    "req_higher_education = input('Enter Higher Education - ')\n",
    "year_of_completion = input('Enter Year of Graduation - ')    \n",
    "\n",
    "result = []\n",
    "\n",
    "for student in list_record: \n",
    "    if higher_education == req_higher_education and primary_skills == skill and year_of_grad == year_of_completion: \n",
    "        result.append(student)\n",
    "if len(result) == 0: \n",
    "    print('No such candidate')\n",
    "else: \n",
    "    print(result)"
   ]
  },
  {
   "cell_type": "markdown",
   "id": "c60fe2ed-a15f-45e9-aaaa-1e68c5ad53b4",
   "metadata": {},
   "source": [
    "## Sets. "
   ]
  },
  {
   "cell_type": "markdown",
   "id": "ba47d901-514c-496a-b7e5-36b9f86bf223",
   "metadata": {},
   "source": [
    "### `Q1:` Write a program to find set of common elements in three lists using sets.\n",
    "```\n",
    "Input : ar1 = [1, 5, 10, 20, 40, 80]\n",
    "        ar2 = [6, 7, 20, 80, 100]\n",
    "        ar3 = [3, 4, 15, 20, 30, 70, 80, 120]\n",
    "\n",
    "Output : [80, 20]\n",
    "\n",
    "```"
   ]
  },
  {
   "cell_type": "code",
   "execution_count": 24,
   "id": "7bff07a3-52ed-4e1c-ae6a-76259a361323",
   "metadata": {},
   "outputs": [
    {
     "name": "stdout",
     "output_type": "stream",
     "text": [
      "{80, 20}\n"
     ]
    }
   ],
   "source": [
    "arr1 = [1, 5, 10, 20, 40, 80]\n",
    "arr2 = [6, 7, 20, 80, 100]\n",
    "arr3 = [3, 4, 15, 20, 30, 70, 80, 120]\n",
    "\n",
    "s1 = set(arr1)\n",
    "s2 = set(arr2) \n",
    "s3 = set(arr3)\n",
    "\n",
    "new_set = s1.intersection(s2) \n",
    "new_set = new_set.intersection(s3)\n",
    "print(new_set)"
   ]
  },
  {
   "cell_type": "markdown",
   "id": "467fa664-7f1c-44e4-b594-3370c17a0071",
   "metadata": {},
   "source": [
    "### `Q2:` Write a program to count unique number of vowels using sets in a given string. Lowercase and upercase vowels will be taken as different.\n",
    "\n",
    "`Input:`\n",
    "```\n",
    "Str1 = \"hands-on data science mentorship progrAm with live classes at affordable fee only on CampusX\"\n",
    "```\n",
    "`Output:`\n",
    "```\n",
    "No of unique vowels-6\n",
    "```"
   ]
  },
  {
   "cell_type": "code",
   "execution_count": 33,
   "id": "4bcd4157-a88d-46c0-ba59-a3529ade47a9",
   "metadata": {},
   "outputs": [
    {
     "name": "stdout",
     "output_type": "stream",
     "text": [
      "{'A', 'o', 'e', 'i', 'u', 'a'}\n",
      "No of unique vowels - 6\n"
     ]
    }
   ],
   "source": [
    "# a, e, i, o, u, A, E, I, O, U \n",
    "\n",
    "str1 = \"hands-on data science mentorship progrAm with live classes at affordable fee only on CampusX\" \n",
    "\n",
    "vowel_list = ['a', 'e', 'i', 'o', 'u', 'A', 'E', 'I', 'O', 'U']\n",
    "\n",
    "resultent_set = set() \n",
    "for char in str1: \n",
    "    if char in vowel_list: \n",
    "        resultent_set.add(char)\n",
    "print(resultent_set)\n",
    "print('No of unique vowels -', len(resultent_set))"
   ]
  },
  {
   "cell_type": "markdown",
   "id": "2165afa7-7ae7-43ab-b164-085216e19862",
   "metadata": {},
   "source": [
    "### `Q3:` Write a program to Check if a given string is binary string of or not. \n",
    "\n",
    "A string is said to be binary if it's consists of only two unique characters.\n",
    "\n",
    "Take string input from user. \n",
    "\n",
    "```\n",
    "Input: str = \"01010101010\"\n",
    "Output: Yes\n",
    "\n",
    "Input: str = \"1222211\"\n",
    "Output: Yes\n",
    "\n",
    "Input: str = \"Campusx\"\n",
    "Output: No\n",
    "```"
   ]
  },
  {
   "cell_type": "code",
   "execution_count": 36,
   "id": "e2debe8b-cbbe-4260-9edd-fcc6b4f394de",
   "metadata": {},
   "outputs": [
    {
     "name": "stdin",
     "output_type": "stream",
     "text": [
      "Enter the string :  Campusx\n"
     ]
    },
    {
     "name": "stdout",
     "output_type": "stream",
     "text": [
      "NO\n"
     ]
    }
   ],
   "source": [
    "input_string = input('Enter the string : ')\n",
    "\n",
    "temp_set = set() \n",
    "for char in input_string: \n",
    "    temp_set.add(char)\n",
    "    if len(temp_set) > 2: \n",
    "        print('NO')\n",
    "        break\n",
    "else: \n",
    "    print('YES')"
   ]
  },
  {
   "cell_type": "markdown",
   "id": "83a2feb2-0a98-4b3d-9966-2764031b14a6",
   "metadata": {},
   "source": [
    "### `Q4`: find union of n arrays.\n",
    "\n",
    "**Example 1:**\n",
    "\n",
    "Input:\n",
    "```bash\n",
    "[[1, 2, 2, 4, 3, 6],\n",
    " [5, 1, 3, 4],\n",
    " [9, 5, 7, 1],\n",
    " [2, 4, 1, 3]]\n",
    "```\n",
    "\n",
    "Output:\n",
    "\n",
    "```bash\n",
    "[1, 2, 3, 4, 5, 6, 7, 9]\n",
    "\n",
    "```"
   ]
  },
  {
   "cell_type": "code",
   "execution_count": 44,
   "id": "6b41a59c-a87a-4e33-808b-44322cec44a8",
   "metadata": {},
   "outputs": [
    {
     "name": "stdout",
     "output_type": "stream",
     "text": [
      "[1, 2, 3, 4, 5, 6, 7, 9]\n"
     ]
    }
   ],
   "source": [
    "n_array = [\n",
    "            [1, 2, 2, 4, 3, 6],\n",
    "            [5, 1, 3, 4],\n",
    "            [9, 5, 7, 1],\n",
    "            [2, 4, 1, 3]\n",
    "        ]\n",
    "\n",
    "union_array = set(n_array[0])\n",
    "for i in range(1, len(n_array)): \n",
    "    set1 = set(n_array[i])\n",
    "\n",
    "    union_array = union_array.union(set1)\n",
    "print(list(union_array))"
   ]
  },
  {
   "cell_type": "markdown",
   "id": "80807f72-9701-4857-b525-e0d7f7a0d92d",
   "metadata": {},
   "source": [
    "### `Q5`: Intersection of two lists. Intersection of two list means we need to take all those elements which are common to both of the initial lists and store them into another list. Only use using **list-comprehension**.\n",
    "\n",
    "**Example 1:**\n",
    "\n",
    "Input:\n",
    "```bash\n",
    "lst1 = {15, 9, 10, 56, 23, 78, 5, 4, 9}\n",
    "lst2 = {9, 4, 5, 36, 47, 26, 10, 45, 87}\n",
    "\n",
    "```\n",
    "\n",
    "Output:\n",
    "```bash\n",
    "[9, 10, 4, 5]\n",
    "\n",
    "```\n",
    "\n",
    "**Example 2:**\n",
    "\n",
    "Input:\n",
    "```bash\n",
    "lst1 = {4, 9, 1, 17, 11, 26, 28, 54, 69}\n",
    "lst2 = {9, 9, 74, 21, 45, 11, 63, 28, 26}\n",
    "\n",
    "```\n",
    "\n",
    "Output:\n",
    "```bash\n",
    "[9, 11, 26, 28]\n",
    "\n",
    "```"
   ]
  },
  {
   "cell_type": "code",
   "execution_count": 47,
   "id": "2e21e503-3137-4ea8-bb4c-0797f782cd43",
   "metadata": {},
   "outputs": [
    {
     "name": "stdout",
     "output_type": "stream",
     "text": [
      "[9, 11, 26, 28]\n"
     ]
    }
   ],
   "source": [
    "lst1 = {4, 9, 1, 17, 11, 26, 28, 54, 69}\n",
    "lst2 = {9, 9, 74, 21, 45, 11, 63, 28, 26}\n",
    "\n",
    "\n",
    "new_list = [number1 for number2 in lst2 for number1 in lst1 if number1 == number2]\n",
    "print(new_list)"
   ]
  },
  {
   "cell_type": "markdown",
   "id": "74e3698e-cd29-4ca7-911c-706c4de4b26e",
   "metadata": {},
   "source": [
    "## Dictionary"
   ]
  },
  {
   "cell_type": "markdown",
   "id": "08817c33-403e-4792-a313-9025f2de117b",
   "metadata": {},
   "source": [
    "### `Q1`: Key with maximum unique values\n",
    "\n",
    "Given a dictionary with values list, extract key whose value has most unique values.\n",
    "\n",
    "**Example 1:**\n",
    "\n",
    "Input:\n",
    "\n",
    "```bash\n",
    "test_dict = {\"CampusX\" : [5, 7, 9, 4, 0], \"is\" : [6, 7, 4, 3, 3], \"Best\" : [9, 9, 6, 5, 5]}\n",
    "```\n",
    "\n",
    "Output:\n",
    "```bash\n",
    "CampusX\n",
    "```\n",
    "\n",
    "**Example 2:**\n",
    "\n",
    "Input:\n",
    "```bash\n",
    "test_dict = {\"CampusX\" : [5, 7, 7, 7, 7], \"is\" : [6, 7, 7, 7], \"Best\" : [9, 9, 6, 5, 5]}\n",
    "```\n",
    "\n",
    "Output:\n",
    "```bash\n",
    "Best\n",
    "```"
   ]
  },
  {
   "cell_type": "code",
   "execution_count": 66,
   "id": "c29ac960-24c3-4486-a829-9f64c62f722d",
   "metadata": {},
   "outputs": [
    {
     "name": "stdout",
     "output_type": "stream",
     "text": [
      "CampusX\n"
     ]
    }
   ],
   "source": [
    "test_dict = {\n",
    "                \"CampusX\" : [5, 7, 9, 4, 0], \n",
    "                \"is\" : [6, 7, 4, 3, 3], \n",
    "                \"Best\" : [9, 9, 6, 5, 5]\n",
    "            }\n",
    "\n",
    "# test_dict = {\n",
    "#                 \"CampusX\" : [5, 7, 7, 7, 7], \n",
    "#                 \"is\" : [6, 7, 7, 7], \n",
    "#                 \"Best\" : [9, 9, 6, 5, 5]\n",
    "#             }\n",
    "\n",
    "temp_dict = {}\n",
    "for key, value in test_dict.items(): \n",
    "    Set = set() \n",
    "    for num in value:\n",
    "        Set.add(num)\n",
    "    temp_dict[key] = len(Set)\n",
    "\n",
    "# print(temp_dict)\n",
    "max_unique_number = 0 \n",
    "max_unique_key = None \n",
    "\n",
    "for key, value in temp_dict.items(): \n",
    "    if value > max_unique_number: \n",
    "        max_unique_number = value\n",
    "        max_unique_key = key \n",
    "print(max_unique_key)"
   ]
  },
  {
   "cell_type": "markdown",
   "id": "85301ae0-1b5d-499b-8387-4191b51fd17a",
   "metadata": {},
   "source": [
    "### `Q2`: Replace words from Dictionary. Given String, replace it’s words from lookup dictionary.\n",
    "\n",
    "**Example 1:**\n",
    "\n",
    "Input:\n",
    "\n",
    "```bash\n",
    "test_str = 'CampusX best for DS students.'\n",
    "repl_dict = {\"best\" : \"is the best channel\", \"DS\" : \"Data-Science\"}\n",
    "\n",
    "```\n",
    "\n",
    "Output:\n",
    "\n",
    "```bash\n",
    "CampusX is the best channel for Data-Science students.\n",
    "\n",
    "```\n",
    "\n",
    "**Example 2:**\n",
    "\n",
    "Input:\n",
    "```bash\n",
    "test_str = 'CampusX best for DS students.'\n",
    "repl_dict = {\"good\" : \"is the best channel\", \"ds\" : \"Data-Science\"}\n",
    "\n",
    "```\n",
    "\n",
    "Output:\n",
    "```bash\n",
    "CampusX best for DS students.\n",
    "\n",
    "```"
   ]
  },
  {
   "cell_type": "code",
   "execution_count": 74,
   "id": "b41e6dd5-9dc3-457e-a87d-44ff84e7e657",
   "metadata": {},
   "outputs": [
    {
     "name": "stdout",
     "output_type": "stream",
     "text": [
      " CampusX best for DS students.\n"
     ]
    }
   ],
   "source": [
    "# test_str = 'CampusX best for DS students.'\n",
    "\n",
    "# repl_dict = {\n",
    "#                 \"best\" : \"is the best channel\", \n",
    "#                 \"DS\" : \"Data-Science\"\n",
    "#             } \n",
    "\n",
    "test_str = 'CampusX best for DS students.'\n",
    "\n",
    "repl_dict = {\n",
    "                \"good\" : \"is the best channel\", \n",
    "                \"ds\" : \"Data-Science\"\n",
    "            }\n",
    "\n",
    "\n",
    "result = ''\n",
    "word_list = test_str.split(' ')\n",
    "for word in word_list: \n",
    "    if word in repl_dict: \n",
    "        result = result + ' ' +repl_dict[word]\n",
    "    else: \n",
    "        result = result + ' ' + word\n",
    "\n",
    "print(result)"
   ]
  },
  {
   "cell_type": "markdown",
   "id": "19a00881-5d04-447e-9c82-bccbdc76d9d0",
   "metadata": {},
   "source": [
    "### `Q3`: Convert List to List of dictionaries. Given list values and keys list, convert these values to key value pairs in form of list of dictionaries.\n",
    "\n",
    "**Example 1:**\n",
    "\n",
    "Input:\n",
    "```bash\n",
    "test_list = [\"DataScience\", 3, \"is\", 8]\n",
    "key_list = [\"name\", \"id\"]\n",
    "\n",
    "```\n",
    "\n",
    "Output:\n",
    "\n",
    "```bash\n",
    "[{'name': 'DataScience', 'id': 3}, {'name': 'is', 'id': 8}]\n",
    "```\n",
    "\n",
    "**Example 2:**\n",
    "\n",
    "Input:\n",
    "```bash\n",
    "test_list = [\"CampusX\", 10]\n",
    "key_list = [\"name\", \"id\"]\n",
    "\n",
    "```\n",
    "\n",
    "Output:\n",
    "\n",
    "```bash\n",
    "[{'name': 'CampusX', 'id': 10}]\n",
    "```"
   ]
  },
  {
   "cell_type": "code",
   "execution_count": 103,
   "id": "cb3df148-e2d3-495e-b319-47b23d963be7",
   "metadata": {},
   "outputs": [
    {
     "name": "stdout",
     "output_type": "stream",
     "text": [
      "[{'name': 'DataScience', 'id': 3}, {'name': 'is', 'id': 8}]\n"
     ]
    }
   ],
   "source": [
    "test_list = [\"DataScience\", 3, \"is\", 8]\n",
    "key_list = [\"name\", \"id\"] \n",
    "\n",
    "size = len(key_list)\n",
    "\n",
    "result = [] \n",
    "for i in range(0, len(test_list), size): \n",
    "    chunks = test_list[i : i + size]\n",
    "    # print(dict(zip(key_list, chunks)))\n",
    "    result.append(dict(zip(key_list, chunks)))    \n",
    "\n",
    "print(result)"
   ]
  },
  {
   "cell_type": "markdown",
   "id": "7843a1b2-797c-4f16-ae32-258e59905e2c",
   "metadata": {},
   "source": [
    "### `Q4`: Convert a list of Tuples into Dictionary.\n",
    "\n",
    "**Example 1:**\n",
    "\n",
    "Input:\n",
    "```bash\n",
    "[(\"akash\", 10), (\"gaurav\", 12), (\"anand\", 14), (\"suraj\", 20), (\"akhil\", 25), (\"ashish\", 30)]\n",
    "\n",
    "```\n",
    "\n",
    "Output:\n",
    "```bash\n",
    "{'akash': [10], 'gaurav': [12], 'anand': [14], 'suraj': [20], 'akhil': [25], 'ashish': [30]}\n",
    "\n",
    "```\n",
    "\n",
    "**Example 2:**\n",
    "\n",
    "Input:\n",
    "```bash\n",
    "[('A', 1), ('B', 2), ('C', 3)]\n",
    "\n",
    "```\n",
    "\n",
    "Output:\n",
    "```bash\n",
    "{'A': [1], 'B': [2], 'C': [3]}\n",
    "\n",
    "```"
   ]
  },
  {
   "cell_type": "code",
   "execution_count": 87,
   "id": "551238fa-ecb1-4c12-9dfe-ef2b4be80d3f",
   "metadata": {},
   "outputs": [
    {
     "name": "stdout",
     "output_type": "stream",
     "text": [
      "{'akash': [10], 'gaurav': [12], 'anand': [14], 'suraj': [20], 'akhil': [25], 'ashish': [30]}\n"
     ]
    }
   ],
   "source": [
    "my_list = [(\"akash\", 10), (\"gaurav\", 12), (\"anand\", 14), (\"suraj\", 20), (\"akhil\", 25), (\"ashish\", 30)]\n",
    "\n",
    "my_dict = {}\n",
    "for tup in my_list: \n",
    "    my_dict[tup[0]] = [tup[1]] \n",
    "\n",
    "print(my_dict)"
   ]
  },
  {
   "cell_type": "markdown",
   "id": "5c1b1369-0756-4a58-ab5b-821984e6aca1",
   "metadata": {},
   "source": [
    "### `Q5`: Sort Dictionary key and values List.\n",
    "\n",
    "**Example 1:**\n",
    "\n",
    "Input:\n",
    "\n",
    "```bash\n",
    "{'c': [3], 'b': [12, 10], 'a': [19, 4]}\n",
    "```\n",
    "\n",
    "Output:\n",
    "\n",
    "```bash\n",
    "{'a': [4, 19], 'b': [10, 12], 'c': [3]}\n",
    "```\n",
    "\n",
    "**Example 2:**\n",
    "\n",
    "Input:\n",
    "\n",
    "```bash\n",
    "{'c': [10, 34, 3]}\n",
    "```\n",
    "\n",
    "Output:\n",
    "\n",
    "```bash\n",
    "{'c': [3, 10, 34]}\n",
    "```"
   ]
  },
  {
   "cell_type": "code",
   "execution_count": 95,
   "id": "3fa532a5-930d-4765-a821-3d15348a07e6",
   "metadata": {},
   "outputs": [
    {
     "name": "stdout",
     "output_type": "stream",
     "text": [
      "{'a': [19, 4], 'b': [12, 10], 'c': [3]}\n"
     ]
    }
   ],
   "source": [
    "test_dict = {\n",
    "                'c': [3], \n",
    "                'b': [12, 10], \n",
    "                'a': [19, 4]\n",
    "            }\n",
    "\n",
    "# test_dict = {'c': [10, 34, 3]} \n",
    "\n",
    "sorted_keys = sorted(test_dict)\n",
    "\n",
    "result_dict = {}\n",
    "for key in sorted_keys: \n",
    "    value = test_dict[key] \n",
    "    result_dict[key] = value\n",
    "\n",
    "print(result_dict)"
   ]
  },
  {
   "cell_type": "code",
   "execution_count": null,
   "id": "14069bde-2edc-475f-a2e3-b1c751c8874f",
   "metadata": {},
   "outputs": [],
   "source": []
  }
 ],
 "metadata": {
  "kernelspec": {
   "display_name": "Python 3 (ipykernel)",
   "language": "python",
   "name": "python3"
  },
  "language_info": {
   "codemirror_mode": {
    "name": "ipython",
    "version": 3
   },
   "file_extension": ".py",
   "mimetype": "text/x-python",
   "name": "python",
   "nbconvert_exporter": "python",
   "pygments_lexer": "ipython3",
   "version": "3.13.1"
  }
 },
 "nbformat": 4,
 "nbformat_minor": 5
}
