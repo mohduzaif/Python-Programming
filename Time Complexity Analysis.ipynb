{
 "cells": [
  {
   "cell_type": "markdown",
   "id": "e4a1f04f-befc-4edc-9f08-9c2f80623e9e",
   "metadata": {},
   "source": [
    "## Time Complexity."
   ]
  },
  {
   "cell_type": "markdown",
   "id": "a1cc5726-dff0-408e-9544-9c36231cff62",
   "metadata": {},
   "source": [
    "##### Here we are studying the multiple snippets of python code where we are doing time complexity analysis."
   ]
  },
  {
   "cell_type": "code",
   "execution_count": null,
   "id": "8c63d64b-f120-4c6e-8d9d-7220ba74531a",
   "metadata": {},
   "outputs": [],
   "source": [
    "# Program 1\n",
    "\n",
    "number = int(input('enter the number'))\n",
    "\n",
    "digits = '0123456789'\n",
    "result = ''\n",
    "while number != 0:\n",
    "  result = digits[number % 10] + result\n",
    "  number = number//10\n",
    "\n",
    "print(result)"
   ]
  },
  {
   "cell_type": "markdown",
   "id": "094d40eb-04c0-4f23-84e3-452cbac40e38",
   "metadata": {},
   "source": [
    "O(log N)"
   ]
  },
  {
   "cell_type": "code",
   "execution_count": null,
   "id": "045ed13f-339d-46c7-97d1-a0ece5cfd2e3",
   "metadata": {},
   "outputs": [],
   "source": [
    "# Program 2 \n",
    "\n",
    "L = [1,2,3,4]\n",
    "\n",
    "sum = 0\n",
    "for i in L:\n",
    "  sum = sum + i\n",
    "\n",
    "product = 1\n",
    "for i in L:\n",
    "  product = product*i\n",
    "\n",
    "print(sum,product)"
   ]
  },
  {
   "cell_type": "markdown",
   "id": "fb747b40-658a-4159-b0a0-0621b8bdfa4d",
   "metadata": {},
   "source": [
    "O(N)"
   ]
  },
  {
   "cell_type": "code",
   "execution_count": null,
   "id": "661475b3-aab1-42f0-9366-197ef2107f33",
   "metadata": {},
   "outputs": [],
   "source": [
    "# Program 3\n",
    "\n",
    "A = [1,2,3,4]\n",
    "B = [5,6,7,8]\n",
    "for i in A:\n",
    "  for j in B:\n",
    "    print(i,j)"
   ]
  },
  {
   "cell_type": "markdown",
   "id": "0636ff1d-0358-4623-a6c2-fa2c7f3d436d",
   "metadata": {},
   "source": [
    "O(N^2)"
   ]
  },
  {
   "cell_type": "code",
   "execution_count": null,
   "id": "56f8d7b2-119d-4190-a55b-6b54f22f7d9b",
   "metadata": {},
   "outputs": [],
   "source": [
    "# Program 4 \n",
    "\n",
    "A = [1,2,3,4]\n",
    "B = [5,6,7,8]\n",
    "\n",
    "for i in A:\n",
    "  for j in B:\n",
    "    for k in range(1000000):\n",
    "      print(i,j)"
   ]
  },
  {
   "cell_type": "markdown",
   "id": "30c5a63e-e4c3-4f29-81a2-853beab79233",
   "metadata": {},
   "source": [
    "O(N^2)"
   ]
  },
  {
   "cell_type": "code",
   "execution_count": null,
   "id": "399efb53-4531-45b5-9a84-da7132f14498",
   "metadata": {},
   "outputs": [],
   "source": [
    "# Program 5 \n",
    "\n",
    "L = [1,2,3,4,5]\n",
    "\n",
    "for i in range(0,len(L)//2):\n",
    "  other = len(L) - i -1\n",
    "  temp = L[i]\n",
    "  L[i] = L[other]\n",
    "  L[other] = temp\n",
    "\n",
    "print(L)"
   ]
  },
  {
   "cell_type": "markdown",
   "id": "bae327ef-f6a6-4de8-8f5b-97dd429fc097",
   "metadata": {},
   "source": [
    "O(N)"
   ]
  },
  {
   "cell_type": "code",
   "execution_count": null,
   "id": "9f977067-ce6b-4680-981c-cf4adb57dbc4",
   "metadata": {},
   "outputs": [],
   "source": [
    "# Program 6 \n",
    "\n",
    "n = 10\n",
    "k = 0;\n",
    "for i in range(n//2,n):\n",
    "  for j in range(2,n,pow(2,j)):\n",
    "        k = k + n / 2;\n",
    "\n",
    "print(k)"
   ]
  },
  {
   "cell_type": "markdown",
   "id": "8c3b6bc6-b2b5-4be7-b454-cadd6470aaaa",
   "metadata": {},
   "source": [
    "O(N * log N)"
   ]
  },
  {
   "cell_type": "code",
   "execution_count": null,
   "id": "5f877f43-f747-4541-84d7-a1d829dd7037",
   "metadata": {},
   "outputs": [],
   "source": [
    "# Program 7 \n",
    "\n",
    "a = 10\n",
    "b = 3\n",
    "\n",
    "if b <= 0:\n",
    "  print(-1)\n",
    "div = a//b\n",
    "\n",
    "print(a-div-b)"
   ]
  },
  {
   "cell_type": "markdown",
   "id": "d589e801-4f92-4e15-99ee-4dbe312df2dc",
   "metadata": {},
   "source": [
    "O(1)"
   ]
  },
  {
   "cell_type": "code",
   "execution_count": null,
   "id": "ce8f2367-3193-4bba-9751-0735650095db",
   "metadata": {},
   "outputs": [],
   "source": [
    "# Program 8 \n",
    "\n",
    "def fib(n):\n",
    "  if n == 1 or n == 0:\n",
    "    return 1\n",
    "  else:\n",
    "    return fib(n-1) + fib(n-2)"
   ]
  },
  {
   "cell_type": "markdown",
   "id": "8d655bb9-4157-4f95-b119-c6ae5960004f",
   "metadata": {},
   "source": [
    "O(2^N)"
   ]
  },
  {
   "cell_type": "markdown",
   "id": "a88bfd47-d8c9-43ff-8923-0bbb453c4879",
   "metadata": {},
   "source": [
    "Recurrence Relation : 9\n",
    "       \n",
    "       {3T(n-1) if n>0\n",
    "T(n) = {1, otherwise\n",
    "\n",
    "Time Complexity is O(3^N)"
   ]
  },
  {
   "cell_type": "markdown",
   "id": "4c9e6b56-65b1-400e-a7c9-471316a72a04",
   "metadata": {},
   "source": [
    "Recurrence Relation : 10\n",
    "\n",
    "        {2T(n-1)-1 if n>0\n",
    "T(n) =  {1, otherwise\n",
    "\n",
    "Time Complexity is O(1) or Constant."
   ]
  },
  {
   "cell_type": "code",
   "execution_count": null,
   "id": "aa04d75e-4fcd-4f5e-b5c7-fb669efab6af",
   "metadata": {},
   "outputs": [],
   "source": []
  }
 ],
 "metadata": {
  "kernelspec": {
   "display_name": "Python 3 (ipykernel)",
   "language": "python",
   "name": "python3"
  },
  "language_info": {
   "codemirror_mode": {
    "name": "ipython",
    "version": 3
   },
   "file_extension": ".py",
   "mimetype": "text/x-python",
   "name": "python",
   "nbconvert_exporter": "python",
   "pygments_lexer": "ipython3",
   "version": "3.13.1"
  }
 },
 "nbformat": 4,
 "nbformat_minor": 5
}
