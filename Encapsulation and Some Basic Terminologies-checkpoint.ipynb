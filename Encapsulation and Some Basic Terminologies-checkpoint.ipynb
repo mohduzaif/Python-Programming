{
 "cells": [
  {
   "cell_type": "markdown",
   "id": "75e00ee5-206b-4105-8bce-af3f3cfa4d33",
   "metadata": {},
   "source": [
    "### How objects access attributes. "
   ]
  },
  {
   "cell_type": "code",
   "execution_count": 56,
   "id": "aa225bc8-87de-4540-9525-6dad7a6a3478",
   "metadata": {},
   "outputs": [],
   "source": [
    "class Person:\n",
    "\n",
    "  def __init__(self, name_input, country_input):\n",
    "    self.name = name_input\n",
    "    self.country = country_input\n",
    "\n",
    "  def greet(self):\n",
    "    if self.country == 'india':\n",
    "      print('Namaste',self.name)\n",
    "    else:\n",
    "      print('Hello',self.name)\n"
   ]
  },
  {
   "cell_type": "code",
   "execution_count": 57,
   "id": "3d6ad6e0-ed80-42e6-8c13-9ec92636ec18",
   "metadata": {},
   "outputs": [],
   "source": [
    "p1 = Person('David', 'Australia')\n",
    "p2 = Person('Anushaa', 'India')"
   ]
  },
  {
   "cell_type": "code",
   "execution_count": 58,
   "id": "a5b4a08d-9d7b-4da2-a337-151aad1d8d66",
   "metadata": {},
   "outputs": [
    {
     "name": "stdout",
     "output_type": "stream",
     "text": [
      "David\n",
      "Anushaa\n"
     ]
    }
   ],
   "source": [
    "# How to access the attributes of the class\n",
    "print(p1.name)\n",
    "print(p2.name)"
   ]
  },
  {
   "cell_type": "code",
   "execution_count": 59,
   "id": "0b26f8cf-8300-43c8-a0d0-6c5f1cc3b3b5",
   "metadata": {},
   "outputs": [
    {
     "name": "stdout",
     "output_type": "stream",
     "text": [
      "Hello David\n",
      "Hello Anushaa\n"
     ]
    }
   ],
   "source": [
    "# How object access the methods of the class. \n",
    "p1.greet()\n",
    "p2.greet()"
   ]
  },
  {
   "cell_type": "markdown",
   "id": "1f5cd01e-e880-43ed-a3dc-0c7c060e0b5f",
   "metadata": {},
   "source": [
    "`NOTE : ` If we try to access the non-existential member of the class, it will through an error."
   ]
  },
  {
   "cell_type": "markdown",
   "id": "10a13f20-d6da-4379-8746-7592db384fba",
   "metadata": {},
   "source": [
    "### Attribute creation from outside of the class"
   ]
  },
  {
   "cell_type": "code",
   "execution_count": 24,
   "id": "233431d3-9bde-4847-922d-9815b85efc7a",
   "metadata": {},
   "outputs": [
    {
     "name": "stdout",
     "output_type": "stream",
     "text": [
      "Male\n",
      "Hello Saryas Iyar\n"
     ]
    }
   ],
   "source": [
    "# How we can add an attribute in the class from outside the class. \n",
    "p = Person('Saryas Iyar', 'India')\n",
    "p.gender = 'Male'\n",
    "print(p.gender)\n",
    "p.greet()"
   ]
  },
  {
   "cell_type": "markdown",
   "id": "6d1f9477-dbc7-4b0e-8544-c691041d7639",
   "metadata": {},
   "source": [
    "### Reference Variables\n",
    "\n",
    "- Reference variables hold the objects\n",
    "- We can create objects without reference variable as well\n",
    "- An object can have multiple reference variables\n",
    "- Assigning a new reference variable to an existing object does not create a new object"
   ]
  },
  {
   "cell_type": "code",
   "execution_count": 40,
   "id": "9c2252fb-8736-409a-83f2-1b4b68c3e178",
   "metadata": {},
   "outputs": [],
   "source": [
    "# object without a reference\n",
    "class Person:\n",
    "\n",
    "  def __init__(self):\n",
    "    self.name = 'Sams'\n",
    "    self.gender = 'Male'\n",
    "\n",
    "p = Person()\n",
    "q = p"
   ]
  },
  {
   "cell_type": "code",
   "execution_count": 41,
   "id": "8c0ec131-fbe5-40a6-a421-be6718d1245f",
   "metadata": {},
   "outputs": [
    {
     "name": "stdout",
     "output_type": "stream",
     "text": [
      "1357316908640\n",
      "1357316908640\n"
     ]
    }
   ],
   "source": [
    "# Multiple Reference \n",
    "\n",
    "print(id(p))\n",
    "print(id(q))"
   ]
  },
  {
   "cell_type": "markdown",
   "id": "9f7c1584-d3fe-49e4-840f-9487daa76beb",
   "metadata": {},
   "source": [
    "`NOTE : ` Here we see that the location of both the objects are same, so p and q are the reference of the object as Shown below in the             image"
   ]
  },
  {
   "attachments": {},
   "cell_type": "markdown",
   "id": "7f11698e-210b-4af8-a625-d945715f7eb4",
   "metadata": {},
   "source": [
    "<img src = 'C:\\Users\\Mohd Uzaif\\Desktop\\DS\\Python\\Reference_of_object.jpg' width = \"400\">"
   ]
  },
  {
   "cell_type": "markdown",
   "id": "a535493f-2b71-499d-a6ad-4f2a60ec3a07",
   "metadata": {},
   "source": [
    "#### Change attribute value with the help of 2nd object"
   ]
  },
  {
   "cell_type": "code",
   "execution_count": 42,
   "id": "ebc13806-0690-4d24-9f64-df5c369b9120",
   "metadata": {},
   "outputs": [
    {
     "name": "stdout",
     "output_type": "stream",
     "text": [
      "Sams\n",
      "Sams\n",
      "Carlos\n",
      "Carlos\n"
     ]
    }
   ],
   "source": [
    "print(p.name)\n",
    "print(q.name)\n",
    "\n",
    "q.name = 'Carlos'\n",
    "\n",
    "print(q.name)\n",
    "print(p.name)"
   ]
  },
  {
   "cell_type": "markdown",
   "id": "7f1d9927-4484-40d1-ad70-955121db26b5",
   "metadata": {},
   "source": [
    "### Pass by reference. "
   ]
  },
  {
   "cell_type": "code",
   "execution_count": 49,
   "id": "88754c68-ed24-485c-93cf-3ddb5d1ec545",
   "metadata": {},
   "outputs": [
    {
     "name": "stdout",
     "output_type": "stream",
     "text": [
      "Hi my name is Warner and I am a Male and I played Cricketer\n",
      "Hi my name is Sania Mirza and I am a Female and I played Tennis\n"
     ]
    }
   ],
   "source": [
    "class Person:\n",
    "    # Constructor of the class.  \n",
    "    def __init__(self,name,gender, profession):\n",
    "        self.name = name\n",
    "        self.gender = gender\n",
    "        self.profession = profession\n",
    "\n",
    "\n",
    "# outside the class -> function\n",
    "def greet(person):\n",
    "  print('Hi my name is',person.name,'and I am a',person.gender, 'and I played', person.profession)\n",
    "  p1 = Person('Sania Mirza','Female', 'Tennis')\n",
    "  return p1\n",
    "\n",
    "p = Person('Warner','Male', 'Cricketer')\n",
    "return_object = greet(p)\n",
    "print('Hi my name is',return_object.name,'and I am a',return_object.gender, 'and I played', return_object.profession)"
   ]
  },
  {
   "cell_type": "markdown",
   "id": "d6f03810-723e-47ee-b94a-2a67bad71101",
   "metadata": {},
   "source": [
    "### Object ki mutability"
   ]
  },
  {
   "cell_type": "code",
   "execution_count": 51,
   "id": "421700be-c844-4c39-b10b-1e34a7ffa9f9",
   "metadata": {},
   "outputs": [
    {
     "name": "stdout",
     "output_type": "stream",
     "text": [
      "1357316908304\n",
      "1357316908304\n"
     ]
    }
   ],
   "source": [
    "class Person:\n",
    "\n",
    "  def __init__(self,name,gender):\n",
    "    self.name = name\n",
    "    self.gender = gender\n",
    "\n",
    "# outside the class -> function\n",
    "def greet(person):\n",
    "  person.name = 'Smith'\n",
    "  return person\n",
    "\n",
    "p = Person('David','Male')\n",
    "print(id(p))\n",
    "p1 = greet(p)\n",
    "print(id(p1))"
   ]
  },
  {
   "cell_type": "markdown",
   "id": "06f21c97-8021-426f-91b1-772c221e3418",
   "metadata": {},
   "source": [
    "`NOTE : ` In the above code we see that we change the name of the person, but the address of the object remain same, that actually tells us that user defined objects are mutable in nature."
   ]
  },
  {
   "cell_type": "markdown",
   "id": "99b02479-921e-417f-92fb-56b5362945e3",
   "metadata": {
    "jp-MarkdownHeadingCollapsed": true
   },
   "source": [
    "### Encapsulation"
   ]
  },
  {
   "cell_type": "markdown",
   "id": "8353f304-f2a2-4ddf-8b7e-cbfe9736f19e",
   "metadata": {},
   "source": [
    "In Object-Oriented Programming (OOP), Encapsulation is the principle of bundling data (attributes or variables) and methods (functions or behaviors) that operate on that data into a single unit, typically a class. This creates a protective shield around the data, preventing direct access and modification from outside the class"
   ]
  },
  {
   "cell_type": "markdown",
   "id": "81d2a6f2-e66a-4aa3-9389-e35d45c5c7d4",
   "metadata": {},
   "source": [
    "<img src = 'C:\\Users\\Mohd Uzaif\\Desktop\\DS\\Python\\Encapsulation.png' width = \"400\">"
   ]
  },
  {
   "cell_type": "code",
   "execution_count": 75,
   "id": "e6a54be8-25de-40e4-bd1d-56b1be482b0c",
   "metadata": {},
   "outputs": [],
   "source": [
    "class Atm:\n",
    "\n",
    "  # constructor(special function)->superpower\n",
    "  def __init__(self):\n",
    "    print(id(self))\n",
    "    self.pin = ''\n",
    "    self.__balance = 0\n",
    "    self.menu()\n",
    "\n",
    "  def get_balance(self):\n",
    "    return self.__balance\n",
    "\n",
    "  def set_balance(self,new_value):\n",
    "    if type(new_value) == int:\n",
    "      self.__balance = new_value\n",
    "    else:\n",
    "      print('beta bahot maarenge')\n",
    "\n",
    "  def menu(self):\n",
    "    user_input = input(\"\"\"\n",
    "    Hi how can I help you?\n",
    "    1. Press 1 to create pin\n",
    "    2. Press 2 to change pin\n",
    "    3. Press 3 to check balance\n",
    "    4. Press 4 to withdraw\n",
    "    5. Anything else to exit\n",
    "    \"\"\")\n",
    "\n",
    "    if user_input == '1':\n",
    "      self.create_pin()\n",
    "    elif user_input == '2':\n",
    "      self.change_pin()\n",
    "    elif user_input == '3':\n",
    "      self.check_balance()\n",
    "    elif user_input == '4':\n",
    "      self.withdraw()\n",
    "    else:\n",
    "      exit()\n",
    "\n",
    "  def create_pin(self):\n",
    "    user_pin = input('enter your pin')\n",
    "    self.pin = user_pin\n",
    "\n",
    "    user_balance = int(input('enter balance'))\n",
    "    self.__balance = user_balance\n",
    "\n",
    "    print('pin created successfully')\n",
    "\n",
    "  def change_pin(self):\n",
    "    old_pin = input('enter old pin')\n",
    "\n",
    "    if old_pin == self.pin:\n",
    "      # let him change the pin\n",
    "      new_pin = input('enter new pin')\n",
    "      self.pin = new_pin\n",
    "      print('pin change successful')\n",
    "    else:\n",
    "      print('nai karne de sakta re baba')\n",
    "\n",
    "  def check_balance(self):\n",
    "    user_pin = input('enter your pin')\n",
    "    if user_pin == self.pin:\n",
    "      print('your balance is ',self.__balance)\n",
    "    else:\n",
    "      print('chal nikal yahan se')\n",
    "\n",
    "  def withdraw(self):\n",
    "    user_pin = input('enter the pin')\n",
    "    if user_pin == self.pin:\n",
    "      # allow to withdraw\n",
    "      amount = int(input('enter the amount'))\n",
    "      if amount <= self.__balance:\n",
    "        self.__balance = self.__balance - amount\n",
    "        print('withdrawl successful.balance is',self.__balance)\n",
    "      else:\n",
    "        print('abe garib')\n",
    "    else:\n",
    "      print('sale chor')"
   ]
  },
  {
   "cell_type": "code",
   "execution_count": 76,
   "id": "8117ab2d-3a46-4417-9d34-c955024a0490",
   "metadata": {},
   "outputs": [
    {
     "name": "stdout",
     "output_type": "stream",
     "text": [
      "1357328122944\n"
     ]
    },
    {
     "name": "stdin",
     "output_type": "stream",
     "text": [
      "\n",
      "    Hi how can I help you?\n",
      "    1. Press 1 to create pin\n",
      "    2. Press 2 to change pin\n",
      "    3. Press 3 to check balance\n",
      "    4. Press 4 to withdraw\n",
      "    5. Anything else to exit\n",
      "     1\n",
      "enter your pin 1234\n",
      "enter balance 1000\n"
     ]
    },
    {
     "name": "stdout",
     "output_type": "stream",
     "text": [
      "pin created successfully\n"
     ]
    }
   ],
   "source": [
    "obj = Atm()"
   ]
  },
  {
   "cell_type": "code",
   "execution_count": 77,
   "id": "50e9a3e4-22e8-4a5f-b05e-55ca317b561a",
   "metadata": {},
   "outputs": [],
   "source": [
    "obj.set_balance(1000)"
   ]
  },
  {
   "cell_type": "code",
   "execution_count": 78,
   "id": "56f7b650-cb58-4fff-86e9-cfe77a07bc13",
   "metadata": {},
   "outputs": [
    {
     "data": {
      "text/plain": [
       "1000"
      ]
     },
     "execution_count": 78,
     "metadata": {},
     "output_type": "execute_result"
    }
   ],
   "source": [
    "obj.get_balance()"
   ]
  },
  {
   "cell_type": "code",
   "execution_count": 79,
   "id": "ebcf6dc4-dc47-4478-ac99-8489c9e4f214",
   "metadata": {},
   "outputs": [
    {
     "name": "stdin",
     "output_type": "stream",
     "text": [
      "enter the pin 1234\n",
      "enter the amount 50\n"
     ]
    },
    {
     "name": "stdout",
     "output_type": "stream",
     "text": [
      "withdrawl successful.balance is 950\n"
     ]
    }
   ],
   "source": [
    "obj.withdraw()"
   ]
  },
  {
   "cell_type": "markdown",
   "id": "b44612c5-ee25-46dc-a967-4b9ec3822724",
   "metadata": {},
   "source": [
    "### Collection of Objects.\n",
    "- List of Objects.\n",
    "- Dictionary of Objects.\n",
    "- Sets of Objects."
   ]
  },
  {
   "cell_type": "code",
   "execution_count": 80,
   "id": "395cee6c-250a-4d87-ad87-1ac3cac96347",
   "metadata": {},
   "outputs": [
    {
     "name": "stdout",
     "output_type": "stream",
     "text": [
      "Sams Male\n",
      "Klassan Male\n",
      "Sophie Female\n"
     ]
    }
   ],
   "source": [
    "# List of objects. \n",
    "\n",
    "class Person:\n",
    "  def __init__(self,name,gender):\n",
    "    self.name = name\n",
    "    self.gender = gender\n",
    "\n",
    "# Objects of the class. \n",
    "p1 = Person('Sams','Male')\n",
    "p2 = Person('Klassan','Male')\n",
    "p3 = Person('Sophie','Female')\n",
    "\n",
    "# List of objects. \n",
    "L = [p1,p2,p3]\n",
    "\n",
    "# Iteration over the List of objects.\n",
    "for i in L:\n",
    "  print(i.name,i.gender)"
   ]
  },
  {
   "cell_type": "code",
   "execution_count": 83,
   "id": "e3635169-a987-4d83-b64c-d7b8914421c7",
   "metadata": {},
   "outputs": [
    {
     "name": "stdout",
     "output_type": "stream",
     "text": [
      "Sams Male\n",
      "Klassan Male\n",
      "Sophie Female\n"
     ]
    }
   ],
   "source": [
    "# Dictionary of objects. \n",
    "\n",
    "class Person:\n",
    "  def __init__(self,name,gender):\n",
    "    self.name = name\n",
    "    self.gender = gender\n",
    "\n",
    "# Objects of the class. \n",
    "p1 = Person('Sams','Male')\n",
    "p2 = Person('Klassan','Male')\n",
    "p3 = Person('Sophie','Female')\n",
    "\n",
    "# Dictionary of objects. \n",
    "d = {\n",
    "        'p1' : p1,\n",
    "        'p2' : p2, \n",
    "        'p3' : p3 \n",
    "    }\n",
    "\n",
    "# Iteration over the Dictionary of objects.\n",
    "for key, value in d.items():\n",
    "    print(value.name, value.gender)"
   ]
  },
  {
   "cell_type": "markdown",
   "id": "9a109be4-1cf0-4f23-8118-e39c04bd54ea",
   "metadata": {},
   "source": [
    "### Static Variables(Vs Instance variables)"
   ]
  },
  {
   "cell_type": "code",
   "execution_count": 97,
   "id": "82a3b524-3448-45b0-a890-6cdca5a1d65c",
   "metadata": {},
   "outputs": [],
   "source": [
    "class Atm:\n",
    "\n",
    "  __counter = 1\n",
    "\n",
    "  # constructor(special function)->superpower -> \n",
    "  def __init__(self):\n",
    "    print(id(self))\n",
    "    self.pin = ''\n",
    "    self.__balance = 0\n",
    "    self.cid = Atm.__counter\n",
    "    Atm.__counter = Atm.__counter + 1\n",
    "    #self.menu()\n",
    "\n",
    "  # utility functions\n",
    "  @staticmethod\n",
    "  def get_counter():\n",
    "    return Atm.__counter\n",
    "\n",
    "\n",
    "  def get_balance(self):\n",
    "    return self.__balance\n",
    "\n",
    "  def set_balance(self,new_value):\n",
    "    if type(new_value) == int:\n",
    "      self.__balance = new_value\n",
    "    else:\n",
    "      print('beta bahot maarenge')\n",
    "\n",
    "  def __menu(self):\n",
    "    user_input = input(\"\"\"\n",
    "    Hi how can I help you?\n",
    "    1. Press 1 to create pin\n",
    "    2. Press 2 to change pin\n",
    "    3. Press 3 to check balance\n",
    "    4. Press 4 to withdraw\n",
    "    5. Anything else to exit\n",
    "    \"\"\")\n",
    "\n",
    "    if user_input == '1':\n",
    "      self.create_pin()\n",
    "    elif user_input == '2':\n",
    "      self.change_pin()\n",
    "    elif user_input == '3':\n",
    "      self.check_balance()\n",
    "    elif user_input == '4':\n",
    "      self.withdraw()\n",
    "    else:\n",
    "      exit()\n",
    "\n",
    "  def create_pin(self):\n",
    "    user_pin = input('enter your pin')\n",
    "    self.pin = user_pin\n",
    "\n",
    "    user_balance = int(input('enter balance'))\n",
    "    self.__balance = user_balance\n",
    "\n",
    "    print('pin created successfully')\n",
    "\n",
    "  def change_pin(self):\n",
    "    old_pin = input('enter old pin')\n",
    "\n",
    "    if old_pin == self.pin:\n",
    "      # let him change the pin\n",
    "      new_pin = input('enter new pin')\n",
    "      self.pin = new_pin\n",
    "      print('pin change successful')\n",
    "    else:\n",
    "      print('nai karne de sakta re baba')\n",
    "\n",
    "  def check_balance(self):\n",
    "    user_pin = input('enter your pin')\n",
    "    if user_pin == self.pin:\n",
    "      print('your balance is ',self.__balance)\n",
    "    else:\n",
    "      print('chal nikal yahan se')\n",
    "\n",
    "  def withdraw(self):\n",
    "    user_pin = input('enter the pin')\n",
    "    if user_pin == self.pin:\n",
    "      # allow to withdraw\n",
    "      amount = int(input('enter the amount'))\n",
    "      if amount <= self.__balance:\n",
    "        self.__balance = self.__balance - amount\n",
    "        print('withdrawl successful.balance is',self.__balance)\n",
    "      else:\n",
    "        print('abe garib')\n",
    "    else:\n",
    "      print('sale chor')"
   ]
  },
  {
   "cell_type": "code",
   "execution_count": 98,
   "id": "391498de-7a3f-4a3e-9641-89a1249e7e49",
   "metadata": {},
   "outputs": [
    {
     "name": "stdout",
     "output_type": "stream",
     "text": [
      "1357328127984\n"
     ]
    }
   ],
   "source": [
    "c1 = Atm()"
   ]
  },
  {
   "cell_type": "code",
   "execution_count": 99,
   "id": "98448936-8322-428b-b11a-6451e21311c3",
   "metadata": {},
   "outputs": [
    {
     "name": "stdout",
     "output_type": "stream",
     "text": [
      "1357320808848\n"
     ]
    }
   ],
   "source": [
    "c2 = Atm()"
   ]
  },
  {
   "cell_type": "code",
   "execution_count": 100,
   "id": "845998d7-ed19-4530-81d2-fc76a6beef3c",
   "metadata": {},
   "outputs": [
    {
     "name": "stdout",
     "output_type": "stream",
     "text": [
      "1357320806608\n"
     ]
    }
   ],
   "source": [
    "c3 = Atm()"
   ]
  },
  {
   "cell_type": "code",
   "execution_count": 107,
   "id": "83050aaf-109a-4807-b69b-72962fc38d97",
   "metadata": {},
   "outputs": [
    {
     "name": "stdout",
     "output_type": "stream",
     "text": [
      "1\n",
      "2\n",
      "3\n",
      "4\n"
     ]
    }
   ],
   "source": [
    "print(c1.cid)\n",
    "print(c2.cid)\n",
    "print(c3.cid)\n",
    "     \n",
    "# using getter function. \n",
    "print(Atm.get_counter())"
   ]
  },
  {
   "cell_type": "markdown",
   "id": "a8dce224-6c21-4030-8011-799dd961328c",
   "metadata": {},
   "source": [
    "`NOTE : ` Here we make a static variable called counter, which is available for all the objects. "
   ]
  },
  {
   "cell_type": "markdown",
   "id": "3cfd6d90-5e4d-4f66-b72b-73e7d554f921",
   "metadata": {},
   "source": [
    "##### \n",
    "- Instance Variable are associated with the objects, means instance varaible are of the objects.\n",
    "- But the static variables are of class variable those are available for all the objects."
   ]
  },
  {
   "cell_type": "markdown",
   "id": "78c5ae64-6b7d-4a80-8558-ae22f431cb80",
   "metadata": {},
   "source": [
    "### Static Variable"
   ]
  },
  {
   "cell_type": "markdown",
   "id": "850187ca-ff71-4c69-813b-c5a7d7fe4216",
   "metadata": {},
   "source": [
    "##### Points to remember about static\n",
    "\n",
    "- Static attributes are created at class level.\n",
    "- Static attributes are accessed using ClassName.\n",
    "- Static attributes are object independent. We can access them without creating instance (object) of the class in which they are defined.\n",
    "- The value stored in static attribute is shared between all instances(objects) of the class in which the static attribute is defined."
   ]
  },
  {
   "cell_type": "markdown",
   "id": "119424f1-9e0d-44b4-a87d-9bc4f3f0d22a",
   "metadata": {},
   "source": [
    "### Static Methods"
   ]
  },
  {
   "cell_type": "markdown",
   "id": "d60a2486-7897-4bcd-8224-f9b1cac56470",
   "metadata": {},
   "source": [
    "In Python, a static method is a method that belongs to a class rather than to a specific instance of the class. It does not have access to the instance (self) or class (cls) variables. It is defined using the @staticmethod decorator. "
   ]
  },
  {
   "cell_type": "code",
   "execution_count": 109,
   "id": "b506cff8-103c-4693-9fe5-4bf3a02ee487",
   "metadata": {},
   "outputs": [
    {
     "name": "stdout",
     "output_type": "stream",
     "text": [
      "Simba drinks water from the well in the circus\n",
      "Water source of lions: well in the circus\n"
     ]
    }
   ],
   "source": [
    "class Lion:\n",
    "  __water_source=\"well in the circus\"\n",
    "\n",
    "  def __init__(self,name, gender):\n",
    "      self.__name=name\n",
    "      self.__gender=gender\n",
    "\n",
    "  def drinks_water(self):\n",
    "      print(self.__name,\"drinks water from the\",Lion.__water_source)\n",
    "\n",
    "  @staticmethod\n",
    "  def get_water_source():\n",
    "      return Lion.__water_source\n",
    "\n",
    "simba = Lion(\"Simba\",\"Male\")\n",
    "simba.drinks_water()\n",
    "print( \"Water source of lions:\",Lion.get_water_source())"
   ]
  },
  {
   "cell_type": "code",
   "execution_count": null,
   "id": "53f24adb-41ee-4b10-8a83-aa8b0cc08d39",
   "metadata": {},
   "outputs": [],
   "source": []
  }
 ],
 "metadata": {
  "kernelspec": {
   "display_name": "Python 3 (ipykernel)",
   "language": "python",
   "name": "python3"
  },
  "language_info": {
   "codemirror_mode": {
    "name": "ipython",
    "version": 3
   },
   "file_extension": ".py",
   "mimetype": "text/x-python",
   "name": "python",
   "nbconvert_exporter": "python",
   "pygments_lexer": "ipython3",
   "version": "3.13.1"
  }
 },
 "nbformat": 4,
 "nbformat_minor": 5
}
