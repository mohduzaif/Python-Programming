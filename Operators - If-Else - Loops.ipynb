{
 "cells": [
  {
   "cell_type": "markdown",
   "id": "d6bdd4d6-4e66-4b09-afe5-229fc22a7cfb",
   "metadata": {},
   "source": [
    "## Operator in Python. "
   ]
  },
  {
   "cell_type": "markdown",
   "id": "8d90c28f-af44-4500-81c5-d9b2138bef86",
   "metadata": {},
   "source": [
    "#### Arithmetic Operator"
   ]
  },
  {
   "cell_type": "code",
   "execution_count": null,
   "id": "67290dd4-a486-4491-8760-a52945d86a77",
   "metadata": {},
   "outputs": [],
   "source": [
    "print(3 + 4)\n",
    "\n",
    "print(3 * 4) \n",
    "\n",
    "print(3 - 4) \n",
    "\n",
    "print(15 / 4) \n",
    "\n",
    "print(15 // 4)\n",
    "\n",
    "print(15 % 4)"
   ]
  },
  {
   "cell_type": "markdown",
   "id": "183a345f-075b-4d2f-978f-4cf947195947",
   "metadata": {},
   "source": [
    "#### Relational Operator"
   ]
  },
  {
   "cell_type": "code",
   "execution_count": null,
   "id": "160f4c50-77d5-40ba-a2b1-ca61d1ebf788",
   "metadata": {},
   "outputs": [],
   "source": [
    "print(3 > 2)\n",
    "\n",
    "print(45 < 34) \n",
    "\n",
    "print(4 == 5) \n",
    "\n",
    "print(12 != 34) \n",
    "\n",
    "print(23 <= 45)\n",
    "\n",
    "print(54 >= 4)\n"
   ]
  },
  {
   "cell_type": "markdown",
   "id": "ff1c9d8d-e17a-481e-a778-5635db5c8d3f",
   "metadata": {},
   "source": [
    "#### Logical Operator"
   ]
  },
  {
   "cell_type": "code",
   "execution_count": null,
   "id": "79abc8f6-97e5-4aee-ba43-5c5d38afc452",
   "metadata": {},
   "outputs": [],
   "source": [
    "print(3 and 0)\n",
    "\n",
    "print(6 and 2)\n",
    "\n",
    "print(0 or 0)\n",
    "\n",
    "print(0 or 1)\n",
    "\n",
    "print(not 0)\n",
    "\n",
    "print(not 1)"
   ]
  },
  {
   "cell_type": "markdown",
   "id": "c7d8f3b2-b7a6-48ee-9319-96d785b1bb10",
   "metadata": {},
   "source": [
    "#### Bitwise Operator"
   ]
  },
  {
   "cell_type": "code",
   "execution_count": null,
   "id": "d186d7ed-cd95-4633-a823-9521791d3185",
   "metadata": {},
   "outputs": [],
   "source": [
    "print(3 & 4)\n",
    "\n",
    "print(3 | 4)\n",
    "\n",
    "print(~4) "
   ]
  },
  {
   "cell_type": "markdown",
   "id": "3c002b9d-4bc1-4ccf-b02e-34fe328c206d",
   "metadata": {},
   "source": [
    "#### Assignment Operator"
   ]
  },
  {
   "cell_type": "code",
   "execution_count": null,
   "id": "4e317e7c-ff13-4a7b-a66f-06af42406acb",
   "metadata": {},
   "outputs": [],
   "source": [
    "number = 2\n",
    "print(number)\n",
    "\n",
    "number += 4\n",
    "print(number)"
   ]
  },
  {
   "cell_type": "markdown",
   "id": "f7798a36-0fe7-4c30-8848-96f54249c9ef",
   "metadata": {},
   "source": [
    "#### Membership Operator"
   ]
  },
  {
   "cell_type": "markdown",
   "id": "a4f5fa9e-d54c-4b4d-a15c-405c6c31b9df",
   "metadata": {},
   "source": [
    "This operator is work with every data structure in python (List, tuple, sets, dictionary)."
   ]
  },
  {
   "cell_type": "code",
   "execution_count": null,
   "id": "d8114e71-d273-40ab-9f06-6aaa533b66da",
   "metadata": {},
   "outputs": [],
   "source": [
    "print('D' in 'Delhi')\n",
    "\n",
    "print(1 in [3, 2, 6, 7, 5, 43, 89])\n",
    "\n",
    "print(1 not in [3, 2, 6, 7, 5, 43, 89])"
   ]
  },
  {
   "cell_type": "markdown",
   "id": "c52ab786-771c-450e-b170-1518451c26d3",
   "metadata": {},
   "source": [
    "#### Program using operator."
   ]
  },
  {
   "cell_type": "code",
   "execution_count": null,
   "id": "dc049a88-24e5-4fea-97ef-30e1f4cb45ed",
   "metadata": {},
   "outputs": [],
   "source": [
    "# Find the sum of digit of the number. \n",
    "number = int(input('Enter the number : '))\n",
    "\n",
    "# Calculate sum.\n",
    "sum_of_digit = 0\n",
    "while(number >= 0):\n",
    "    rem = number % 10\n",
    "    number = number / 10\n",
    "    sum_of_digit += rem\n",
    "\n",
    "# Print the result. \n",
    "print(sum_of_digit)\n"
   ]
  },
  {
   "cell_type": "markdown",
   "id": "df2b1edf-b3f5-444d-93c5-13a1fa2dc8be",
   "metadata": {},
   "source": [
    "## If-Else."
   ]
  },
  {
   "cell_type": "markdown",
   "id": "5182718c-0f9e-4a0d-bd86-41007ba37bda",
   "metadata": {},
   "source": [
    "#### If-Else Example. \n",
    "#### Login program and Intentation.\n",
    "\n",
    "#### email --> abc@gmail.com\n",
    "#### password --> 1234\n"
   ]
  },
  {
   "cell_type": "code",
   "execution_count": null,
   "id": "0f21a2b2-cf73-408d-ab26-e2bdd94a07a5",
   "metadata": {},
   "outputs": [],
   "source": [
    "\n",
    "# Take inputs of email and password, and store them into a variable.\n",
    "email = input('Enter your Email : ')\n",
    "password = input('Enter your Password : ')\n",
    "\n",
    "# If both are correctly entered. \n",
    "if email == 'abc@gmail.com' and password == '1234':\n",
    "    print('Welcome you are successfully Logged In.')\n",
    "# If email is correct, and password is not correct.  \n",
    "elif email == 'abc@gmail.com' and password != '1234':\n",
    "    print('Your password is not Correct, enter the correct password.')\n",
    "# If password is not correct, but Email is correctly entered. \n",
    "elif email != 'abc@gmail.com' and password == '1234':\n",
    "    print('Your Email is not Correct, Enter the correct Email.')\n",
    "# Both are wrong \n",
    "else:\n",
    "    print('Your Credentials are not correct, Enter your correct Credentials.')"
   ]
  },
  {
   "cell_type": "markdown",
   "id": "320c6251-0c76-474b-b58c-a786ab7f499d",
   "metadata": {},
   "source": [
    "#### If-Else Example\n",
    "#### 1. Find the min of 3 given numbers.\n",
    "#### 2. Menu Driven Program."
   ]
  },
  {
   "cell_type": "code",
   "execution_count": null,
   "id": "a246a8ea-dc64-4627-b8fc-c0ce955ac822",
   "metadata": {},
   "outputs": [],
   "source": [
    "# Take the input, and store them into a variable.\n",
    "number1 = int(input('Enter the first number : '))\n",
    "number2 = int(input('Enter the second number : '))\n",
    "number3 = int(input('Enter the third number : '))\n",
    "\n",
    "# Logic for finding minimum from given 3 number. \n",
    "if number1 < number2 and number1 < number3:\n",
    "    print('The minimum number is : ', number1)\n",
    "elif number2 < number3:\n",
    "    print('The minimum number is : ', number2)\n",
    "else:\n",
    "    print('The minimum number is : ', number3)\n"
   ]
  },
  {
   "cell_type": "markdown",
   "id": "6250c885-6702-4e1a-9faa-097b414c3baa",
   "metadata": {},
   "source": [
    "#### If-Else Example. \n",
    "#### Menu driven ATM using If-Else. "
   ]
  },
  {
   "cell_type": "code",
   "execution_count": null,
   "id": "d94b1dc5-396f-4a39-b892-57a429d6d91b",
   "metadata": {},
   "outputs": [],
   "source": [
    "# Take the input. \n",
    "menu = input(\"\"\"\n",
    "                Hi how can I help you ? \n",
    "                1. Pin Change ?\n",
    "                2. Balance Check ?\n",
    "                3. Withdrawl Amount ? \n",
    "                4. Exit\n",
    "                \"\"\")\n",
    "\n",
    "if menu == '1':\n",
    "    print('Pin Changed Successfully.')\n",
    "elif menu == '2':    \n",
    "    print('Balanced Checked.')\n",
    "elif menu == '3':\n",
    "    print('You amount is withdrawl successfully.')\n",
    "else:\n",
    "    print('Thanks for using this System.')"
   ]
  },
  {
   "cell_type": "markdown",
   "id": "bcae8db2-2a18-4a01-8908-392a822008b9",
   "metadata": {},
   "source": [
    "## Modules in Python. "
   ]
  },
  {
   "cell_type": "code",
   "execution_count": null,
   "id": "bea6efb0-73a2-43f2-aabf-386812cdf6aa",
   "metadata": {},
   "outputs": [],
   "source": [
    "# math module. \n",
    "import math \n",
    "\n",
    "print(math.factorial(5))\n",
    "print(math.floor(6.76))\n",
    "print(math.pow(2, 4))"
   ]
  },
  {
   "cell_type": "code",
   "execution_count": null,
   "id": "86ffe733-9aa1-4883-b3f4-1307609f4d9b",
   "metadata": {},
   "outputs": [],
   "source": [
    "# random module. \n",
    "import random\n",
    "\n",
    "print(random.randint(1, 100))"
   ]
  },
  {
   "cell_type": "code",
   "execution_count": null,
   "id": "2a08dbc0-e4ee-4c50-b02d-92ad6e7cfe18",
   "metadata": {},
   "outputs": [],
   "source": [
    "# keyword module. \n",
    "import keyword\n",
    "\n",
    "print(keyword.kwlist)"
   ]
  },
  {
   "cell_type": "code",
   "execution_count": null,
   "id": "03c1c201-94d1-43d5-a7ad-da3bb51e1774",
   "metadata": {},
   "outputs": [],
   "source": [
    "# datetime module. \n",
    "import datetime\n",
    "\n",
    "print(datetime.datetime.now())"
   ]
  },
  {
   "cell_type": "markdown",
   "id": "69c5d004-dd81-4450-92fa-6c047dba5352",
   "metadata": {},
   "source": [
    "## Loops in python. "
   ]
  },
  {
   "cell_type": "markdown",
   "id": "84210d63-6efe-4bd8-9bfa-ac63c902b9b3",
   "metadata": {
    "jp-MarkdownHeadingCollapsed": true
   },
   "source": [
    "### While Loop. "
   ]
  },
  {
   "cell_type": "code",
   "execution_count": null,
   "id": "b25853a0-24bc-492e-8752-6fb0f232214b",
   "metadata": {},
   "outputs": [],
   "source": [
    "# print a table using while loop. \n",
    "number = int(input('Enter the Number : '))\n",
    "\n",
    "i = 1\n",
    "while i <= 10:\n",
    "    print(number, '*', i, '=', number * i)\n",
    "    i += 1 \n"
   ]
  },
  {
   "cell_type": "code",
   "execution_count": null,
   "id": "a92e7be3-1407-4194-a9d6-caba7b5cb1aa",
   "metadata": {},
   "outputs": [],
   "source": [
    "# Else with while loop. \n",
    "\n",
    "i = 1\n",
    "while i < 4:\n",
    "    print(i) \n",
    "    i += 1\n",
    "else: \n",
    "    print('Limit Exceed!!')\n",
    "    "
   ]
  },
  {
   "cell_type": "code",
   "execution_count": null,
   "id": "8147a3b9-1424-4316-8817-d92fcda88127",
   "metadata": {},
   "outputs": [],
   "source": [
    "# Guessing Game.\n",
    "import random\n",
    "\n",
    "# Generate a random number.\n",
    "lottery_number = random.randint(1, 100)\n",
    "# print(lottery_number)\n",
    "\n",
    "# Guessing by the user\n",
    "guess_number = int(input('Guess the number : '))\n",
    "\n",
    "counter = 1\n",
    "# Tell user if it guess correctly or not.\n",
    "while lottery_number != guess_number:\n",
    "    if lottery_number < guess_number: \n",
    "        print('Wrong Guess, Try to Guess the Lower number.') \n",
    "    else: \n",
    "        print('Wrong Guess, Try to Guess the Higher number.')\n",
    "    guess_number = int(input('Guess the number Again : '))\n",
    "    counter += 1 \n",
    "else:\n",
    "    print('Congrats, Your Guess is correct.')\n",
    "    print('Total Attempt takes is ', counter)"
   ]
  },
  {
   "cell_type": "code",
   "execution_count": null,
   "id": "4fa486bb-8e40-4916-80c9-8cbceaa11c37",
   "metadata": {},
   "outputs": [],
   "source": [
    "help('modules')"
   ]
  },
  {
   "cell_type": "markdown",
   "id": "ccbef2dd-a36f-4cec-b290-81d1abb10d83",
   "metadata": {},
   "source": [
    "### For Loop."
   ]
  },
  {
   "cell_type": "code",
   "execution_count": null,
   "id": "6d7dbd1b-318b-4404-9fbe-36ca2131fb72",
   "metadata": {},
   "outputs": [],
   "source": [
    "# Table of a number using for loop. \n",
    "number = int(input('Enter a number : '))\n",
    "\n",
    "for i in range(1, 11): \n",
    "    print(number, '*', i, '=', number * i) "
   ]
  },
  {
   "cell_type": "markdown",
   "id": "493b0581-f08c-4125-b9bd-7e6fb38fe493",
   "metadata": {},
   "source": [
    "#### Program - The current population of a town is 10000. The population of the town is increasing at the rate of 10% per year. You have to write a program to find out the population at the end of each of the last 10 years."
   ]
  },
  {
   "cell_type": "code",
   "execution_count": null,
   "id": "dd80d49e-1a2d-4c38-ab4f-e432a6d986eb",
   "metadata": {},
   "outputs": [],
   "source": [
    "# Two values that are given in the problem. \n",
    "curr_population = 10000\n",
    "rate = 10 \n",
    "\n",
    "# loop for print the population of last 10 years. \n",
    "for i in range(10, 0, -1): \n",
    "    print(curr_population)\n",
    "    curr_population = curr_population - 0.1 * curr_population"
   ]
  },
  {
   "cell_type": "markdown",
   "id": "63488ef5-a369-43ab-a691-b5ebf4801e77",
   "metadata": {},
   "source": [
    "#### Progarm to calculate the sum of the Series."
   ]
  },
  {
   "cell_type": "markdown",
   "id": "02b5fb10-5048-4626-a68f-a72fc69ee6eb",
   "metadata": {},
   "source": [
    "##### Sequence Sum : 1/1! + 2/2! + 3/3! + ..."
   ]
  },
  {
   "cell_type": "code",
   "execution_count": null,
   "id": "fae5393e-0618-405b-b060-c3a2992636e0",
   "metadata": {},
   "outputs": [],
   "source": [
    "import math\n",
    "\n",
    "number = int(input('Enter the last number of the series : '))\n",
    "\n",
    "sequence_sum = 0\n",
    "for i in range(1, number + 1): \n",
    "    sequence_sum += i/math.factorial(i)\n",
    "\n",
    "print('Sequence sum is : ', sequence_sum)"
   ]
  },
  {
   "cell_type": "code",
   "execution_count": null,
   "id": "f9542bdb-4893-441e-8cb0-6a940b1da458",
   "metadata": {},
   "outputs": [],
   "source": []
  }
 ],
 "metadata": {
  "kernelspec": {
   "display_name": "Python 3 (ipykernel)",
   "language": "python",
   "name": "python3"
  },
  "language_info": {
   "codemirror_mode": {
    "name": "ipython",
    "version": 3
   },
   "file_extension": ".py",
   "mimetype": "text/x-python",
   "name": "python",
   "nbconvert_exporter": "python",
   "pygments_lexer": "ipython3",
   "version": "3.13.1"
  }
 },
 "nbformat": 4,
 "nbformat_minor": 5
}
